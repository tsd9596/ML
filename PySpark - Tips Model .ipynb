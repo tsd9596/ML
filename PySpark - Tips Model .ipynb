{
 "cells": [
  {
   "cell_type": "code",
   "execution_count": null,
   "id": "3c8ab8b9",
   "metadata": {},
   "outputs": [],
   "source": [
    "import pyspark\n",
    "from pyspark.sql import SparkSession\n",
    "spark = SparkSession.builder.appName('mode').getOrCreate()"
   ]
  },
  {
   "cell_type": "code",
   "execution_count": null,
   "id": "389236e5",
   "metadata": {},
   "outputs": [],
   "source": [
    "spark"
   ]
  },
  {
   "cell_type": "code",
   "execution_count": null,
   "id": "34101d00",
   "metadata": {},
   "outputs": [],
   "source": [
    "df = spark.read.csv(r\"C:\\Users\\tsd95\\CSV Files\\Model\\tips.csv\",header=True,inferSchema=True)"
   ]
  },
  {
   "cell_type": "code",
   "execution_count": null,
   "id": "bd567f37",
   "metadata": {},
   "outputs": [],
   "source": [
    "df.show()"
   ]
  },
  {
   "cell_type": "code",
   "execution_count": null,
   "id": "35742cf8",
   "metadata": {},
   "outputs": [],
   "source": [
    "df.columns"
   ]
  },
  {
   "cell_type": "code",
   "execution_count": null,
   "id": "6553f6d0",
   "metadata": {},
   "outputs": [],
   "source": [
    "df.printSchema()"
   ]
  },
  {
   "cell_type": "code",
   "execution_count": null,
   "id": "8f82cda3",
   "metadata": {},
   "outputs": [],
   "source": [
    "from pyspark.ml.feature import StringIndexer"
   ]
  },
  {
   "cell_type": "code",
   "execution_count": null,
   "id": "cbd7c47f",
   "metadata": {},
   "outputs": [],
   "source": [
    "ob = StringIndexer(inputCols=['sex','smoker','day','time'],outputCols=['En_sex','En_smoker','Enday','Entime'])"
   ]
  },
  {
   "cell_type": "code",
   "execution_count": null,
   "id": "9324b164",
   "metadata": {},
   "outputs": [],
   "source": [
    "df1 = ob.fit(df).transform(df)"
   ]
  },
  {
   "cell_type": "code",
   "execution_count": null,
   "id": "3ceae146",
   "metadata": {},
   "outputs": [],
   "source": [
    "df1.show()"
   ]
  },
  {
   "cell_type": "code",
   "execution_count": null,
   "id": "3b85c6f2",
   "metadata": {},
   "outputs": [],
   "source": [
    "df2 = df1.drop('sex','smoker','day','time')"
   ]
  },
  {
   "cell_type": "code",
   "execution_count": null,
   "id": "774eec01",
   "metadata": {},
   "outputs": [],
   "source": [
    "df2.show()"
   ]
  },
  {
   "cell_type": "code",
   "execution_count": null,
   "id": "58946ca2",
   "metadata": {},
   "outputs": [],
   "source": [
    "from pyspark.ml.feature import VectorAssembler"
   ]
  },
  {
   "cell_type": "code",
   "execution_count": null,
   "id": "f1319a1e",
   "metadata": {},
   "outputs": [],
   "source": [
    "obj = VectorAssembler(inputCols=['total_bill','size','En_sex','En_smoker','Enday','Entime'],outputCol='Independant Feature')"
   ]
  },
  {
   "cell_type": "code",
   "execution_count": null,
   "id": "eb7d016f",
   "metadata": {},
   "outputs": [],
   "source": [
    "X = obj.transform(df2)"
   ]
  },
  {
   "cell_type": "code",
   "execution_count": null,
   "id": "885af4ac",
   "metadata": {},
   "outputs": [],
   "source": [
    "X.show()"
   ]
  },
  {
   "cell_type": "code",
   "execution_count": null,
   "id": "e607dd09",
   "metadata": {},
   "outputs": [],
   "source": [
    "X1 = X.select('Independant Feature')"
   ]
  },
  {
   "cell_type": "code",
   "execution_count": null,
   "id": "94b83be2",
   "metadata": {},
   "outputs": [],
   "source": [
    "X1.show()"
   ]
  },
  {
   "cell_type": "code",
   "execution_count": null,
   "id": "614eb0a8",
   "metadata": {},
   "outputs": [],
   "source": [
    "F_df = X.select('Independant Feature','tip')"
   ]
  },
  {
   "cell_type": "code",
   "execution_count": null,
   "id": "111f972c",
   "metadata": {},
   "outputs": [],
   "source": [
    "F_df.show()"
   ]
  },
  {
   "cell_type": "code",
   "execution_count": null,
   "id": "b36ea911",
   "metadata": {},
   "outputs": [],
   "source": [
    "from pyspark.ml.regression import LinearRegression"
   ]
  },
  {
   "cell_type": "code",
   "execution_count": null,
   "id": "41c0ec04",
   "metadata": {},
   "outputs": [],
   "source": [
    "train_data,test_data = F_df.randomSplit([0.75,0.25])"
   ]
  },
  {
   "cell_type": "code",
   "execution_count": null,
   "id": "f62d4e5d",
   "metadata": {},
   "outputs": [],
   "source": [
    "print(train_data.count())\n",
    "print(test_data.count())"
   ]
  },
  {
   "cell_type": "code",
   "execution_count": null,
   "id": "9aaf69e5",
   "metadata": {},
   "outputs": [],
   "source": [
    "F_df.count()"
   ]
  },
  {
   "cell_type": "code",
   "execution_count": null,
   "id": "50e94fe7",
   "metadata": {},
   "outputs": [],
   "source": [
    "model = LinearRegression(featuresCol='Independant Feature',labelCol='tip')"
   ]
  },
  {
   "cell_type": "code",
   "execution_count": null,
   "id": "145a5a69",
   "metadata": {},
   "outputs": [],
   "source": [
    "F_model = model.fit(train_data)"
   ]
  },
  {
   "cell_type": "code",
   "execution_count": null,
   "id": "d0972ad8",
   "metadata": {},
   "outputs": [],
   "source": [
    "F_model.coefficients"
   ]
  },
  {
   "cell_type": "code",
   "execution_count": null,
   "id": "04c865d4",
   "metadata": {},
   "outputs": [],
   "source": [
    "F_model.intercept"
   ]
  },
  {
   "cell_type": "code",
   "execution_count": null,
   "id": "f337c81d",
   "metadata": {},
   "outputs": [],
   "source": [
    "yPred = F_model.evaluate(test_data)"
   ]
  },
  {
   "cell_type": "code",
   "execution_count": null,
   "id": "518992de",
   "metadata": {},
   "outputs": [],
   "source": [
    "yPred.predictions.show()"
   ]
  },
  {
   "cell_type": "code",
   "execution_count": null,
   "id": "21ee9c9f",
   "metadata": {},
   "outputs": [],
   "source": [
    "yPred.r2"
   ]
  },
  {
   "cell_type": "code",
   "execution_count": null,
   "id": "ec2a639a",
   "metadata": {},
   "outputs": [],
   "source": [
    "yPred.r2adj"
   ]
  },
  {
   "cell_type": "code",
   "execution_count": null,
   "id": "4fc7c4e8",
   "metadata": {},
   "outputs": [],
   "source": [
    "yPred.meanAbsoluteError"
   ]
  },
  {
   "cell_type": "code",
   "execution_count": null,
   "id": "451faf27",
   "metadata": {},
   "outputs": [],
   "source": [
    "yPred.meanSquaredError"
   ]
  },
  {
   "cell_type": "code",
   "execution_count": null,
   "id": "ed168fce",
   "metadata": {},
   "outputs": [],
   "source": []
  },
  {
   "cell_type": "code",
   "execution_count": null,
   "id": "815c1028",
   "metadata": {},
   "outputs": [],
   "source": []
  },
  {
   "cell_type": "code",
   "execution_count": null,
   "id": "406e1e61",
   "metadata": {},
   "outputs": [],
   "source": []
  }
 ],
 "metadata": {
  "kernelspec": {
   "display_name": "Python 3 (ipykernel)",
   "language": "python",
   "name": "python3"
  },
  "language_info": {
   "codemirror_mode": {
    "name": "ipython",
    "version": 3
   },
   "file_extension": ".py",
   "mimetype": "text/x-python",
   "name": "python",
   "nbconvert_exporter": "python",
   "pygments_lexer": "ipython3",
   "version": "3.10.9"
  }
 },
 "nbformat": 4,
 "nbformat_minor": 5
}
