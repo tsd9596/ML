{
 "cells": [
  {
   "cell_type": "markdown",
   "metadata": {},
   "source": [
    "### Decorators"
   ]
  },
  {
   "cell_type": "markdown",
   "metadata": {},
   "source": [
    "- Decorators takes a function and adds some functionality in it without changing its original state.\n",
    "- Decorators is wrapper used to enhance the functionality of another function."
   ]
  },
  {
   "cell_type": "code",
   "execution_count": 1,
   "metadata": {},
   "outputs": [
    {
     "name": "stdout",
     "output_type": "stream",
     "text": [
      "**********\n",
      "Royal Chanllengers Banglore\n",
      "**********\n"
     ]
    }
   ],
   "source": [
    "def deco(func):\n",
    "    def inner():\n",
    "        print('*'*10)\n",
    "        func()\n",
    "        print('*'*10)\n",
    "    return inner\n",
    "\n",
    "\n",
    "@deco\n",
    "def test():\n",
    "    print(\"Royal Chanllengers Banglore\")\n",
    "\n",
    "test()    "
   ]
  },
  {
   "cell_type": "code",
   "execution_count": 2,
   "metadata": {},
   "outputs": [
    {
     "name": "stdout",
     "output_type": "stream",
     "text": [
      "Connection Establishment......\n",
      "Data Fetch Successfully........\n",
      "Connection Termination......\n"
     ]
    }
   ],
   "source": [
    "def conn(db):\n",
    "    def inner():\n",
    "        print(\"Connection Establishment......\")\n",
    "        db()\n",
    "        print(\"Connection Termination......\")\n",
    "    return inner\n",
    "\n",
    "@conn\n",
    "def datafetch():\n",
    "    print(\"Data Fetch Successfully........\")\n",
    "\n",
    "datafetch()    "
   ]
  },
  {
   "cell_type": "code",
   "execution_count": 3,
   "metadata": {},
   "outputs": [
    {
     "name": "stdout",
     "output_type": "stream",
     "text": [
      "0.5\n"
     ]
    }
   ],
   "source": [
    "def smart_div(func):\n",
    "    def inner(a,b):\n",
    "        if a>b:\n",
    "            a,b=b,a\n",
    "        return func(a,b)\n",
    "    return inner\n",
    "\n",
    "\n",
    "\n",
    "@smart_div\n",
    "def div(a,b):\n",
    "    print(a/b)\n",
    "    \n",
    "div(5,10)    "
   ]
  },
  {
   "cell_type": "code",
   "execution_count": null,
   "metadata": {},
   "outputs": [],
   "source": []
  },
  {
   "cell_type": "code",
   "execution_count": null,
   "metadata": {},
   "outputs": [],
   "source": []
  },
  {
   "cell_type": "code",
   "execution_count": null,
   "metadata": {},
   "outputs": [],
   "source": []
  },
  {
   "cell_type": "code",
   "execution_count": null,
   "metadata": {},
   "outputs": [],
   "source": []
  },
  {
   "cell_type": "code",
   "execution_count": null,
   "metadata": {},
   "outputs": [],
   "source": []
  },
  {
   "cell_type": "code",
   "execution_count": null,
   "metadata": {},
   "outputs": [],
   "source": []
  }
 ],
 "metadata": {
  "kernelspec": {
   "display_name": "Python 3 (ipykernel)",
   "language": "python",
   "name": "python3"
  },
  "language_info": {
   "codemirror_mode": {
    "name": "ipython",
    "version": 3
   },
   "file_extension": ".py",
   "mimetype": "text/x-python",
   "name": "python",
   "nbconvert_exporter": "python",
   "pygments_lexer": "ipython3",
   "version": "3.10.9"
  },
  "name": "Linear Regression PySpark",
  "notebookId": 4157947754188818
 },
 "nbformat": 4,
 "nbformat_minor": 1
}
