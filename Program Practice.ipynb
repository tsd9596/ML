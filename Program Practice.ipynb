{
 "cells": [
  {
   "cell_type": "markdown",
   "id": "e6d7cec2",
   "metadata": {},
   "source": [
    "##### List of dictionary sort by price."
   ]
  },
  {
   "cell_type": "code",
   "execution_count": 1,
   "id": "a67486a9",
   "metadata": {},
   "outputs": [
    {
     "name": "stdout",
     "output_type": "stream",
     "text": [
      "[{'Prd1': 'Clock', 'PrdPP': 6440}, {'Prd3': 'Jewellery', 'PrdPP': 8460}, {'Prd2': 'Chair', 'PrdPP': 16160}]\n"
     ]
    }
   ],
   "source": [
    "di = [{'Prd1':'Clock','PrdPP':6440},{'Prd2':'Chair','PrdPP':16160},{'Prd3':'Jewellery','PrdPP':8460}]\n",
    "print(sorted(di,key=lambda di:di['PrdPP']))"
   ]
  },
  {
   "cell_type": "markdown",
   "id": "389a0119",
   "metadata": {},
   "source": [
    "#### Convert multiple lists into single "
   ]
  },
  {
   "cell_type": "code",
   "execution_count": 2,
   "id": "23f2987e",
   "metadata": {},
   "outputs": [
    {
     "name": "stdout",
     "output_type": "stream",
     "text": [
      "['Hello', 'Good', 'Morning']\n"
     ]
    }
   ],
   "source": [
    "li1 = ['Hello']\n",
    "li2 = [\"Good\"]\n",
    "li3 = [\"Morning\"]\n",
    "Total_Li = li1+li2+li3\n",
    "print(Total_Li)"
   ]
  },
  {
   "cell_type": "markdown",
   "id": "eb8a2ef5",
   "metadata": {},
   "source": [
    "#### Find even and odd number and sum of element in the list "
   ]
  },
  {
   "cell_type": "code",
   "execution_count": 3,
   "id": "6c9fd587",
   "metadata": {},
   "outputs": [
    {
     "name": "stdout",
     "output_type": "stream",
     "text": [
      "Enter size of length::5\n",
      "Enter Elements::\n",
      "45\n",
      "59\n",
      "3\n",
      "64\n",
      "78\n",
      "Sum of even numbers 142\n",
      "Sum of Odd numbers 107\n"
     ]
    }
   ],
   "source": [
    "Nums = []\n",
    "Count_Odd = 0\n",
    "Count_Even = 0\n",
    "Sum_Odd = 0\n",
    "Sum_Even = 0\n",
    "\n",
    "\n",
    "print(\"Enter size of length::\",end='')\n",
    "vo = int(input())\n",
    "print(\"Enter Elements::\")\n",
    "\n",
    "for i in range(vo):\n",
    "    Nums.append(int(input()))\n",
    "    if Nums[i]%2==0:\n",
    "        Count_Even = Count_Even + 1\n",
    "        Sum_Even = Sum_Even + Nums[i]\n",
    "    else:\n",
    "        Count_Odd = Count_Odd + 1\n",
    "        Sum_Odd = Sum_Odd+Nums[i]\n",
    "        \n",
    "if Count_Even==0:\n",
    "    print(\"No Even Numbers\")\n",
    "else:\n",
    "    print(\"Sum of even numbers\",Sum_Even)\n",
    "    \n",
    "if Count_Odd==0:\n",
    "    print(\"No Odd Numbers\")\n",
    "else:\n",
    "    print(\"Sum of Odd numbers\",Sum_Odd)       "
   ]
  },
  {
   "cell_type": "markdown",
   "id": "3ac51a8d",
   "metadata": {},
   "source": [
    "##### create class and take two variable and convert into dictionary"
   ]
  },
  {
   "cell_type": "code",
   "execution_count": 4,
   "id": "22ac4943",
   "metadata": {},
   "outputs": [
    {
     "name": "stdout",
     "output_type": "stream",
     "text": [
      "Employee Name:: Nayan\n",
      "Employee Salary:: 98820\n",
      "{'Name': 'Nayan', 'Sal': 98820}\n"
     ]
    }
   ],
   "source": [
    "class Info:\n",
    "    def __init__(self,Name,Sal):\n",
    "        self.Name = Name\n",
    "        self.Sal = Sal\n",
    "    def display(self):\n",
    "        print(\"Employee Name::\",self.Name)\n",
    "        print(\"Employee Salary::\",self.Sal)\n",
    "ob = Info('Nayan',98820)\n",
    "ob.display()\n",
    "print(ob.__dict__)"
   ]
  },
  {
   "cell_type": "markdown",
   "id": "34023a1d",
   "metadata": {},
   "source": [
    "#### Remove duplicate element in list/array"
   ]
  },
  {
   "cell_type": "code",
   "execution_count": 5,
   "id": "44595b93",
   "metadata": {},
   "outputs": [
    {
     "name": "stdout",
     "output_type": "stream",
     "text": [
      "[99, 61, 58, 48, 64, 84, 68]\n"
     ]
    }
   ],
   "source": [
    "a = [99,61,58,44,44,48,64,'fi',84,68,'fi']\n",
    "NewLi = []\n",
    "\n",
    "for i in a:\n",
    "    if a.count(i)==1:\n",
    "        NewLi.append(i)\n",
    "print(NewLi)          "
   ]
  },
  {
   "cell_type": "markdown",
   "id": "9db445b8",
   "metadata": {},
   "source": [
    "#### Print duplicate numbers in a given list."
   ]
  },
  {
   "cell_type": "code",
   "execution_count": 6,
   "id": "4ab94f3a",
   "metadata": {},
   "outputs": [
    {
     "name": "stdout",
     "output_type": "stream",
     "text": [
      "[44, 'fi']\n"
     ]
    }
   ],
   "source": [
    "a = [99,61,58,44,44,48,64,'fi',84,68,'fi']\n",
    "Dup_Li = []\n",
    "\n",
    "for i in a:\n",
    "    if a.count(i)>1 and i not in Dup_Li:\n",
    "        Dup_Li.append(i)\n",
    "print(Dup_Li)        "
   ]
  },
  {
   "cell_type": "markdown",
   "id": "b18a6dde",
   "metadata": {},
   "source": [
    "#### Find Smallest No. and Largest No"
   ]
  },
  {
   "cell_type": "code",
   "execution_count": 7,
   "id": "a228c73e",
   "metadata": {},
   "outputs": [
    {
     "name": "stdout",
     "output_type": "stream",
     "text": [
      "Smallest No. 44\n",
      "Largest No. 908\n"
     ]
    }
   ],
   "source": [
    "a = [99,61,58,44,74,908,64,85,84,68,894]\n",
    "a.sort()\n",
    "print(\"Smallest No.\",a[0])\n",
    "print(\"Largest No.\",a[-1])"
   ]
  },
  {
   "cell_type": "markdown",
   "id": "b16acf6c",
   "metadata": {},
   "source": [
    "#### Addition of two number using lambda."
   ]
  },
  {
   "cell_type": "code",
   "execution_count": 8,
   "id": "6bdf2520",
   "metadata": {},
   "outputs": [
    {
     "name": "stdout",
     "output_type": "stream",
     "text": [
      "Enter No. for a::45\n",
      "Enter No. for b::99\n",
      "144\n"
     ]
    }
   ],
   "source": [
    "a = int(input(\"Enter No. for a::\"))\n",
    "b = int(input(\"Enter No. for b::\"))\n",
    "\n",
    "print((lambda a,b:a+b)(a,b))"
   ]
  },
  {
   "cell_type": "markdown",
   "id": "ca2eab6f",
   "metadata": {},
   "source": [
    "#### Reverse the string “hello world”."
   ]
  },
  {
   "cell_type": "code",
   "execution_count": 13,
   "id": "4c512798",
   "metadata": {},
   "outputs": [
    {
     "name": "stdout",
     "output_type": "stream",
     "text": [
      "Reverse String:: World Hello\n"
     ]
    }
   ],
   "source": [
    "st = \"Hello World\"\n",
    "print(\"Reverse String::\",\" \".join(st.split(\" \")[::-1]))"
   ]
  },
  {
   "cell_type": "markdown",
   "id": "afdab0d7",
   "metadata": {},
   "source": [
    "#### String to lowercase and uppercase using decorator."
   ]
  },
  {
   "cell_type": "code",
   "execution_count": 14,
   "id": "cb4be16f",
   "metadata": {},
   "outputs": [
    {
     "data": {
      "text/plain": [
       "('HELLO WORLD', 'hello world')"
      ]
     },
     "execution_count": 14,
     "metadata": {},
     "output_type": "execute_result"
    }
   ],
   "source": [
    "def deco(func):\n",
    "    def inner():\n",
    "        res = func()\n",
    "        r1 = res.upper()\n",
    "        r2 = res.lower()\n",
    "        return r1,r2\n",
    "    return inner\n",
    "\n",
    "\n",
    "@deco\n",
    "def convert():\n",
    "    return \"Hello World\"\n",
    "\n",
    "convert()"
   ]
  },
  {
   "cell_type": "code",
   "execution_count": null,
   "id": "6bd9a9d3",
   "metadata": {},
   "outputs": [],
   "source": []
  },
  {
   "cell_type": "code",
   "execution_count": null,
   "id": "5900795c",
   "metadata": {},
   "outputs": [],
   "source": []
  },
  {
   "cell_type": "code",
   "execution_count": null,
   "id": "d5a83558",
   "metadata": {},
   "outputs": [],
   "source": []
  },
  {
   "cell_type": "code",
   "execution_count": null,
   "id": "21f36626",
   "metadata": {},
   "outputs": [],
   "source": []
  }
 ],
 "metadata": {
  "kernelspec": {
   "display_name": "Python 3 (ipykernel)",
   "language": "python",
   "name": "python3"
  },
  "language_info": {
   "codemirror_mode": {
    "name": "ipython",
    "version": 3
   },
   "file_extension": ".py",
   "mimetype": "text/x-python",
   "name": "python",
   "nbconvert_exporter": "python",
   "pygments_lexer": "ipython3",
   "version": "3.10.9"
  }
 },
 "nbformat": 4,
 "nbformat_minor": 5
}
