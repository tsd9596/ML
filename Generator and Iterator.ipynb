{
 "cells": [
  {
   "cell_type": "markdown",
   "id": "fb9c477e",
   "metadata": {},
   "source": [
    "#### Generator"
   ]
  },
  {
   "cell_type": "markdown",
   "id": "adac637b",
   "metadata": {},
   "source": [
    "- It is function used to generate seq of no. Range also used to generate of Seq.\n",
    "- The main difference between Generator and Range is Memory Occupy.\n",
    "- In Range list of no. stored in Memory whereas in case of generator it will create object; at a time single no will generate.\n",
    "- By default it is increased by 1 and it is implemented by using next() method."
   ]
  },
  {
   "cell_type": "code",
   "execution_count": 1,
   "id": "ae25b184",
   "metadata": {},
   "outputs": [
    {
     "name": "stdout",
     "output_type": "stream",
     "text": [
      "<generator object <genexpr> at 0x0000014E9316EAB0>\n"
     ]
    }
   ],
   "source": [
    "wo = [469,746,1046,1093,5668]\n",
    "\n",
    "to = (i for i in wo)\n",
    "print(to)    "
   ]
  },
  {
   "cell_type": "code",
   "execution_count": 2,
   "id": "a288c4dd",
   "metadata": {},
   "outputs": [
    {
     "data": {
      "text/plain": [
       "469"
      ]
     },
     "execution_count": 2,
     "metadata": {},
     "output_type": "execute_result"
    }
   ],
   "source": [
    "next(to)"
   ]
  },
  {
   "cell_type": "code",
   "execution_count": 3,
   "id": "37150e5f",
   "metadata": {},
   "outputs": [
    {
     "data": {
      "text/plain": [
       "746"
      ]
     },
     "execution_count": 3,
     "metadata": {},
     "output_type": "execute_result"
    }
   ],
   "source": [
    "next(to)"
   ]
  },
  {
   "cell_type": "code",
   "execution_count": 4,
   "id": "a269ccb2",
   "metadata": {},
   "outputs": [
    {
     "data": {
      "text/plain": [
       "1046"
      ]
     },
     "execution_count": 4,
     "metadata": {},
     "output_type": "execute_result"
    }
   ],
   "source": [
    "next(to)"
   ]
  },
  {
   "cell_type": "code",
   "execution_count": 5,
   "id": "fb3f8fb9",
   "metadata": {},
   "outputs": [
    {
     "name": "stdout",
     "output_type": "stream",
     "text": [
      "44\n",
      "91\n",
      "31\n",
      "65\n",
      "45\n"
     ]
    }
   ],
   "source": [
    "ko = [44,91,31,65,45]\n",
    "for i in ko:\n",
    "    print(i)"
   ]
  },
  {
   "cell_type": "code",
   "execution_count": 6,
   "id": "fd4458cb",
   "metadata": {},
   "outputs": [],
   "source": [
    "def geo():\n",
    "    yield 'a'\n",
    "    yield 'ab' \n",
    "    yield 'abc'   \n",
    "    yield 'abcd'   "
   ]
  },
  {
   "cell_type": "code",
   "execution_count": 7,
   "id": "cedaaa67",
   "metadata": {},
   "outputs": [],
   "source": [
    "go = geo()"
   ]
  },
  {
   "cell_type": "code",
   "execution_count": 8,
   "id": "0ac6158f",
   "metadata": {},
   "outputs": [
    {
     "data": {
      "text/plain": [
       "'a'"
      ]
     },
     "execution_count": 8,
     "metadata": {},
     "output_type": "execute_result"
    }
   ],
   "source": [
    "next(go)"
   ]
  },
  {
   "cell_type": "code",
   "execution_count": 13,
   "id": "5c965a13",
   "metadata": {},
   "outputs": [
    {
     "data": {
      "text/plain": [
       "'ab'"
      ]
     },
     "execution_count": 13,
     "metadata": {},
     "output_type": "execute_result"
    }
   ],
   "source": [
    "next(go)"
   ]
  },
  {
   "cell_type": "code",
   "execution_count": 17,
   "id": "f2b3ffa3",
   "metadata": {},
   "outputs": [],
   "source": [
    "#to generate no. upto 1000\n",
    "\n",
    "\n",
    "def display(n):\n",
    "    i=0\n",
    "    while i<=n:\n",
    "        yield i\n",
    "        i = i+1"
   ]
  },
  {
   "cell_type": "code",
   "execution_count": 18,
   "id": "eca93662",
   "metadata": {},
   "outputs": [],
   "source": [
    "g = display(40)"
   ]
  },
  {
   "cell_type": "code",
   "execution_count": 19,
   "id": "4ae41ff0",
   "metadata": {},
   "outputs": [
    {
     "data": {
      "text/plain": [
       "0"
      ]
     },
     "execution_count": 19,
     "metadata": {},
     "output_type": "execute_result"
    }
   ],
   "source": [
    "next(g)"
   ]
  },
  {
   "cell_type": "code",
   "execution_count": 20,
   "id": "81ab31a0",
   "metadata": {},
   "outputs": [
    {
     "data": {
      "text/plain": [
       "1"
      ]
     },
     "execution_count": 20,
     "metadata": {},
     "output_type": "execute_result"
    }
   ],
   "source": [
    "next(g)"
   ]
  },
  {
   "cell_type": "code",
   "execution_count": null,
   "id": "4f3326c6",
   "metadata": {},
   "outputs": [],
   "source": [
    "#return vs yield\n",
    "\n",
    "# - in return after returning a value cursor comes outside the function\n",
    "#-  in yield generate no. by no."
   ]
  },
  {
   "cell_type": "code",
   "execution_count": 30,
   "id": "46381617",
   "metadata": {},
   "outputs": [],
   "source": [
    "def tes(num):\n",
    "    while num>0:\n",
    "        yield num\n",
    "        num = num-1    "
   ]
  },
  {
   "cell_type": "code",
   "execution_count": 31,
   "id": "2ab0a3d8",
   "metadata": {},
   "outputs": [],
   "source": [
    "ob = tes(50)"
   ]
  },
  {
   "cell_type": "code",
   "execution_count": 32,
   "id": "77e0801c",
   "metadata": {},
   "outputs": [
    {
     "data": {
      "text/plain": [
       "50"
      ]
     },
     "execution_count": 32,
     "metadata": {},
     "output_type": "execute_result"
    }
   ],
   "source": [
    "next(ob)"
   ]
  },
  {
   "cell_type": "code",
   "execution_count": 33,
   "id": "45efdb8b",
   "metadata": {},
   "outputs": [
    {
     "data": {
      "text/plain": [
       "49"
      ]
     },
     "execution_count": 33,
     "metadata": {},
     "output_type": "execute_result"
    }
   ],
   "source": [
    "next(ob)"
   ]
  },
  {
   "cell_type": "code",
   "execution_count": 34,
   "id": "f63edf7d",
   "metadata": {},
   "outputs": [
    {
     "data": {
      "text/plain": [
       "48"
      ]
     },
     "execution_count": 34,
     "metadata": {},
     "output_type": "execute_result"
    }
   ],
   "source": [
    "next(ob)"
   ]
  },
  {
   "cell_type": "code",
   "execution_count": null,
   "id": "ccdffb19",
   "metadata": {},
   "outputs": [],
   "source": []
  },
  {
   "cell_type": "code",
   "execution_count": null,
   "id": "76c538bc",
   "metadata": {},
   "outputs": [],
   "source": []
  },
  {
   "cell_type": "markdown",
   "id": "37c70a2c",
   "metadata": {},
   "source": [
    "### Iterator :-\n",
    "- Iterator is object that used to iterate over itearable object like List,Tuple,Set and Dictionary.\n",
    "- It used next() for iteration.\n",
    "- The Iterator object is intialized by using iter() method."
   ]
  },
  {
   "cell_type": "code",
   "execution_count": 39,
   "id": "27bfd47c",
   "metadata": {},
   "outputs": [
    {
     "data": {
      "text/plain": [
       "list_iterator"
      ]
     },
     "execution_count": 39,
     "metadata": {},
     "output_type": "execute_result"
    }
   ],
   "source": [
    "p = list(range(10))\n",
    "q = iter(p)\n",
    "type(q)"
   ]
  },
  {
   "cell_type": "code",
   "execution_count": 40,
   "id": "e1260fe8",
   "metadata": {},
   "outputs": [
    {
     "data": {
      "text/plain": [
       "0"
      ]
     },
     "execution_count": 40,
     "metadata": {},
     "output_type": "execute_result"
    }
   ],
   "source": [
    "next(q)  "
   ]
  },
  {
   "cell_type": "code",
   "execution_count": 41,
   "id": "cba4f011",
   "metadata": {},
   "outputs": [
    {
     "data": {
      "text/plain": [
       "1"
      ]
     },
     "execution_count": 41,
     "metadata": {},
     "output_type": "execute_result"
    }
   ],
   "source": [
    "next(q)  "
   ]
  },
  {
   "cell_type": "code",
   "execution_count": 42,
   "id": "37a9fc89",
   "metadata": {},
   "outputs": [
    {
     "data": {
      "text/plain": [
       "2"
      ]
     },
     "execution_count": 42,
     "metadata": {},
     "output_type": "execute_result"
    }
   ],
   "source": [
    "next(q)"
   ]
  },
  {
   "cell_type": "code",
   "execution_count": 48,
   "id": "d53cf10d",
   "metadata": {},
   "outputs": [
    {
     "data": {
      "text/plain": [
       "tuple"
      ]
     },
     "execution_count": 48,
     "metadata": {},
     "output_type": "execute_result"
    }
   ],
   "source": [
    "Tu  = (1,5,7,89,56,45)\n",
    "py = iter(Tu)\n",
    "type(Tu)"
   ]
  },
  {
   "cell_type": "code",
   "execution_count": 49,
   "id": "1e18d8b4",
   "metadata": {},
   "outputs": [
    {
     "data": {
      "text/plain": [
       "1"
      ]
     },
     "execution_count": 49,
     "metadata": {},
     "output_type": "execute_result"
    }
   ],
   "source": [
    "next(py)"
   ]
  },
  {
   "cell_type": "code",
   "execution_count": 50,
   "id": "43be5aab",
   "metadata": {},
   "outputs": [
    {
     "data": {
      "text/plain": [
       "5"
      ]
     },
     "execution_count": 50,
     "metadata": {},
     "output_type": "execute_result"
    }
   ],
   "source": [
    "next(py)"
   ]
  },
  {
   "cell_type": "code",
   "execution_count": 51,
   "id": "4595e12c",
   "metadata": {},
   "outputs": [
    {
     "data": {
      "text/plain": [
       "7"
      ]
     },
     "execution_count": 51,
     "metadata": {},
     "output_type": "execute_result"
    }
   ],
   "source": [
    "next(py)"
   ]
  },
  {
   "cell_type": "markdown",
   "id": "a2556416",
   "metadata": {},
   "source": [
    "- The difference between generator and iterator is, In Generator it takes only one pointer but in iterator already memory location are there one by one it will fetch."
   ]
  },
  {
   "cell_type": "code",
   "execution_count": null,
   "id": "91e45f20",
   "metadata": {},
   "outputs": [],
   "source": []
  },
  {
   "cell_type": "code",
   "execution_count": null,
   "id": "cc0562cd",
   "metadata": {},
   "outputs": [],
   "source": []
  },
  {
   "cell_type": "code",
   "execution_count": null,
   "id": "26333856",
   "metadata": {},
   "outputs": [],
   "source": []
  }
 ],
 "metadata": {
  "kernelspec": {
   "display_name": "Python 3 (ipykernel)",
   "language": "python",
   "name": "python3"
  },
  "language_info": {
   "codemirror_mode": {
    "name": "ipython",
    "version": 3
   },
   "file_extension": ".py",
   "mimetype": "text/x-python",
   "name": "python",
   "nbconvert_exporter": "python",
   "pygments_lexer": "ipython3",
   "version": "3.10.9"
  }
 },
 "nbformat": 4,
 "nbformat_minor": 5
}
