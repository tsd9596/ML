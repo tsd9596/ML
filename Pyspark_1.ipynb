{
 "cells": [
  {
   "cell_type": "code",
   "execution_count": 1,
   "id": "f8385066",
   "metadata": {},
   "outputs": [],
   "source": [
    "import pyspark\n",
    "from pyspark.sql import SparkSession"
   ]
  },
  {
   "cell_type": "code",
   "execution_count": 2,
   "id": "e5d4fa83",
   "metadata": {},
   "outputs": [],
   "source": [
    "spark = SparkSession.builder.appName('Prac').getOrCreate()"
   ]
  },
  {
   "cell_type": "code",
   "execution_count": 3,
   "id": "b2012070",
   "metadata": {},
   "outputs": [
    {
     "data": {
      "text/html": [
       "\n",
       "            <div>\n",
       "                <p><b>SparkSession - in-memory</b></p>\n",
       "                \n",
       "        <div>\n",
       "            <p><b>SparkContext</b></p>\n",
       "\n",
       "            <p><a href=\"http://DESKTOP35TSD11:4040\">Spark UI</a></p>\n",
       "\n",
       "            <dl>\n",
       "              <dt>Version</dt>\n",
       "                <dd><code>v3.3.2</code></dd>\n",
       "              <dt>Master</dt>\n",
       "                <dd><code>local[*]</code></dd>\n",
       "              <dt>AppName</dt>\n",
       "                <dd><code>Prac</code></dd>\n",
       "            </dl>\n",
       "        </div>\n",
       "        \n",
       "            </div>\n",
       "        "
      ],
      "text/plain": [
       "<pyspark.sql.session.SparkSession at 0x1bb53ee03a0>"
      ]
     },
     "execution_count": 3,
     "metadata": {},
     "output_type": "execute_result"
    }
   ],
   "source": [
    "spark"
   ]
  },
  {
   "cell_type": "code",
   "execution_count": 4,
   "id": "657a0dd8",
   "metadata": {},
   "outputs": [],
   "source": [
    "df = spark.read.option('header','true').csv(r\"C:\\Users\\tsd95\\CSV Files\\exams.csv\",inferSchema=True)"
   ]
  },
  {
   "cell_type": "code",
   "execution_count": 5,
   "id": "b0e1334a",
   "metadata": {},
   "outputs": [
    {
     "name": "stdout",
     "output_type": "stream",
     "text": [
      "+------+--------------+---------------------------+------------+-----------------------+----------+-------------+-------------+\n",
      "|gender|race/ethnicity|parental level of education|       lunch|test preparation course|math score|reading score|writing score|\n",
      "+------+--------------+---------------------------+------------+-----------------------+----------+-------------+-------------+\n",
      "|female|       group D|               some college|    standard|              completed|        59|           70|           78|\n",
      "|  male|       group D|         associate's degree|    standard|                   none|        96|           93|           87|\n",
      "|female|       group D|               some college|free/reduced|                   none|        57|           76|           77|\n",
      "|  male|       group B|               some college|free/reduced|                   none|        70|           70|           63|\n",
      "|female|       group D|         associate's degree|    standard|                   none|        83|           85|           86|\n",
      "|  male|       group C|           some high school|    standard|                   none|        68|           57|           54|\n",
      "|female|       group E|         associate's degree|    standard|                   none|        82|           83|           80|\n",
      "|female|       group B|           some high school|    standard|                   none|        46|           61|           58|\n",
      "|  male|       group C|           some high school|    standard|                   none|        80|           75|           73|\n",
      "|female|       group C|          bachelor's degree|    standard|              completed|        57|           69|           77|\n",
      "|  male|       group B|           some high school|    standard|                   none|        74|           69|           69|\n",
      "|  male|       group B|            master's degree|    standard|                   none|        53|           50|           49|\n",
      "|  male|       group B|          bachelor's degree|free/reduced|                   none|        76|           74|           76|\n",
      "|  male|       group A|               some college|    standard|                   none|        70|           73|           70|\n",
      "|  male|       group C|            master's degree|free/reduced|                   none|        55|           54|           52|\n",
      "|  male|       group E|            master's degree|free/reduced|                   none|        56|           46|           43|\n",
      "|female|       group C|               some college|free/reduced|                   none|        35|           47|           41|\n",
      "|female|       group C|                high school|    standard|                   none|        87|           92|           81|\n",
      "|female|       group E|         associate's degree|free/reduced|                   none|        80|           82|           85|\n",
      "|female|       group D|         associate's degree|    standard|              completed|        65|           71|           74|\n",
      "+------+--------------+---------------------------+------------+-----------------------+----------+-------------+-------------+\n",
      "only showing top 20 rows\n",
      "\n"
     ]
    }
   ],
   "source": [
    "df.show()"
   ]
  },
  {
   "cell_type": "code",
   "execution_count": 6,
   "id": "a397c462",
   "metadata": {},
   "outputs": [
    {
     "data": {
      "text/plain": [
       "['gender',\n",
       " 'race/ethnicity',\n",
       " 'parental level of education',\n",
       " 'lunch',\n",
       " 'test preparation course',\n",
       " 'math score',\n",
       " 'reading score',\n",
       " 'writing score']"
      ]
     },
     "execution_count": 6,
     "metadata": {},
     "output_type": "execute_result"
    }
   ],
   "source": [
    "df.columns"
   ]
  },
  {
   "cell_type": "code",
   "execution_count": 7,
   "id": "2a958853",
   "metadata": {},
   "outputs": [
    {
     "name": "stdout",
     "output_type": "stream",
     "text": [
      "+-------+------+--------------+---------------------------+------------+-----------------------+------------------+-----------------+------------------+\n",
      "|summary|gender|race/ethnicity|parental level of education|       lunch|test preparation course|        math score|    reading score|     writing score|\n",
      "+-------+------+--------------+---------------------------+------------+-----------------------+------------------+-----------------+------------------+\n",
      "|  count|  1000|          1000|                       1000|        1000|                   1000|              1000|             1000|              1000|\n",
      "|   mean|  null|          null|                       null|        null|                   null|             67.81|           70.382|             69.14|\n",
      "| stddev|  null|          null|                       null|        null|                   null|15.250195686235266|14.10741277113189|15.025916883111595|\n",
      "|    min|female|       group A|         associate's degree|free/reduced|              completed|                15|               25|                15|\n",
      "|    max|  male|       group E|           some high school|    standard|                   none|               100|              100|               100|\n",
      "+-------+------+--------------+---------------------------+------------+-----------------------+------------------+-----------------+------------------+\n",
      "\n"
     ]
    }
   ],
   "source": [
    "df.describe().show()"
   ]
  },
  {
   "cell_type": "code",
   "execution_count": 8,
   "id": "27338cdd",
   "metadata": {},
   "outputs": [
    {
     "name": "stdout",
     "output_type": "stream",
     "text": [
      "root\n",
      " |-- gender: string (nullable = true)\n",
      " |-- race/ethnicity: string (nullable = true)\n",
      " |-- parental level of education: string (nullable = true)\n",
      " |-- lunch: string (nullable = true)\n",
      " |-- test preparation course: string (nullable = true)\n",
      " |-- math score: integer (nullable = true)\n",
      " |-- reading score: integer (nullable = true)\n",
      " |-- writing score: integer (nullable = true)\n",
      "\n"
     ]
    }
   ],
   "source": [
    "df.printSchema()"
   ]
  },
  {
   "cell_type": "code",
   "execution_count": 9,
   "id": "75ed51e5",
   "metadata": {},
   "outputs": [
    {
     "name": "stdout",
     "output_type": "stream",
     "text": [
      "+------+-------------+-------------+\n",
      "|gender|reading score|writing score|\n",
      "+------+-------------+-------------+\n",
      "|female|           70|           78|\n",
      "|  male|           93|           87|\n",
      "|female|           76|           77|\n",
      "|  male|           70|           63|\n",
      "|female|           85|           86|\n",
      "|  male|           57|           54|\n",
      "|female|           83|           80|\n",
      "|female|           61|           58|\n",
      "|  male|           75|           73|\n",
      "|female|           69|           77|\n",
      "|  male|           69|           69|\n",
      "|  male|           50|           49|\n",
      "|  male|           74|           76|\n",
      "|  male|           73|           70|\n",
      "|  male|           54|           52|\n",
      "|  male|           46|           43|\n",
      "|female|           47|           41|\n",
      "|female|           92|           81|\n",
      "|female|           82|           85|\n",
      "|female|           71|           74|\n",
      "+------+-------------+-------------+\n",
      "only showing top 20 rows\n",
      "\n"
     ]
    }
   ],
   "source": [
    "df.select(['gender','reading score','writing score']).show()"
   ]
  },
  {
   "cell_type": "code",
   "execution_count": 10,
   "id": "6914b444",
   "metadata": {},
   "outputs": [],
   "source": [
    "df = df.withColumnRenamed('parental level of education','Education Level')"
   ]
  },
  {
   "cell_type": "code",
   "execution_count": 11,
   "id": "dcffa5c2",
   "metadata": {},
   "outputs": [
    {
     "name": "stdout",
     "output_type": "stream",
     "text": [
      "+------+--------------+------------------+------------+-----------------------+----------+-------------+-------------+\n",
      "|gender|race/ethnicity|   Education Level|       lunch|test preparation course|math score|reading score|writing score|\n",
      "+------+--------------+------------------+------------+-----------------------+----------+-------------+-------------+\n",
      "|female|       group D|      some college|    standard|              completed|        59|           70|           78|\n",
      "|  male|       group D|associate's degree|    standard|                   none|        96|           93|           87|\n",
      "|female|       group D|      some college|free/reduced|                   none|        57|           76|           77|\n",
      "|  male|       group B|      some college|free/reduced|                   none|        70|           70|           63|\n",
      "|female|       group D|associate's degree|    standard|                   none|        83|           85|           86|\n",
      "|  male|       group C|  some high school|    standard|                   none|        68|           57|           54|\n",
      "|female|       group E|associate's degree|    standard|                   none|        82|           83|           80|\n",
      "|female|       group B|  some high school|    standard|                   none|        46|           61|           58|\n",
      "|  male|       group C|  some high school|    standard|                   none|        80|           75|           73|\n",
      "|female|       group C| bachelor's degree|    standard|              completed|        57|           69|           77|\n",
      "|  male|       group B|  some high school|    standard|                   none|        74|           69|           69|\n",
      "|  male|       group B|   master's degree|    standard|                   none|        53|           50|           49|\n",
      "|  male|       group B| bachelor's degree|free/reduced|                   none|        76|           74|           76|\n",
      "|  male|       group A|      some college|    standard|                   none|        70|           73|           70|\n",
      "|  male|       group C|   master's degree|free/reduced|                   none|        55|           54|           52|\n",
      "|  male|       group E|   master's degree|free/reduced|                   none|        56|           46|           43|\n",
      "|female|       group C|      some college|free/reduced|                   none|        35|           47|           41|\n",
      "|female|       group C|       high school|    standard|                   none|        87|           92|           81|\n",
      "|female|       group E|associate's degree|free/reduced|                   none|        80|           82|           85|\n",
      "|female|       group D|associate's degree|    standard|              completed|        65|           71|           74|\n",
      "+------+--------------+------------------+------------+-----------------------+----------+-------------+-------------+\n",
      "only showing top 20 rows\n",
      "\n"
     ]
    }
   ],
   "source": [
    "df.show()"
   ]
  },
  {
   "cell_type": "code",
   "execution_count": 12,
   "id": "75b27cac",
   "metadata": {},
   "outputs": [],
   "source": [
    "df = df.withColumn('Double Math Score',df['math score']*2)"
   ]
  },
  {
   "cell_type": "code",
   "execution_count": 13,
   "id": "33bd51a6",
   "metadata": {},
   "outputs": [
    {
     "name": "stdout",
     "output_type": "stream",
     "text": [
      "+------+--------------+------------------+------------+-----------------------+----------+-------------+-------------+-----------------+\n",
      "|gender|race/ethnicity|   Education Level|       lunch|test preparation course|math score|reading score|writing score|Double Math Score|\n",
      "+------+--------------+------------------+------------+-----------------------+----------+-------------+-------------+-----------------+\n",
      "|female|       group D|      some college|    standard|              completed|        59|           70|           78|              118|\n",
      "|  male|       group D|associate's degree|    standard|                   none|        96|           93|           87|              192|\n",
      "|female|       group D|      some college|free/reduced|                   none|        57|           76|           77|              114|\n",
      "|  male|       group B|      some college|free/reduced|                   none|        70|           70|           63|              140|\n",
      "|female|       group D|associate's degree|    standard|                   none|        83|           85|           86|              166|\n",
      "|  male|       group C|  some high school|    standard|                   none|        68|           57|           54|              136|\n",
      "|female|       group E|associate's degree|    standard|                   none|        82|           83|           80|              164|\n",
      "|female|       group B|  some high school|    standard|                   none|        46|           61|           58|               92|\n",
      "|  male|       group C|  some high school|    standard|                   none|        80|           75|           73|              160|\n",
      "|female|       group C| bachelor's degree|    standard|              completed|        57|           69|           77|              114|\n",
      "|  male|       group B|  some high school|    standard|                   none|        74|           69|           69|              148|\n",
      "|  male|       group B|   master's degree|    standard|                   none|        53|           50|           49|              106|\n",
      "|  male|       group B| bachelor's degree|free/reduced|                   none|        76|           74|           76|              152|\n",
      "|  male|       group A|      some college|    standard|                   none|        70|           73|           70|              140|\n",
      "|  male|       group C|   master's degree|free/reduced|                   none|        55|           54|           52|              110|\n",
      "|  male|       group E|   master's degree|free/reduced|                   none|        56|           46|           43|              112|\n",
      "|female|       group C|      some college|free/reduced|                   none|        35|           47|           41|               70|\n",
      "|female|       group C|       high school|    standard|                   none|        87|           92|           81|              174|\n",
      "|female|       group E|associate's degree|free/reduced|                   none|        80|           82|           85|              160|\n",
      "|female|       group D|associate's degree|    standard|              completed|        65|           71|           74|              130|\n",
      "+------+--------------+------------------+------------+-----------------------+----------+-------------+-------------+-----------------+\n",
      "only showing top 20 rows\n",
      "\n"
     ]
    }
   ],
   "source": [
    "df.show()"
   ]
  },
  {
   "cell_type": "code",
   "execution_count": 14,
   "id": "912eda0c",
   "metadata": {},
   "outputs": [],
   "source": [
    "df = df.drop('lunch')"
   ]
  },
  {
   "cell_type": "code",
   "execution_count": 15,
   "id": "e2f03274",
   "metadata": {},
   "outputs": [
    {
     "name": "stdout",
     "output_type": "stream",
     "text": [
      "+------+--------------+------------------+-----------------------+----------+-------------+-------------+-----------------+\n",
      "|gender|race/ethnicity|   Education Level|test preparation course|math score|reading score|writing score|Double Math Score|\n",
      "+------+--------------+------------------+-----------------------+----------+-------------+-------------+-----------------+\n",
      "|female|       group D|      some college|              completed|        59|           70|           78|              118|\n",
      "|  male|       group D|associate's degree|                   none|        96|           93|           87|              192|\n",
      "|female|       group D|      some college|                   none|        57|           76|           77|              114|\n",
      "|  male|       group B|      some college|                   none|        70|           70|           63|              140|\n",
      "|female|       group D|associate's degree|                   none|        83|           85|           86|              166|\n",
      "|  male|       group C|  some high school|                   none|        68|           57|           54|              136|\n",
      "|female|       group E|associate's degree|                   none|        82|           83|           80|              164|\n",
      "|female|       group B|  some high school|                   none|        46|           61|           58|               92|\n",
      "|  male|       group C|  some high school|                   none|        80|           75|           73|              160|\n",
      "|female|       group C| bachelor's degree|              completed|        57|           69|           77|              114|\n",
      "+------+--------------+------------------+-----------------------+----------+-------------+-------------+-----------------+\n",
      "only showing top 10 rows\n",
      "\n"
     ]
    }
   ],
   "source": [
    "df.show(10)"
   ]
  },
  {
   "cell_type": "code",
   "execution_count": 16,
   "id": "7edfed27",
   "metadata": {},
   "outputs": [
    {
     "name": "stdout",
     "output_type": "stream",
     "text": [
      "Row(gender='female', race/ethnicity='group D', Education Level='some college', test preparation course='completed', math score=59, reading score=70, writing score=78, Double Math Score=118)\n",
      "Row(gender='male', race/ethnicity='group D', Education Level=\"associate's degree\", test preparation course='none', math score=96, reading score=93, writing score=87, Double Math Score=192)\n",
      "Row(gender='female', race/ethnicity='group D', Education Level='some college', test preparation course='none', math score=57, reading score=76, writing score=77, Double Math Score=114)\n",
      "Row(gender='male', race/ethnicity='group B', Education Level='some college', test preparation course='none', math score=70, reading score=70, writing score=63, Double Math Score=140)\n",
      "Row(gender='female', race/ethnicity='group D', Education Level=\"associate's degree\", test preparation course='none', math score=83, reading score=85, writing score=86, Double Math Score=166)\n"
     ]
    }
   ],
   "source": [
    "import time\n",
    "for i in df.head(5):\n",
    "    time.sleep(1)\n",
    "    print(i)"
   ]
  },
  {
   "cell_type": "code",
   "execution_count": 18,
   "id": "d455cfcb",
   "metadata": {},
   "outputs": [],
   "source": [
    "dfn = spark.read.csv(r\"C:\\Users\\tsd95\\CSV Files\\Model\\NullValues.csv\",header=True,inferSchema=True)"
   ]
  },
  {
   "cell_type": "code",
   "execution_count": 19,
   "id": "25de8168",
   "metadata": {},
   "outputs": [
    {
     "name": "stdout",
     "output_type": "stream",
     "text": [
      "+----+----------+----+-----+------------------+--------+\n",
      "|  ID|      NAME| AGE|  SAL|             EMAIL|     LOC|\n",
      "+----+----------+----+-----+------------------+--------+\n",
      "| 105|      Anil|  32| null|    anil@gmail.com|    Pune|\n",
      "| 106|    Chetan|null|98000|    chet@yahoo.com|   Pawai|\n",
      "| 114|    Jayesh|  27|65000|jayesh@outlook.com|   Thane|\n",
      "|null|    Harish|  25| null|  harish@gmail.com|    null|\n",
      "| 120|     Komal|  28|59700|   komal@yahoo.com| Sangali|\n",
      "| 135|      null|null|78700|              null|Hydrabad|\n",
      "| 140|    Sachin|  29|45700|  sachin@gmail.com|Kolhapur|\n",
      "| 135|Vijaykumar|  32|46940|   vijay@yahoo.com|Kolhapur|\n",
      "| 498|     Kiran|null|61649|   kamal@gmail.com|   Panji|\n",
      "|null|      null|  25|76464|              null|  Barshi|\n",
      "| 416|    Bharat|null|98746|  bharat@gmail.com|   Latur|\n",
      "|null|      null|  40| null|  sachin@gmail.com|    Pune|\n",
      "| 489|   Pratham|  25|46479| pratham@gmail.com|    null|\n",
      "| 162|     Shlok|  27|46497|              null|    null|\n",
      "| 648|      null|  24|45404|  kanika@gmail.com|    null|\n",
      "+----+----------+----+-----+------------------+--------+\n",
      "\n"
     ]
    }
   ],
   "source": [
    "dfn.show()"
   ]
  },
  {
   "cell_type": "code",
   "execution_count": 20,
   "id": "1bcd087d",
   "metadata": {},
   "outputs": [
    {
     "name": "stdout",
     "output_type": "stream",
     "text": [
      "+-------+------------------+----------+------------------+------------------+---------------+------+\n",
      "|summary|                ID|      NAME|               AGE|               SAL|          EMAIL|   LOC|\n",
      "+-------+------------------+----------+------------------+------------------+---------------+------+\n",
      "|  count|                12|        11|                11|                13|             12|    11|\n",
      "|   mean|255.66666666666666|      null|28.545454545454547|64106.583333333336|           null|  null|\n",
      "| stddev|197.17335857902643|      null|  4.67682876239095| 19873.90239145678|           null|  null|\n",
      "|    min|               105|      Anil|                24|             45404| anil@gmail.com|Barshi|\n",
      "|    25%|               114|      null|                25|           46479.0|           null|  null|\n",
      "|    50%|               135|      null|                27|           59700.0|           null|  null|\n",
      "|    75%|               416|      null|                32|           76464.0|           null|  null|\n",
      "|    max|               648|Vijaykumar|                40|              null|vijay@yahoo.com| Thane|\n",
      "+-------+------------------+----------+------------------+------------------+---------------+------+\n",
      "\n"
     ]
    }
   ],
   "source": [
    "dfn.summary().show()"
   ]
  },
  {
   "cell_type": "code",
   "execution_count": 21,
   "id": "014ce86f",
   "metadata": {},
   "outputs": [
    {
     "name": "stdout",
     "output_type": "stream",
     "text": [
      "+---+----------+---+-----+------------------+--------+\n",
      "| ID|      NAME|AGE|  SAL|             EMAIL|     LOC|\n",
      "+---+----------+---+-----+------------------+--------+\n",
      "|114|    Jayesh| 27|65000|jayesh@outlook.com|   Thane|\n",
      "|120|     Komal| 28|59700|   komal@yahoo.com| Sangali|\n",
      "|140|    Sachin| 29|45700|  sachin@gmail.com|Kolhapur|\n",
      "|135|Vijaykumar| 32|46940|   vijay@yahoo.com|Kolhapur|\n",
      "+---+----------+---+-----+------------------+--------+\n",
      "\n"
     ]
    }
   ],
   "source": [
    "dfn.na.drop().show()"
   ]
  },
  {
   "cell_type": "code",
   "execution_count": 22,
   "id": "80e5a227",
   "metadata": {},
   "outputs": [
    {
     "name": "stdout",
     "output_type": "stream",
     "text": [
      "+----+----------+----+-----+------------------+--------+\n",
      "|  ID|      NAME| AGE|  SAL|             EMAIL|     LOC|\n",
      "+----+----------+----+-----+------------------+--------+\n",
      "| 105|      Anil|  32| null|    anil@gmail.com|    Pune|\n",
      "| 106|    Chetan|null|98000|    chet@yahoo.com|   Pawai|\n",
      "| 114|    Jayesh|  27|65000|jayesh@outlook.com|   Thane|\n",
      "|null|    Harish|  25| null|  harish@gmail.com|    null|\n",
      "| 120|     Komal|  28|59700|   komal@yahoo.com| Sangali|\n",
      "| 135|      null|null|78700|              null|Hydrabad|\n",
      "| 140|    Sachin|  29|45700|  sachin@gmail.com|Kolhapur|\n",
      "| 135|Vijaykumar|  32|46940|   vijay@yahoo.com|Kolhapur|\n",
      "| 498|     Kiran|null|61649|   kamal@gmail.com|   Panji|\n",
      "|null|      null|  25|76464|              null|  Barshi|\n",
      "| 416|    Bharat|null|98746|  bharat@gmail.com|   Latur|\n",
      "|null|      null|  40| null|  sachin@gmail.com|    Pune|\n",
      "| 489|   Pratham|  25|46479| pratham@gmail.com|    null|\n",
      "| 162|     Shlok|  27|46497|              null|    null|\n",
      "| 648|      null|  24|45404|  kanika@gmail.com|    null|\n",
      "+----+----------+----+-----+------------------+--------+\n",
      "\n"
     ]
    }
   ],
   "source": [
    "dfn.show()"
   ]
  },
  {
   "cell_type": "code",
   "execution_count": 23,
   "id": "7b576ad0",
   "metadata": {},
   "outputs": [
    {
     "name": "stdout",
     "output_type": "stream",
     "text": [
      "+---+----------+---+-----+------------------+--------+\n",
      "| ID|      NAME|AGE|  SAL|             EMAIL|     LOC|\n",
      "+---+----------+---+-----+------------------+--------+\n",
      "|114|    Jayesh| 27|65000|jayesh@outlook.com|   Thane|\n",
      "|120|     Komal| 28|59700|   komal@yahoo.com| Sangali|\n",
      "|140|    Sachin| 29|45700|  sachin@gmail.com|Kolhapur|\n",
      "|135|Vijaykumar| 32|46940|   vijay@yahoo.com|Kolhapur|\n",
      "+---+----------+---+-----+------------------+--------+\n",
      "\n"
     ]
    }
   ],
   "source": [
    "dfn.na.drop(how='any').show()"
   ]
  },
  {
   "cell_type": "code",
   "execution_count": 24,
   "id": "bbe701a0",
   "metadata": {},
   "outputs": [
    {
     "name": "stdout",
     "output_type": "stream",
     "text": [
      "+----+----------+----+-----+------------------+--------+\n",
      "|  ID|      NAME| AGE|  SAL|             EMAIL|     LOC|\n",
      "+----+----------+----+-----+------------------+--------+\n",
      "| 105|      Anil|  32| null|    anil@gmail.com|    Pune|\n",
      "| 106|    Chetan|null|98000|    chet@yahoo.com|   Pawai|\n",
      "| 114|    Jayesh|  27|65000|jayesh@outlook.com|   Thane|\n",
      "|null|    Harish|  25| null|  harish@gmail.com|    null|\n",
      "| 120|     Komal|  28|59700|   komal@yahoo.com| Sangali|\n",
      "| 135|      null|null|78700|              null|Hydrabad|\n",
      "| 140|    Sachin|  29|45700|  sachin@gmail.com|Kolhapur|\n",
      "| 135|Vijaykumar|  32|46940|   vijay@yahoo.com|Kolhapur|\n",
      "| 498|     Kiran|null|61649|   kamal@gmail.com|   Panji|\n",
      "|null|      null|  25|76464|              null|  Barshi|\n",
      "| 416|    Bharat|null|98746|  bharat@gmail.com|   Latur|\n",
      "|null|      null|  40| null|  sachin@gmail.com|    Pune|\n",
      "| 489|   Pratham|  25|46479| pratham@gmail.com|    null|\n",
      "| 162|     Shlok|  27|46497|              null|    null|\n",
      "| 648|      null|  24|45404|  kanika@gmail.com|    null|\n",
      "+----+----------+----+-----+------------------+--------+\n",
      "\n"
     ]
    }
   ],
   "source": [
    "dfn.na.drop(how='all').show()"
   ]
  },
  {
   "cell_type": "code",
   "execution_count": 25,
   "id": "b8b51a1b",
   "metadata": {},
   "outputs": [
    {
     "name": "stdout",
     "output_type": "stream",
     "text": [
      "+---+----------+----+-----+------------------+--------+\n",
      "| ID|      NAME| AGE|  SAL|             EMAIL|     LOC|\n",
      "+---+----------+----+-----+------------------+--------+\n",
      "|105|      Anil|  32| null|    anil@gmail.com|    Pune|\n",
      "|106|    Chetan|null|98000|    chet@yahoo.com|   Pawai|\n",
      "|114|    Jayesh|  27|65000|jayesh@outlook.com|   Thane|\n",
      "|120|     Komal|  28|59700|   komal@yahoo.com| Sangali|\n",
      "|140|    Sachin|  29|45700|  sachin@gmail.com|Kolhapur|\n",
      "|135|Vijaykumar|  32|46940|   vijay@yahoo.com|Kolhapur|\n",
      "|498|     Kiran|null|61649|   kamal@gmail.com|   Panji|\n",
      "|416|    Bharat|null|98746|  bharat@gmail.com|   Latur|\n",
      "|489|   Pratham|  25|46479| pratham@gmail.com|    null|\n",
      "+---+----------+----+-----+------------------+--------+\n",
      "\n"
     ]
    }
   ],
   "source": [
    "#atleast 5 values should be present.\n",
    "dfn.na.drop(how='any',thresh=5).show()"
   ]
  },
  {
   "cell_type": "code",
   "execution_count": 26,
   "id": "5daeab99",
   "metadata": {},
   "outputs": [
    {
     "name": "stdout",
     "output_type": "stream",
     "text": [
      "+----+----------+----+-----+------------------+--------+\n",
      "|  ID|      NAME| AGE|  SAL|             EMAIL|     LOC|\n",
      "+----+----------+----+-----+------------------+--------+\n",
      "| 105|      Anil|  32| null|    anil@gmail.com|    Pune|\n",
      "| 106|    Chetan|null|98000|    chet@yahoo.com|   Pawai|\n",
      "| 114|    Jayesh|  27|65000|jayesh@outlook.com|   Thane|\n",
      "| 120|     Komal|  28|59700|   komal@yahoo.com| Sangali|\n",
      "| 135|      null|null|78700|              null|Hydrabad|\n",
      "| 140|    Sachin|  29|45700|  sachin@gmail.com|Kolhapur|\n",
      "| 135|Vijaykumar|  32|46940|   vijay@yahoo.com|Kolhapur|\n",
      "| 498|     Kiran|null|61649|   kamal@gmail.com|   Panji|\n",
      "|null|      null|  25|76464|              null|  Barshi|\n",
      "| 416|    Bharat|null|98746|  bharat@gmail.com|   Latur|\n",
      "|null|      null|  40| null|  sachin@gmail.com|    Pune|\n",
      "+----+----------+----+-----+------------------+--------+\n",
      "\n"
     ]
    }
   ],
   "source": [
    "#pass null values\n",
    "dfn.na.drop(how='any',subset=['LOC']).show()"
   ]
  },
  {
   "cell_type": "code",
   "execution_count": 27,
   "id": "bb325370",
   "metadata": {},
   "outputs": [
    {
     "name": "stdout",
     "output_type": "stream",
     "text": [
      "+----+----------+----+-----+------------------+--------+\n",
      "|  ID|      NAME| AGE|  SAL|             EMAIL|     LOC|\n",
      "+----+----------+----+-----+------------------+--------+\n",
      "| 105|      Anil|  32|    0|    anil@gmail.com|    Pune|\n",
      "| 106|    Chetan|null|98000|    chet@yahoo.com|   Pawai|\n",
      "| 114|    Jayesh|  27|65000|jayesh@outlook.com|   Thane|\n",
      "|null|    Harish|  25|    0|  harish@gmail.com|       0|\n",
      "| 120|     Komal|  28|59700|   komal@yahoo.com| Sangali|\n",
      "| 135|         0|null|78700|                 0|Hydrabad|\n",
      "| 140|    Sachin|  29|45700|  sachin@gmail.com|Kolhapur|\n",
      "| 135|Vijaykumar|  32|46940|   vijay@yahoo.com|Kolhapur|\n",
      "| 498|     Kiran|null|61649|   kamal@gmail.com|   Panji|\n",
      "|null|         0|  25|76464|                 0|  Barshi|\n",
      "| 416|    Bharat|null|98746|  bharat@gmail.com|   Latur|\n",
      "|null|         0|  40| null|  sachin@gmail.com|    Pune|\n",
      "| 489|   Pratham|  25|46479| pratham@gmail.com|       0|\n",
      "| 162|     Shlok|  27|46497|                 0|       0|\n",
      "| 648|         0|  24|45404|  kanika@gmail.com|       0|\n",
      "+----+----------+----+-----+------------------+--------+\n",
      "\n"
     ]
    }
   ],
   "source": [
    "dfn.fillna('0').show()"
   ]
  },
  {
   "cell_type": "code",
   "execution_count": 28,
   "id": "6fb5bbdd",
   "metadata": {},
   "outputs": [
    {
     "name": "stdout",
     "output_type": "stream",
     "text": [
      "+----+----------+----+-----+-------------------+-------------------+\n",
      "|  ID|      NAME| AGE|  SAL|              EMAIL|                LOC|\n",
      "+----+----------+----+-----+-------------------+-------------------+\n",
      "| 105|      Anil|  32| null|     anil@gmail.com|               Pune|\n",
      "| 106|    Chetan|null|98000|     chet@yahoo.com|              Pawai|\n",
      "| 114|    Jayesh|  27|65000| jayesh@outlook.com|              Thane|\n",
      "|null|    Harish|  25| null|   harish@gmail.com|Null Values Present|\n",
      "| 120|     Komal|  28|59700|    komal@yahoo.com|            Sangali|\n",
      "| 135|      null|null|78700|Null Values Present|           Hydrabad|\n",
      "| 140|    Sachin|  29|45700|   sachin@gmail.com|           Kolhapur|\n",
      "| 135|Vijaykumar|  32|46940|    vijay@yahoo.com|           Kolhapur|\n",
      "| 498|     Kiran|null|61649|    kamal@gmail.com|              Panji|\n",
      "|null|      null|  25|76464|Null Values Present|             Barshi|\n",
      "| 416|    Bharat|null|98746|   bharat@gmail.com|              Latur|\n",
      "|null|      null|  40| null|   sachin@gmail.com|               Pune|\n",
      "| 489|   Pratham|  25|46479|  pratham@gmail.com|Null Values Present|\n",
      "| 162|     Shlok|  27|46497|Null Values Present|Null Values Present|\n",
      "| 648|      null|  24|45404|   kanika@gmail.com|Null Values Present|\n",
      "+----+----------+----+-----+-------------------+-------------------+\n",
      "\n"
     ]
    }
   ],
   "source": [
    "dfn.fillna('Null Values Present',['EMAIL','LOC']).show()"
   ]
  },
  {
   "cell_type": "code",
   "execution_count": 42,
   "id": "73e41fb5",
   "metadata": {},
   "outputs": [],
   "source": [
    "dfx = dfn.dropna()"
   ]
  },
  {
   "cell_type": "code",
   "execution_count": 43,
   "id": "508c5707",
   "metadata": {},
   "outputs": [
    {
     "name": "stdout",
     "output_type": "stream",
     "text": [
      "+---+----------+---+-----+------------------+--------+\n",
      "| ID|      NAME|AGE|  SAL|             EMAIL|     LOC|\n",
      "+---+----------+---+-----+------------------+--------+\n",
      "|114|    Jayesh| 27|65000|jayesh@outlook.com|   Thane|\n",
      "|120|     Komal| 28|59700|   komal@yahoo.com| Sangali|\n",
      "|140|    Sachin| 29|45700|  sachin@gmail.com|Kolhapur|\n",
      "|135|Vijaykumar| 32|46940|   vijay@yahoo.com|Kolhapur|\n",
      "+---+----------+---+-----+------------------+--------+\n",
      "\n"
     ]
    }
   ],
   "source": [
    "dfx.show()"
   ]
  },
  {
   "cell_type": "code",
   "execution_count": 47,
   "id": "7b16f21a",
   "metadata": {},
   "outputs": [
    {
     "name": "stdout",
     "output_type": "stream",
     "text": [
      "root\n",
      " |-- ID: integer (nullable = true)\n",
      " |-- NAME: string (nullable = true)\n",
      " |-- AGE: integer (nullable = true)\n",
      " |-- SAL: string (nullable = true)\n",
      " |-- EMAIL: string (nullable = true)\n",
      " |-- LOC: string (nullable = true)\n",
      "\n"
     ]
    }
   ],
   "source": [
    "dfx.printSchema()"
   ]
  },
  {
   "cell_type": "code",
   "execution_count": 51,
   "id": "348d1b58",
   "metadata": {},
   "outputs": [],
   "source": [
    "dfy = dfx.toPandas()"
   ]
  },
  {
   "cell_type": "code",
   "execution_count": 52,
   "id": "807c1210",
   "metadata": {},
   "outputs": [
    {
     "data": {
      "text/html": [
       "<div>\n",
       "<style scoped>\n",
       "    .dataframe tbody tr th:only-of-type {\n",
       "        vertical-align: middle;\n",
       "    }\n",
       "\n",
       "    .dataframe tbody tr th {\n",
       "        vertical-align: top;\n",
       "    }\n",
       "\n",
       "    .dataframe thead th {\n",
       "        text-align: right;\n",
       "    }\n",
       "</style>\n",
       "<table border=\"1\" class=\"dataframe\">\n",
       "  <thead>\n",
       "    <tr style=\"text-align: right;\">\n",
       "      <th></th>\n",
       "      <th>ID</th>\n",
       "      <th>NAME</th>\n",
       "      <th>AGE</th>\n",
       "      <th>SAL</th>\n",
       "      <th>EMAIL</th>\n",
       "      <th>LOC</th>\n",
       "    </tr>\n",
       "  </thead>\n",
       "  <tbody>\n",
       "    <tr>\n",
       "      <th>0</th>\n",
       "      <td>114</td>\n",
       "      <td>Jayesh</td>\n",
       "      <td>27</td>\n",
       "      <td>65000</td>\n",
       "      <td>jayesh@outlook.com</td>\n",
       "      <td>Thane</td>\n",
       "    </tr>\n",
       "    <tr>\n",
       "      <th>1</th>\n",
       "      <td>120</td>\n",
       "      <td>Komal</td>\n",
       "      <td>28</td>\n",
       "      <td>59700</td>\n",
       "      <td>komal@yahoo.com</td>\n",
       "      <td>Sangali</td>\n",
       "    </tr>\n",
       "    <tr>\n",
       "      <th>2</th>\n",
       "      <td>140</td>\n",
       "      <td>Sachin</td>\n",
       "      <td>29</td>\n",
       "      <td>45700</td>\n",
       "      <td>sachin@gmail.com</td>\n",
       "      <td>Kolhapur</td>\n",
       "    </tr>\n",
       "    <tr>\n",
       "      <th>3</th>\n",
       "      <td>135</td>\n",
       "      <td>Vijaykumar</td>\n",
       "      <td>32</td>\n",
       "      <td>46940</td>\n",
       "      <td>vijay@yahoo.com</td>\n",
       "      <td>Kolhapur</td>\n",
       "    </tr>\n",
       "  </tbody>\n",
       "</table>\n",
       "</div>"
      ],
      "text/plain": [
       "    ID        NAME  AGE    SAL               EMAIL       LOC\n",
       "0  114      Jayesh   27  65000  jayesh@outlook.com     Thane\n",
       "1  120       Komal   28  59700     komal@yahoo.com   Sangali\n",
       "2  140      Sachin   29  45700    sachin@gmail.com  Kolhapur\n",
       "3  135  Vijaykumar   32  46940     vijay@yahoo.com  Kolhapur"
      ]
     },
     "execution_count": 52,
     "metadata": {},
     "output_type": "execute_result"
    }
   ],
   "source": [
    "dfy"
   ]
  },
  {
   "cell_type": "code",
   "execution_count": 53,
   "id": "d783bb37",
   "metadata": {},
   "outputs": [],
   "source": [
    "dfy['SAL'] = dfy['SAL'].astype('int64')"
   ]
  },
  {
   "cell_type": "code",
   "execution_count": 55,
   "id": "b6ec6e68",
   "metadata": {},
   "outputs": [
    {
     "data": {
      "text/plain": [
       "ID        int32\n",
       "NAME     object\n",
       "AGE       int32\n",
       "SAL       int64\n",
       "EMAIL    object\n",
       "LOC      object\n",
       "dtype: object"
      ]
     },
     "execution_count": 55,
     "metadata": {},
     "output_type": "execute_result"
    }
   ],
   "source": [
    "dfy.dtypes"
   ]
  },
  {
   "cell_type": "code",
   "execution_count": 59,
   "id": "e6c1291d",
   "metadata": {},
   "outputs": [],
   "source": [
    "dfy.to_csv('SpaTest.csv')"
   ]
  },
  {
   "cell_type": "code",
   "execution_count": 62,
   "id": "9f454558",
   "metadata": {},
   "outputs": [],
   "source": [
    "dfz = spark.read.csv(r'C:\\Users\\tsd95\\SpaTest.csv',inferSchema=True,header=True)"
   ]
  },
  {
   "cell_type": "code",
   "execution_count": 63,
   "id": "24741ccc",
   "metadata": {},
   "outputs": [
    {
     "name": "stdout",
     "output_type": "stream",
     "text": [
      "+---+---+----------+---+-----+------------------+--------+\n",
      "|_c0| ID|      NAME|AGE|  SAL|             EMAIL|     LOC|\n",
      "+---+---+----------+---+-----+------------------+--------+\n",
      "|  0|114|    Jayesh| 27|65000|jayesh@outlook.com|   Thane|\n",
      "|  1|120|     Komal| 28|59700|   komal@yahoo.com| Sangali|\n",
      "|  2|140|    Sachin| 29|45700|  sachin@gmail.com|Kolhapur|\n",
      "|  3|135|Vijaykumar| 32|46940|   vijay@yahoo.com|Kolhapur|\n",
      "+---+---+----------+---+-----+------------------+--------+\n",
      "\n"
     ]
    }
   ],
   "source": [
    "dfz.show()"
   ]
  },
  {
   "cell_type": "code",
   "execution_count": null,
   "id": "2433ce78",
   "metadata": {},
   "outputs": [],
   "source": []
  },
  {
   "cell_type": "code",
   "execution_count": 64,
   "id": "1acb1bde",
   "metadata": {},
   "outputs": [],
   "source": [
    "from pyspark.ml.feature import Imputer"
   ]
  },
  {
   "cell_type": "code",
   "execution_count": 65,
   "id": "b318da88",
   "metadata": {},
   "outputs": [],
   "source": [
    "ob = Imputer(inputCols=['ID','SAL'],outputCols=['ID','SAL']).setStrategy('mean')"
   ]
  },
  {
   "cell_type": "code",
   "execution_count": 66,
   "id": "709507af",
   "metadata": {},
   "outputs": [
    {
     "name": "stdout",
     "output_type": "stream",
     "text": [
      "+---+---+----------+---+-----+------------------+--------+\n",
      "|_c0| ID|      NAME|AGE|  SAL|             EMAIL|     LOC|\n",
      "+---+---+----------+---+-----+------------------+--------+\n",
      "|  0|114|    Jayesh| 27|65000|jayesh@outlook.com|   Thane|\n",
      "|  1|120|     Komal| 28|59700|   komal@yahoo.com| Sangali|\n",
      "|  2|140|    Sachin| 29|45700|  sachin@gmail.com|Kolhapur|\n",
      "|  3|135|Vijaykumar| 32|46940|   vijay@yahoo.com|Kolhapur|\n",
      "+---+---+----------+---+-----+------------------+--------+\n",
      "\n"
     ]
    }
   ],
   "source": [
    "ob.fit(dfz).transform(dfz).show()"
   ]
  },
  {
   "cell_type": "code",
   "execution_count": 67,
   "id": "c2846b25",
   "metadata": {},
   "outputs": [],
   "source": [
    "df1 = spark.read.csv(r\"C:\\Users\\tsd95\\CSV Files\\08 wind-generation.csv\",header=True,inferSchema=True)"
   ]
  },
  {
   "cell_type": "code",
   "execution_count": 68,
   "id": "5b8b4a68",
   "metadata": {},
   "outputs": [
    {
     "name": "stdout",
     "output_type": "stream",
     "text": [
      "+-----------+----+----+----------------+\n",
      "|     Entity|Code|Year|Electricity_wind|\n",
      "+-----------+----+----+----------------+\n",
      "|Afghanistan| AFG|2000|             0.0|\n",
      "|Afghanistan| AFG|2001|             0.0|\n",
      "|Afghanistan| AFG|2002|             0.0|\n",
      "|Afghanistan| AFG|2003|             0.0|\n",
      "|Afghanistan| AFG|2004|             0.0|\n",
      "|Afghanistan| AFG|2005|             0.0|\n",
      "|Afghanistan| AFG|2006|             0.0|\n",
      "|Afghanistan| AFG|2007|             0.0|\n",
      "|Afghanistan| AFG|2008|             0.0|\n",
      "|Afghanistan| AFG|2009|             0.0|\n",
      "|Afghanistan| AFG|2010|             0.0|\n",
      "|Afghanistan| AFG|2011|             0.0|\n",
      "|Afghanistan| AFG|2012|             0.0|\n",
      "|Afghanistan| AFG|2013|             0.0|\n",
      "|Afghanistan| AFG|2014|             0.0|\n",
      "|Afghanistan| AFG|2015|             0.0|\n",
      "|Afghanistan| AFG|2016|             0.0|\n",
      "|Afghanistan| AFG|2017|             0.0|\n",
      "|Afghanistan| AFG|2018|             0.0|\n",
      "|Afghanistan| AFG|2019|             0.0|\n",
      "+-----------+----+----+----------------+\n",
      "only showing top 20 rows\n",
      "\n"
     ]
    }
   ],
   "source": [
    "df1.show()"
   ]
  },
  {
   "cell_type": "code",
   "execution_count": 69,
   "id": "4b163ed6",
   "metadata": {},
   "outputs": [
    {
     "name": "stdout",
     "output_type": "stream",
     "text": [
      "+-------------------+----+----+----------------+\n",
      "|             Entity|Code|Year|Electricity_wind|\n",
      "+-------------------+----+----+----------------+\n",
      "|        Afghanistan| AFG|2000|             0.0|\n",
      "|             Africa|null|2000|            0.23|\n",
      "|        Africa (BP)|null|2000|          0.1755|\n",
      "|     Africa (Ember)|null|2000|            0.23|\n",
      "|            Albania| ALB|2000|             0.0|\n",
      "|            Algeria| DZA|2000|             0.0|\n",
      "|     American Samoa| ASM|2000|             0.0|\n",
      "|             Angola| AGO|2000|             0.0|\n",
      "|Antigua and Barbuda| ATG|2000|             0.0|\n",
      "|          Argentina| ARG|2000|            0.04|\n",
      "|            Armenia| ARM|2000|             0.0|\n",
      "|              Aruba| ABW|2000|             0.0|\n",
      "|               Asia|null|2000|            2.37|\n",
      "|       Asia (Ember)|null|2000|             2.3|\n",
      "|  Asia Pacific (BP)|null|2000|        2.563947|\n",
      "|          Australia| AUS|2000|            0.06|\n",
      "|            Austria| AUT|2000|            0.07|\n",
      "|         Azerbaijan| AZE|2000|             0.0|\n",
      "|            Bahamas| BHS|2000|             0.0|\n",
      "|            Bahrain| BHR|2000|             0.0|\n",
      "+-------------------+----+----+----------------+\n",
      "only showing top 20 rows\n",
      "\n"
     ]
    }
   ],
   "source": [
    "df1.filter('Year=2000').show()"
   ]
  },
  {
   "cell_type": "code",
   "execution_count": 70,
   "id": "31be3f2e",
   "metadata": {},
   "outputs": [
    {
     "name": "stdout",
     "output_type": "stream",
     "text": [
      "+-------------------+----+----+----------------+\n",
      "|             Entity|Code|Year|Electricity_wind|\n",
      "+-------------------+----+----+----------------+\n",
      "|        Afghanistan| AFG|2000|             0.0|\n",
      "|             Africa|null|2000|            0.23|\n",
      "|        Africa (BP)|null|2000|          0.1755|\n",
      "|     Africa (Ember)|null|2000|            0.23|\n",
      "|            Albania| ALB|2000|             0.0|\n",
      "|            Algeria| DZA|2000|             0.0|\n",
      "|     American Samoa| ASM|2000|             0.0|\n",
      "|             Angola| AGO|2000|             0.0|\n",
      "|Antigua and Barbuda| ATG|2000|             0.0|\n",
      "|          Argentina| ARG|2000|            0.04|\n",
      "|            Armenia| ARM|2000|             0.0|\n",
      "|              Aruba| ABW|2000|             0.0|\n",
      "|               Asia|null|2000|            2.37|\n",
      "|       Asia (Ember)|null|2000|             2.3|\n",
      "|  Asia Pacific (BP)|null|2000|        2.563947|\n",
      "|          Australia| AUS|2000|            0.06|\n",
      "|            Austria| AUT|2000|            0.07|\n",
      "|         Azerbaijan| AZE|2000|             0.0|\n",
      "|            Bahamas| BHS|2000|             0.0|\n",
      "|            Bahrain| BHR|2000|             0.0|\n",
      "+-------------------+----+----+----------------+\n",
      "only showing top 20 rows\n",
      "\n"
     ]
    }
   ],
   "source": [
    "df1.filter(('Code==AFG') and ('Year=2000')).show()"
   ]
  },
  {
   "cell_type": "code",
   "execution_count": 71,
   "id": "387815d6",
   "metadata": {},
   "outputs": [
    {
     "name": "stdout",
     "output_type": "stream",
     "text": [
      "+-------------------+----+----+----------------+\n",
      "|             Entity|Code|Year|Electricity_wind|\n",
      "+-------------------+----+----+----------------+\n",
      "|        Afghanistan| AFG|2006|             0.0|\n",
      "|             Africa|null|2006|            0.87|\n",
      "|        Africa (BP)|null|2006|       0.8525656|\n",
      "|     Africa (Ember)|null|2006|            0.87|\n",
      "|            Albania| ALB|2006|             0.0|\n",
      "|            Algeria| DZA|2006|             0.0|\n",
      "|     American Samoa| ASM|2006|             0.0|\n",
      "|             Angola| AGO|2006|             0.0|\n",
      "|Antigua and Barbuda| ATG|2006|             0.0|\n",
      "|          Argentina| ARG|2006|            0.07|\n",
      "|            Armenia| ARM|2006|             0.0|\n",
      "|              Aruba| ABW|2006|             0.0|\n",
      "|               Asia|null|2006|           16.06|\n",
      "|       Asia (Ember)|null|2006|           15.79|\n",
      "|  Asia Pacific (BP)|null|2006|       18.569807|\n",
      "|          Australia| AUS|2006|            1.71|\n",
      "|            Austria| AUT|2006|            1.75|\n",
      "|         Azerbaijan| AZE|2006|             0.0|\n",
      "|            Bahamas| BHS|2006|             0.0|\n",
      "|            Bahrain| BHR|2006|             0.0|\n",
      "+-------------------+----+----+----------------+\n",
      "only showing top 20 rows\n",
      "\n"
     ]
    }
   ],
   "source": [
    "df1.filter(('Code==null')and('Year=2006')).show()"
   ]
  },
  {
   "cell_type": "code",
   "execution_count": 72,
   "id": "4b56bc9c",
   "metadata": {},
   "outputs": [
    {
     "data": {
      "text/plain": [
       "[('Entity', 'string'),\n",
       " ('Code', 'string'),\n",
       " ('Year', 'int'),\n",
       " ('Electricity_wind', 'double')]"
      ]
     },
     "execution_count": 72,
     "metadata": {},
     "output_type": "execute_result"
    }
   ],
   "source": [
    "df1.dtypes"
   ]
  },
  {
   "cell_type": "code",
   "execution_count": 73,
   "id": "bafd1036",
   "metadata": {},
   "outputs": [
    {
     "name": "stdout",
     "output_type": "stream",
     "text": [
      "+-----------+----+----+----------------+\n",
      "|     Entity|Code|Year|Electricity_wind|\n",
      "+-----------+----+----+----------------+\n",
      "|Afghanistan| AFG|2000|             0.0|\n",
      "|Afghanistan| AFG|2001|             0.0|\n",
      "|Afghanistan| AFG|2002|             0.0|\n",
      "|Afghanistan| AFG|2003|             0.0|\n",
      "|Afghanistan| AFG|2004|             0.0|\n",
      "|Afghanistan| AFG|2005|             0.0|\n",
      "|Afghanistan| AFG|2006|             0.0|\n",
      "|Afghanistan| AFG|2007|             0.0|\n",
      "|Afghanistan| AFG|2008|             0.0|\n",
      "|Afghanistan| AFG|2009|             0.0|\n",
      "|Afghanistan| AFG|2010|             0.0|\n",
      "|Afghanistan| AFG|2011|             0.0|\n",
      "|Afghanistan| AFG|2012|             0.0|\n",
      "|Afghanistan| AFG|2013|             0.0|\n",
      "|Afghanistan| AFG|2014|             0.0|\n",
      "|Afghanistan| AFG|2015|             0.0|\n",
      "|Afghanistan| AFG|2016|             0.0|\n",
      "|Afghanistan| AFG|2017|             0.0|\n",
      "|Afghanistan| AFG|2018|             0.0|\n",
      "|Afghanistan| AFG|2019|             0.0|\n",
      "+-----------+----+----+----------------+\n",
      "only showing top 20 rows\n",
      "\n"
     ]
    }
   ],
   "source": [
    "df1.filter(('Code==null') and ('Electricity_wind<1.0')).show()"
   ]
  },
  {
   "cell_type": "code",
   "execution_count": 74,
   "id": "6a65ace7",
   "metadata": {},
   "outputs": [
    {
     "data": {
      "text/plain": [
       "218"
      ]
     },
     "execution_count": 74,
     "metadata": {},
     "output_type": "execute_result"
    }
   ],
   "source": [
    "df1.select('Code').distinct().count()"
   ]
  },
  {
   "cell_type": "code",
   "execution_count": 75,
   "id": "4d437688",
   "metadata": {},
   "outputs": [
    {
     "name": "stdout",
     "output_type": "stream",
     "text": [
      "+--------------------+\n",
      "|              Entity|\n",
      "+--------------------+\n",
      "|European Union (2...|\n",
      "|                Chad|\n",
      "|            Paraguay|\n",
      "|              Russia|\n",
      "|               Macao|\n",
      "|               World|\n",
      "|               Yemen|\n",
      "|             Senegal|\n",
      "|              Sweden|\n",
      "|            Kiribati|\n",
      "|              Guyana|\n",
      "|             Eritrea|\n",
      "|     Oceania (Ember)|\n",
      "|         Philippines|\n",
      "|            Djibouti|\n",
      "|               Tonga|\n",
      "|            Malaysia|\n",
      "|           Singapore|\n",
      "|                Fiji|\n",
      "|              Turkey|\n",
      "+--------------------+\n",
      "only showing top 20 rows\n",
      "\n"
     ]
    }
   ],
   "source": [
    "df1.select('Entity').distinct().show()"
   ]
  },
  {
   "cell_type": "code",
   "execution_count": 76,
   "id": "6efe8fb6",
   "metadata": {},
   "outputs": [
    {
     "name": "stdout",
     "output_type": "stream",
     "text": [
      "+--------+-----+\n",
      "|    Code|count|\n",
      "+--------+-----+\n",
      "|     NIU|   22|\n",
      "|     HTI|   22|\n",
      "|     PSE|   22|\n",
      "|     BRB|   22|\n",
      "|     LVA|   33|\n",
      "|     POL|   58|\n",
      "|OWID_WRL|   57|\n",
      "|     JAM|   22|\n",
      "|     ZMB|   22|\n",
      "|     BRA|   57|\n",
      "|     SPM|   22|\n",
      "|     ARM|   22|\n",
      "|     MOZ|   22|\n",
      "|     CUB|   22|\n",
      "|     JOR|   22|\n",
      "|     ABW|   22|\n",
      "|     FRA|   58|\n",
      "|     SOM|   22|\n",
      "|     TCA|   22|\n",
      "|     BRN|   22|\n",
      "+--------+-----+\n",
      "only showing top 20 rows\n",
      "\n"
     ]
    }
   ],
   "source": [
    "df1.groupBy('Code').count().show()"
   ]
  },
  {
   "cell_type": "code",
   "execution_count": 77,
   "id": "0630a8e2",
   "metadata": {},
   "outputs": [
    {
     "name": "stdout",
     "output_type": "stream",
     "text": [
      "+--------------------+-----+\n",
      "|              Entity|count|\n",
      "+--------------------+-----+\n",
      "|European Union (2...|   23|\n",
      "|                Chad|   22|\n",
      "|            Paraguay|   22|\n",
      "|              Russia|   32|\n",
      "|               Macao|   22|\n",
      "|               World|   57|\n",
      "|               Yemen|   22|\n",
      "|             Senegal|   22|\n",
      "|              Sweden|   58|\n",
      "|            Kiribati|   22|\n",
      "|              Guyana|   22|\n",
      "|             Eritrea|   22|\n",
      "|     Oceania (Ember)|   22|\n",
      "|         Philippines|   57|\n",
      "|            Djibouti|   22|\n",
      "|               Tonga|   22|\n",
      "|            Malaysia|   57|\n",
      "|           Singapore|   57|\n",
      "|                Fiji|   22|\n",
      "|              Turkey|   57|\n",
      "+--------------------+-----+\n",
      "only showing top 20 rows\n",
      "\n"
     ]
    }
   ],
   "source": [
    "df1.groupby('Entity').count().show()"
   ]
  },
  {
   "cell_type": "code",
   "execution_count": 78,
   "id": "ef1eb717",
   "metadata": {},
   "outputs": [
    {
     "name": "stdout",
     "output_type": "stream",
     "text": [
      "+--------------------+---------------------+\n",
      "|              Entity|max(Electricity_wind)|\n",
      "+--------------------+---------------------+\n",
      "|European Union (2...|               419.59|\n",
      "|                Chad|                 0.01|\n",
      "|            Paraguay|                  0.0|\n",
      "|              Russia|                 3.89|\n",
      "|               Macao|                  0.0|\n",
      "|               World|              1848.26|\n",
      "|               Yemen|                  0.0|\n",
      "|             Senegal|                 0.25|\n",
      "|              Sweden|                33.24|\n",
      "|            Kiribati|                  0.0|\n",
      "+--------------------+---------------------+\n",
      "only showing top 10 rows\n",
      "\n"
     ]
    }
   ],
   "source": [
    "df1.groupBy('Entity').max('Electricity_wind').show(10)"
   ]
  },
  {
   "cell_type": "code",
   "execution_count": null,
   "id": "7b4add2c",
   "metadata": {},
   "outputs": [],
   "source": []
  },
  {
   "cell_type": "markdown",
   "id": "80d290eb",
   "metadata": {},
   "source": [
    "### Pyspark SQL"
   ]
  },
  {
   "cell_type": "code",
   "execution_count": 79,
   "id": "64b20d7b",
   "metadata": {},
   "outputs": [],
   "source": [
    "dfs = spark.read.csv(r\"C:\\Users\\tsd95\\CSV Files\\customer_shopping_data.csv\",header=True,inferSchema=True)"
   ]
  },
  {
   "cell_type": "code",
   "execution_count": 80,
   "id": "08dc8a34",
   "metadata": {},
   "outputs": [
    {
     "name": "stdout",
     "output_type": "stream",
     "text": [
      "+----------+-----------+------+---+---------------+--------+-------+--------------+------------+-----------------+\n",
      "|invoice_no|customer_id|gender|age|       category|quantity|  price|payment_method|invoice_date|    shopping_mall|\n",
      "+----------+-----------+------+---+---------------+--------+-------+--------------+------------+-----------------+\n",
      "|   I138884|    C241288|Female| 28|       Clothing|       5| 1500.4|   Credit Card|  05-08-2022|           Kanyon|\n",
      "|   I317333|    C111565|  Male| 21|          Shoes|       3|1800.51|    Debit Card|  12-12-2021|   Forum Istanbul|\n",
      "|   I127801|    C266599|  Male| 20|       Clothing|       1| 300.08|          Cash|  09-11-2021|        Metrocity|\n",
      "|   I173702|    C988172|Female| 66|          Shoes|       5|3000.85|   Credit Card|  16-05-2021|     Metropol AVM|\n",
      "|   I337046|    C189076|Female| 53|          Books|       4|   60.6|          Cash|  24-10-2021|           Kanyon|\n",
      "|   I227836|    C657758|Female| 28|       Clothing|       5| 1500.4|   Credit Card|  24-05-2022|   Forum Istanbul|\n",
      "|   I121056|    C151197|Female| 49|      Cosmetics|       1|  40.66|          Cash|  13-03-2022|     Istinye Park|\n",
      "|   I293112|    C176086|Female| 32|       Clothing|       2| 600.16|   Credit Card|  13-01-2021| Mall of Istanbul|\n",
      "|   I293455|    C159642|  Male| 69|       Clothing|       3| 900.24|   Credit Card|  04-11-2021|        Metrocity|\n",
      "|   I326945|    C283361|Female| 60|       Clothing|       2| 600.16|   Credit Card|  22-08-2021|           Kanyon|\n",
      "|   I306368|    C240286|Female| 36|Food & Beverage|       2|  10.46|          Cash|  25-12-2022|        Metrocity|\n",
      "|   I139207|    C191708|Female| 29|          Books|       1|  15.15|   Credit Card|  28-10-2022|Emaar Square Mall|\n",
      "|   I640508|    C225330|Female| 67|           Toys|       4| 143.36|    Debit Card|  31-07-2022|        Metrocity|\n",
      "|   I179802|    C312861|  Male| 25|       Clothing|       2| 600.16|          Cash|  17-11-2022|      Cevahir AVM|\n",
      "|   I336189|    C555402|Female| 67|       Clothing|       2| 600.16|   Credit Card|  03-06-2022|           Kanyon|\n",
      "|   I688768|    C362288|  Male| 24|          Shoes|       5|3000.85|   Credit Card|  07-11-2021|   Viaport Outlet|\n",
      "|   I294687|    C300786|  Male| 65|          Books|       2|   30.3|    Debit Card|  16-01-2021|        Metrocity|\n",
      "|   I195744|    C330667|Female| 42|Food & Beverage|       3|  15.69|   Credit Card|  05-01-2022|     Zorlu Center|\n",
      "|   I993048|    C218149|Female| 46|       Clothing|       2| 600.16|          Cash|  26-07-2021|     Metropol AVM|\n",
      "|   I992454|    C196845|  Male| 24|           Toys|       4| 143.36|          Cash|  07-03-2023|      Cevahir AVM|\n",
      "+----------+-----------+------+---+---------------+--------+-------+--------------+------------+-----------------+\n",
      "only showing top 20 rows\n",
      "\n"
     ]
    }
   ],
   "source": [
    "dfs.show()"
   ]
  },
  {
   "cell_type": "code",
   "execution_count": 81,
   "id": "6482db7a",
   "metadata": {},
   "outputs": [],
   "source": [
    "spark.read.option('header','true').csv(r\"C:\\Users\\tsd95\\CSV Files\\customer_shopping_data.csv\").createOrReplaceTempView('cust')"
   ]
  },
  {
   "cell_type": "code",
   "execution_count": 82,
   "id": "8939c9d9",
   "metadata": {},
   "outputs": [
    {
     "name": "stdout",
     "output_type": "stream",
     "text": [
      "+----------+-----------+------+---+---------------+--------+-------+--------------+------------+-----------------+\n",
      "|invoice_no|customer_id|gender|age|       category|quantity|  price|payment_method|invoice_date|    shopping_mall|\n",
      "+----------+-----------+------+---+---------------+--------+-------+--------------+------------+-----------------+\n",
      "|   I138884|    C241288|Female| 28|       Clothing|       5| 1500.4|   Credit Card|  05-08-2022|           Kanyon|\n",
      "|   I317333|    C111565|  Male| 21|          Shoes|       3|1800.51|    Debit Card|  12-12-2021|   Forum Istanbul|\n",
      "|   I127801|    C266599|  Male| 20|       Clothing|       1| 300.08|          Cash|  09-11-2021|        Metrocity|\n",
      "|   I173702|    C988172|Female| 66|          Shoes|       5|3000.85|   Credit Card|  16-05-2021|     Metropol AVM|\n",
      "|   I337046|    C189076|Female| 53|          Books|       4|   60.6|          Cash|  24-10-2021|           Kanyon|\n",
      "|   I227836|    C657758|Female| 28|       Clothing|       5| 1500.4|   Credit Card|  24-05-2022|   Forum Istanbul|\n",
      "|   I121056|    C151197|Female| 49|      Cosmetics|       1|  40.66|          Cash|  13-03-2022|     Istinye Park|\n",
      "|   I293112|    C176086|Female| 32|       Clothing|       2| 600.16|   Credit Card|  13-01-2021| Mall of Istanbul|\n",
      "|   I293455|    C159642|  Male| 69|       Clothing|       3| 900.24|   Credit Card|  04-11-2021|        Metrocity|\n",
      "|   I326945|    C283361|Female| 60|       Clothing|       2| 600.16|   Credit Card|  22-08-2021|           Kanyon|\n",
      "|   I306368|    C240286|Female| 36|Food & Beverage|       2|  10.46|          Cash|  25-12-2022|        Metrocity|\n",
      "|   I139207|    C191708|Female| 29|          Books|       1|  15.15|   Credit Card|  28-10-2022|Emaar Square Mall|\n",
      "|   I640508|    C225330|Female| 67|           Toys|       4| 143.36|    Debit Card|  31-07-2022|        Metrocity|\n",
      "|   I179802|    C312861|  Male| 25|       Clothing|       2| 600.16|          Cash|  17-11-2022|      Cevahir AVM|\n",
      "|   I336189|    C555402|Female| 67|       Clothing|       2| 600.16|   Credit Card|  03-06-2022|           Kanyon|\n",
      "|   I688768|    C362288|  Male| 24|          Shoes|       5|3000.85|   Credit Card|  07-11-2021|   Viaport Outlet|\n",
      "|   I294687|    C300786|  Male| 65|          Books|       2|   30.3|    Debit Card|  16-01-2021|        Metrocity|\n",
      "|   I195744|    C330667|Female| 42|Food & Beverage|       3|  15.69|   Credit Card|  05-01-2022|     Zorlu Center|\n",
      "|   I993048|    C218149|Female| 46|       Clothing|       2| 600.16|          Cash|  26-07-2021|     Metropol AVM|\n",
      "|   I992454|    C196845|  Male| 24|           Toys|       4| 143.36|          Cash|  07-03-2023|      Cevahir AVM|\n",
      "+----------+-----------+------+---+---------------+--------+-------+--------------+------------+-----------------+\n",
      "only showing top 20 rows\n",
      "\n"
     ]
    }
   ],
   "source": [
    "spark.sql('select * from cust').show()"
   ]
  },
  {
   "cell_type": "code",
   "execution_count": 83,
   "id": "2d00807c",
   "metadata": {},
   "outputs": [
    {
     "name": "stdout",
     "output_type": "stream",
     "text": [
      "+----------+-----------+------+---+---------------+--------+-------+--------------+------------+-----------------+\n",
      "|invoice_no|customer_id|gender|age|       category|quantity|  price|payment_method|invoice_date|    shopping_mall|\n",
      "+----------+-----------+------+---+---------------+--------+-------+--------------+------------+-----------------+\n",
      "|   I173702|    C988172|Female| 66|          Shoes|       5|3000.85|   Credit Card|  16-05-2021|     Metropol AVM|\n",
      "|   I293455|    C159642|  Male| 69|       Clothing|       3| 900.24|   Credit Card|  04-11-2021|        Metrocity|\n",
      "|   I640508|    C225330|Female| 67|           Toys|       4| 143.36|    Debit Card|  31-07-2022|        Metrocity|\n",
      "|   I336189|    C555402|Female| 67|       Clothing|       2| 600.16|   Credit Card|  03-06-2022|           Kanyon|\n",
      "|   I161949|    C159164|Female| 66|           Toys|       3| 107.52|    Debit Card|  04-07-2022| Mall of Istanbul|\n",
      "|   I167211|    C164092|Female| 66|          Shoes|       4|2400.68|   Credit Card|  30-08-2022|     Zorlu Center|\n",
      "|   I339732|    C276887|  Male| 68|Food & Beverage|       1|   5.23|   Credit Card|  04-01-2023|Emaar Square Mall|\n",
      "|   I138674|    C155059|  Male| 67|      Cosmetics|       2|  81.32|   Credit Card|  14-02-2022|     Metropol AVM|\n",
      "|   I263803|    C112279|Female| 67|Food & Beverage|       3|  15.69|          Cash|  23-06-2021|           Kanyon|\n",
      "|   I157285|    C123427|  Male| 66|       Clothing|       4|1200.32|          Cash|  06-03-2022| Mall of Istanbul|\n",
      "|   I260525|    C258404|  Male| 67|           Toys|       3| 107.52|          Cash|  07-01-2023|Emaar Square Mall|\n",
      "|   I115870|    C135790|Female| 69|          Shoes|       4|2400.68|          Cash|  04-09-2021|        Metrocity|\n",
      "|   I340014|    C169650|Female| 66|       Clothing|       2| 600.16|   Credit Card|  08-09-2022|     Istinye Park|\n",
      "|   I108359|    C253905|  Male| 66|Food & Beverage|       1|   5.23|          Cash|  07-06-2022| Mall of Istanbul|\n",
      "|   I222983|    C132002|Female| 68|       Clothing|       1| 300.08|   Credit Card|  23-12-2021|     Metropol AVM|\n",
      "|   I246375|    C236365|Female| 67|      Cosmetics|       2|  81.32|          Cash|  28-11-2021|           Kanyon|\n",
      "|   I601026|    C693789|Female| 66|       Souvenir|       5|  58.65|   Credit Card|  05-03-2022|     Zorlu Center|\n",
      "|   I179048|    C270129|Female| 66|     Technology|       3|   3150|    Debit Card|  28-03-2021|      Cevahir AVM|\n",
      "|   I151099|    C250395|Female| 67|       Souvenir|       2|  23.46|   Credit Card|  14-03-2021| Mall of Istanbul|\n",
      "|   I164675|    C993675|  Male| 66|          Books|       5|  75.75|          Cash|  31-08-2021|           Kanyon|\n",
      "+----------+-----------+------+---+---------------+--------+-------+--------------+------------+-----------------+\n",
      "only showing top 20 rows\n",
      "\n"
     ]
    }
   ],
   "source": [
    "spark.sql('select * from cust where age>65').show()"
   ]
  },
  {
   "cell_type": "code",
   "execution_count": 84,
   "id": "26cc5776",
   "metadata": {},
   "outputs": [
    {
     "name": "stdout",
     "output_type": "stream",
     "text": [
      "+----------+-----------+------+---+---------------+--------+-------+--------------+------------+-----------------+\n",
      "|invoice_no|customer_id|gender|age|       category|quantity|  price|payment_method|invoice_date|    shopping_mall|\n",
      "+----------+-----------+------+---+---------------+--------+-------+--------------+------------+-----------------+\n",
      "|   I138884|    C241288|Female| 28|       Clothing|       5| 1500.4|   Credit Card|  05-08-2022|           Kanyon|\n",
      "|   I317333|    C111565|  Male| 21|          Shoes|       3|1800.51|    Debit Card|  12-12-2021|   Forum Istanbul|\n",
      "|   I127801|    C266599|  Male| 20|       Clothing|       1| 300.08|          Cash|  09-11-2021|        Metrocity|\n",
      "|   I173702|    C988172|Female| 66|          Shoes|       5|3000.85|   Credit Card|  16-05-2021|     Metropol AVM|\n",
      "|   I337046|    C189076|Female| 53|          Books|       4|   60.6|          Cash|  24-10-2021|           Kanyon|\n",
      "|   I227836|    C657758|Female| 28|       Clothing|       5| 1500.4|   Credit Card|  24-05-2022|   Forum Istanbul|\n",
      "|   I121056|    C151197|Female| 49|      Cosmetics|       1|  40.66|          Cash|  13-03-2022|     Istinye Park|\n",
      "|   I293455|    C159642|  Male| 69|       Clothing|       3| 900.24|   Credit Card|  04-11-2021|        Metrocity|\n",
      "|   I139207|    C191708|Female| 29|          Books|       1|  15.15|   Credit Card|  28-10-2022|Emaar Square Mall|\n",
      "|   I640508|    C225330|Female| 67|           Toys|       4| 143.36|    Debit Card|  31-07-2022|        Metrocity|\n",
      "|   I688768|    C362288|  Male| 24|          Shoes|       5|3000.85|   Credit Card|  07-11-2021|   Viaport Outlet|\n",
      "|   I195744|    C330667|Female| 42|Food & Beverage|       3|  15.69|   Credit Card|  05-01-2022|     Zorlu Center|\n",
      "|   I992454|    C196845|  Male| 24|           Toys|       4| 143.36|          Cash|  07-03-2023|      Cevahir AVM|\n",
      "|   I183746|    C220180|  Male| 23|       Clothing|       1| 300.08|   Credit Card|  15-02-2023|Emaar Square Mall|\n",
      "|   I412481|    C125696|Female| 27|Food & Beverage|       1|   5.23|          Cash|  01-05-2021|      Cevahir AVM|\n",
      "|   I252275|    C313348|  Male| 44|     Technology|       5|   5250|          Cash|  26-10-2021|           Kanyon|\n",
      "|   I174250|    C204553|Female| 42|          Books|       5|  75.75|          Cash|  16-12-2022|        Metrocity|\n",
      "|   I196704|    C289625|Female| 25|      Cosmetics|       5|  203.3|   Credit Card|  20-04-2022| Mall of Istanbul|\n",
      "|   I217053|    C192344|  Male| 50|          Shoes|       4|2400.68|          Cash|  10-10-2022|Emaar Square Mall|\n",
      "|   I655874|    C447138|Female| 65|          Shoes|       3|1800.51|          Cash|  23-08-2022|      Cevahir AVM|\n",
      "+----------+-----------+------+---+---------------+--------+-------+--------------+------------+-----------------+\n",
      "only showing top 20 rows\n",
      "\n"
     ]
    }
   ],
   "source": [
    "spark.sql('select * from cust where quantity<>2').show()"
   ]
  },
  {
   "cell_type": "code",
   "execution_count": 86,
   "id": "bc41d8ed",
   "metadata": {},
   "outputs": [
    {
     "data": {
      "text/plain": [
       "['invoice_no',\n",
       " 'customer_id',\n",
       " 'gender',\n",
       " 'age',\n",
       " 'category',\n",
       " 'quantity',\n",
       " 'price',\n",
       " 'payment_method',\n",
       " 'invoice_date',\n",
       " 'shopping_mall']"
      ]
     },
     "execution_count": 86,
     "metadata": {},
     "output_type": "execute_result"
    }
   ],
   "source": [
    "dfs.columns"
   ]
  },
  {
   "cell_type": "code",
   "execution_count": 95,
   "id": "41a0bf6e",
   "metadata": {},
   "outputs": [
    {
     "data": {
      "text/plain": [
       "10034"
      ]
     },
     "execution_count": 95,
     "metadata": {},
     "output_type": "execute_result"
    }
   ],
   "source": [
    "dfs.select(\"price\",\"shopping_mall\").where(\"category=='Shoes'\").count()"
   ]
  },
  {
   "cell_type": "code",
   "execution_count": 97,
   "id": "054edb46",
   "metadata": {},
   "outputs": [
    {
     "name": "stdout",
     "output_type": "stream",
     "text": [
      "+-------+-----------------+\n",
      "|  price|    shopping_mall|\n",
      "+-------+-----------------+\n",
      "|1800.51|   Forum Istanbul|\n",
      "|3000.85|     Metropol AVM|\n",
      "|3000.85|   Viaport Outlet|\n",
      "|2400.68|Emaar Square Mall|\n",
      "|1800.51|      Cevahir AVM|\n",
      "|1800.51|           Kanyon|\n",
      "|2400.68|     Zorlu Center|\n",
      "|2400.68|        Metrocity|\n",
      "|1800.51|           Kanyon|\n",
      "|3000.85|   Forum Istanbul|\n",
      "|3000.85|Emaar Square Mall|\n",
      "|2400.68|        Metrocity|\n",
      "|3000.85| Mall of Istanbul|\n",
      "|3000.85|           Kanyon|\n",
      "| 600.17|           Kanyon|\n",
      "|3000.85|           Kanyon|\n",
      "| 600.17|           Kanyon|\n",
      "|3000.85|     Zorlu Center|\n",
      "|1800.51|     Metropol AVM|\n",
      "|1200.34|           Kanyon|\n",
      "+-------+-----------------+\n",
      "only showing top 20 rows\n",
      "\n"
     ]
    }
   ],
   "source": [
    "dfs.select(\"price\",\"shopping_mall\").where(\"category=='Shoes'\").show()"
   ]
  },
  {
   "cell_type": "code",
   "execution_count": 91,
   "id": "f0dbdcdb",
   "metadata": {},
   "outputs": [
    {
     "name": "stdout",
     "output_type": "stream",
     "text": [
      "+---------------+--------+-------+\n",
      "|       category|quantity|  price|\n",
      "+---------------+--------+-------+\n",
      "|       Clothing|       1| 300.08|\n",
      "|          Books|       4|   60.6|\n",
      "|      Cosmetics|       1|  40.66|\n",
      "|Food & Beverage|       2|  10.46|\n",
      "|       Clothing|       2| 600.16|\n",
      "|       Clothing|       2| 600.16|\n",
      "|           Toys|       4| 143.36|\n",
      "|Food & Beverage|       1|   5.23|\n",
      "|     Technology|       5| 5250.0|\n",
      "|          Books|       5|  75.75|\n",
      "|          Shoes|       4|2400.68|\n",
      "|          Shoes|       3|1800.51|\n",
      "|       Clothing|       2| 600.16|\n",
      "|       Clothing|       1| 300.08|\n",
      "|Food & Beverage|       3|  15.69|\n",
      "|      Cosmetics|       3| 121.98|\n",
      "|          Shoes|       4|2400.68|\n",
      "|      Cosmetics|       5|  203.3|\n",
      "|          Books|       3|  45.45|\n",
      "|     Technology|       4| 4200.0|\n",
      "+---------------+--------+-------+\n",
      "only showing top 20 rows\n",
      "\n"
     ]
    }
   ],
   "source": [
    "dfs.select(\"category\",\"quantity\",\"price\").where(\"payment_method=='Cash'\").show()"
   ]
  },
  {
   "cell_type": "code",
   "execution_count": 99,
   "id": "61496d52",
   "metadata": {},
   "outputs": [
    {
     "name": "stdout",
     "output_type": "stream",
     "text": [
      "+---------------+--------+-------+\n",
      "|       category|quantity|  price|\n",
      "+---------------+--------+-------+\n",
      "|       Clothing|       1| 300.08|\n",
      "|          Books|       4|   60.6|\n",
      "|      Cosmetics|       1|  40.66|\n",
      "|Food & Beverage|       2|  10.46|\n",
      "|       Clothing|       2| 600.16|\n",
      "|       Clothing|       2| 600.16|\n",
      "|           Toys|       4| 143.36|\n",
      "|Food & Beverage|       1|   5.23|\n",
      "|     Technology|       5|   5250|\n",
      "|          Books|       5|  75.75|\n",
      "|          Shoes|       4|2400.68|\n",
      "|          Shoes|       3|1800.51|\n",
      "|       Clothing|       2| 600.16|\n",
      "|       Clothing|       1| 300.08|\n",
      "|Food & Beverage|       3|  15.69|\n",
      "|      Cosmetics|       3| 121.98|\n",
      "|          Shoes|       4|2400.68|\n",
      "|      Cosmetics|       5|  203.3|\n",
      "|          Books|       3|  45.45|\n",
      "|     Technology|       4|   4200|\n",
      "+---------------+--------+-------+\n",
      "only showing top 20 rows\n",
      "\n"
     ]
    }
   ],
   "source": [
    "spark.sql(\"select category,quantity,price from cust where payment_method='Cash'\").show()"
   ]
  },
  {
   "cell_type": "code",
   "execution_count": 107,
   "id": "3ce6f658",
   "metadata": {},
   "outputs": [
    {
     "name": "stdout",
     "output_type": "stream",
     "text": [
      "+-------+-----------------+\n",
      "|  price|    shopping_mall|\n",
      "+-------+-----------------+\n",
      "|1800.51|   Forum Istanbul|\n",
      "|3000.85|     Metropol AVM|\n",
      "|3000.85|   Viaport Outlet|\n",
      "|2400.68|Emaar Square Mall|\n",
      "|1800.51|      Cevahir AVM|\n",
      "|1800.51|           Kanyon|\n",
      "|2400.68|     Zorlu Center|\n",
      "|2400.68|        Metrocity|\n",
      "|1800.51|           Kanyon|\n",
      "|3000.85|   Forum Istanbul|\n",
      "|3000.85|Emaar Square Mall|\n",
      "|2400.68|        Metrocity|\n",
      "|3000.85| Mall of Istanbul|\n",
      "|3000.85|           Kanyon|\n",
      "| 600.17|           Kanyon|\n",
      "|3000.85|           Kanyon|\n",
      "| 600.17|           Kanyon|\n",
      "|3000.85|     Zorlu Center|\n",
      "|1800.51|     Metropol AVM|\n",
      "|1200.34|           Kanyon|\n",
      "+-------+-----------------+\n",
      "only showing top 20 rows\n",
      "\n"
     ]
    }
   ],
   "source": [
    "spark.sql(\"select price,shopping_mall from cust group where category=='Shoes'\").show()"
   ]
  },
  {
   "cell_type": "code",
   "execution_count": 115,
   "id": "5c81a0e1",
   "metadata": {},
   "outputs": [
    {
     "name": "stdout",
     "output_type": "stream",
     "text": [
      "+------+---------------------+\n",
      "|gender|count(payment_method)|\n",
      "+------+---------------------+\n",
      "|Female|                59482|\n",
      "|  Male|                39975|\n",
      "+------+---------------------+\n",
      "\n"
     ]
    }
   ],
   "source": [
    "spark.sql(\"select gender,count('payment_method') from cust group by gender\").show()"
   ]
  },
  {
   "cell_type": "code",
   "execution_count": 124,
   "id": "3e0fb858",
   "metadata": {},
   "outputs": [
    {
     "name": "stdout",
     "output_type": "stream",
     "text": [
      "+--------------+--------------------+\n",
      "|payment_method|count(shopping_mall)|\n",
      "+--------------+--------------------+\n",
      "|   Credit Card|               34931|\n",
      "|          Cash|               44447|\n",
      "|    Debit Card|               20079|\n",
      "+--------------+--------------------+\n",
      "\n"
     ]
    }
   ],
   "source": [
    "spark.sql(\"select payment_method,count(shopping_mall) from cust group by payment_method\").show()"
   ]
  },
  {
   "cell_type": "code",
   "execution_count": 126,
   "id": "0a70b503",
   "metadata": {},
   "outputs": [
    {
     "name": "stdout",
     "output_type": "stream",
     "text": [
      "+----------+-----------+------+---+---------------+--------+-----+--------------+------------+-----------------+\n",
      "|invoice_no|customer_id|gender|age|       category|quantity|price|payment_method|invoice_date|    shopping_mall|\n",
      "+----------+-----------+------+---+---------------+--------+-----+--------------+------------+-----------------+\n",
      "|   I893688|    C161286|Female| 38|Food & Beverage|       2|10.46|          Cash|  31-05-2022|     Istinye Park|\n",
      "|   I303999|    C176451|  Male| 44|Food & Beverage|       2|10.46|          Cash|  04-01-2023|     Metropol AVM|\n",
      "|   I259309|    C251013|  Male| 60|Food & Beverage|       2|10.46|          Cash|  19-04-2021| Mall of Istanbul|\n",
      "|   I284266|    C213944|Female| 48|Food & Beverage|       2|10.46|    Debit Card|  31-03-2021|        Metrocity|\n",
      "|   I974682|    C801971|Female| 68|Food & Beverage|       2|10.46|   Credit Card|  01-07-2022|           Kanyon|\n",
      "|   I296261|    C483308|Female| 35|Food & Beverage|       2|10.46|    Debit Card|  17-12-2022|   Viaport Outlet|\n",
      "|   I293458|    C190551|  Male| 36|Food & Beverage|       2|10.46|          Cash|  26-08-2021|     Zorlu Center|\n",
      "|   I396995|    C138327|Female| 54|Food & Beverage|       2|10.46|          Cash|  23-04-2021|      Cevahir AVM|\n",
      "|   I134882|    C688073|Female| 52|Food & Beverage|       2|10.46|    Debit Card|  27-09-2021|        Metrocity|\n",
      "|   I258154|    C130580|  Male| 50|Food & Beverage|       2|10.46|          Cash|  02-07-2022|     Zorlu Center|\n",
      "|   I281345|    C135384|Female| 39|Food & Beverage|       2|10.46|          Cash|  11-09-2022|           Kanyon|\n",
      "|   I207287|    C194041|Female| 58|Food & Beverage|       2|10.46|    Debit Card|  16-06-2022|      Cevahir AVM|\n",
      "|   I159495|    C496090|  Male| 63|Food & Beverage|       2|10.46|          Cash|  10-11-2022|Emaar Square Mall|\n",
      "|   I876436|    C294009|  Male| 22|Food & Beverage|       2|10.46|          Cash|  05-01-2021|     Metropol AVM|\n",
      "|   I144951|    C884275|Female| 66|Food & Beverage|       2|10.46|   Credit Card|  17-11-2021|     Metropol AVM|\n",
      "|   I215993|    C176258|Female| 58|Food & Beverage|       2|10.46|    Debit Card|  13-07-2022|           Kanyon|\n",
      "|   I184811|    C246718|  Male| 58|Food & Beverage|       2|10.46|          Cash|  07-07-2022|     Zorlu Center|\n",
      "|   I198509|    C199333|Female| 48|Food & Beverage|       2|10.46|   Credit Card|  06-07-2022|   Forum Istanbul|\n",
      "|   I252119|    C207310|  Male| 65|Food & Beverage|       2|10.46|   Credit Card|  06-06-2021|           Kanyon|\n",
      "|   I259126|    C210702|Female| 48|Food & Beverage|       2|10.46|    Debit Card|  25-07-2022|   Viaport Outlet|\n",
      "+----------+-----------+------+---+---------------+--------+-----+--------------+------------+-----------------+\n",
      "only showing top 20 rows\n",
      "\n"
     ]
    }
   ],
   "source": [
    "spark.sql(\"select * from cust order by price\").show()"
   ]
  },
  {
   "cell_type": "code",
   "execution_count": 127,
   "id": "03898fd9",
   "metadata": {},
   "outputs": [
    {
     "name": "stdout",
     "output_type": "stream",
     "text": [
      "+----------+-----------+------+---+---------------+--------+-------+--------------+------------+-----------------+\n",
      "|invoice_no|customer_id|gender|age|       category|quantity|  price|payment_method|invoice_date|    shopping_mall|\n",
      "+----------+-----------+------+---+---------------+--------+-------+--------------+------------+-----------------+\n",
      "|   I101088|    C824542|Female| 28|           Toys|       5|  179.2|    Debit Card|  01-01-2021|           Kanyon|\n",
      "|   I860673|    C694253|Female| 53|       Clothing|       3| 900.24|   Credit Card|  01-01-2021|        Metrocity|\n",
      "|   I262389|    C193687|  Male| 27|           Toys|       4| 143.36|   Credit Card|  01-01-2021|     Istinye Park|\n",
      "|   I382797|    C759842|  Male| 54|       Souvenir|       2|  23.46|          Cash|  01-01-2021|Emaar Square Mall|\n",
      "|   I114774|    C913265|  Male| 30|       Souvenir|       1|  11.73|          Cash|  01-01-2021|     Metropol AVM|\n",
      "|   I211789|    C106566|  Male| 67|       Clothing|       3| 900.24|          Cash|  01-01-2021| Mall of Istanbul|\n",
      "|   I310843|    C326151|  Male| 20|       Clothing|       3| 900.24|   Credit Card|  01-01-2021|        Metrocity|\n",
      "|   I200375|    C255333|Female| 52|           Toys|       2|  71.68|          Cash|  01-01-2021| Mall of Istanbul|\n",
      "|   I199546|    C611041|Female| 27|           Toys|       5|  179.2|    Debit Card|  01-01-2021|           Kanyon|\n",
      "|   I229110|    C256999|  Male| 46|       Clothing|       1| 300.08|   Credit Card|  01-01-2021|     Metropol AVM|\n",
      "|   I194857|    C198257|  Male| 44|           Toys|       5|  179.2|          Cash|  01-01-2021|        Metrocity|\n",
      "|   I270599|    C211804|Female| 62|          Shoes|       5|3000.85|          Cash|  01-01-2021| Mall of Istanbul|\n",
      "|   I274757|    C231715|  Male| 44|      Cosmetics|       2|  81.32|   Credit Card|  01-01-2021| Mall of Istanbul|\n",
      "|   I162254|    C124578|  Male| 62|Food & Beverage|       4|  20.92|   Credit Card|  01-01-2021|Emaar Square Mall|\n",
      "|   I239504|    C168045|  Male| 47|      Cosmetics|       3| 121.98|          Cash|  01-01-2021|     Istinye Park|\n",
      "|   I202841|    C287964|Female| 47|          Books|       3|  45.45|   Credit Card|  01-01-2021|        Metrocity|\n",
      "|   I313757|    C438201|Female| 43|       Clothing|       4|1200.32|   Credit Card|  01-01-2021| Mall of Istanbul|\n",
      "|   I310590|    C612294|Female| 18|       Clothing|       1| 300.08|          Cash|  01-01-2021| Mall of Istanbul|\n",
      "|   I202894|    C191193|  Male| 21|       Clothing|       3| 900.24|          Cash|  01-01-2021|      Cevahir AVM|\n",
      "|   I224521|    C102966|Female| 28|           Toys|       2|  71.68|   Credit Card|  01-01-2021|     Metropol AVM|\n",
      "+----------+-----------+------+---+---------------+--------+-------+--------------+------------+-----------------+\n",
      "only showing top 20 rows\n",
      "\n"
     ]
    }
   ],
   "source": [
    "spark.sql(\"select * from cust order by invoice_date\").show()"
   ]
  },
  {
   "cell_type": "code",
   "execution_count": 128,
   "id": "fe4b203f",
   "metadata": {},
   "outputs": [
    {
     "name": "stdout",
     "output_type": "stream",
     "text": [
      "+----------+-----------+------+---+---------------+--------+------+--------------+------------+-----------------+\n",
      "|invoice_no|customer_id|gender|age|       category|quantity| price|payment_method|invoice_date|    shopping_mall|\n",
      "+----------+-----------+------+---+---------------+--------+------+--------------+------------+-----------------+\n",
      "|   I291973|    C668262|  Male| 27|          Books|       1| 15.15|          Cash|  22-05-2022|     Istinye Park|\n",
      "|   I639258|    C113518|Female| 41|Food & Beverage|       1|  5.23|   Credit Card|  19-01-2023|        Metrocity|\n",
      "|   I217862|    C316302|  Male| 39|           Toys|       1| 35.84|   Credit Card|  26-11-2021|     Istinye Park|\n",
      "|   I209392|    C203168|  Male| 56|       Clothing|       1|300.08|          Cash|  16-10-2021|     Metropol AVM|\n",
      "|   I329163|    C383322|  Male| 25|           Toys|       1| 35.84|          Cash|  14-06-2022|        Metrocity|\n",
      "|   I265867|    C205418|  Male| 59|       Clothing|       1|300.08|    Debit Card|  30-01-2021|     Metropol AVM|\n",
      "|   I218808|    C131854|Female| 60|       Clothing|       1|300.08|    Debit Card|  26-05-2021| Mall of Istanbul|\n",
      "|   I226264|    C741575|  Male| 20|       Clothing|       1|300.08|   Credit Card|  18-04-2021|   Viaport Outlet|\n",
      "|   I757661|    C624131|  Male| 69|       Clothing|       1|300.08|          Cash|  07-12-2022|        Metrocity|\n",
      "|   I332268|    C292096|  Male| 27|       Clothing|       1|300.08|   Credit Card|  24-09-2021|   Viaport Outlet|\n",
      "|   I250700|    C142837|Female| 37|      Cosmetics|       1| 40.66|    Debit Card|  14-01-2021| Mall of Istanbul|\n",
      "|   I147431|    C186489|  Male| 64|           Toys|       1| 35.84|   Credit Card|  28-07-2022|     Metropol AVM|\n",
      "|   I238905|    C211982|Female| 60|       Clothing|       1|300.08|   Credit Card|  09-09-2021| Mall of Istanbul|\n",
      "|   I320809|    C556733|Female| 54|      Cosmetics|       1| 40.66|          Cash|  13-07-2021|     Metropol AVM|\n",
      "|   I246134|    C984995|  Male| 49|          Shoes|       1|600.17|   Credit Card|  16-11-2021|Emaar Square Mall|\n",
      "|   I309287|    C105950|Female| 18|Food & Beverage|       1|  5.23|   Credit Card|  18-11-2021|           Kanyon|\n",
      "|   I135357|    C184906|Female| 25|           Toys|       1| 35.84|          Cash|  11-02-2021|           Kanyon|\n",
      "|   I161334|    C748328|  Male| 57|       Clothing|       1|300.08|          Cash|  27-01-2021|        Metrocity|\n",
      "|   I270139|    C318303|Female| 44|      Cosmetics|       1| 40.66|   Credit Card|  15-06-2022|Emaar Square Mall|\n",
      "|   I295628|    C249288|Female| 55|Food & Beverage|       1|  5.23|   Credit Card|  31-03-2022|   Viaport Outlet|\n",
      "+----------+-----------+------+---+---------------+--------+------+--------------+------------+-----------------+\n",
      "only showing top 20 rows\n",
      "\n"
     ]
    }
   ],
   "source": [
    "spark.sql(\"select * from cust order by quantity\").show()"
   ]
  },
  {
   "cell_type": "code",
   "execution_count": null,
   "id": "ac07c73d",
   "metadata": {},
   "outputs": [],
   "source": []
  },
  {
   "cell_type": "code",
   "execution_count": 130,
   "id": "fd0859e3",
   "metadata": {},
   "outputs": [
    {
     "name": "stdout",
     "output_type": "stream",
     "text": [
      "+-----------------+-----------------+\n",
      "|    shopping_mall|       avg(price)|\n",
      "+-----------------+-----------------+\n",
      "|           Kanyon|691.6589436513524|\n",
      "|        Metrocity|682.8312617414033|\n",
      "| Mall of Istanbul|694.5663952264358|\n",
      "|     Zorlu Center|691.5564571428515|\n",
      "|      Cevahir AVM|687.9727188940027|\n",
      "|Emaar Square Mall|704.7200810642215|\n",
      "|   Viaport Outlet|694.7536548636493|\n",
      "|     Istinye Park|686.7475247929589|\n",
      "|   Forum Istanbul|674.3630119264134|\n",
      "|     Metropol AVM|682.8061204605784|\n",
      "+-----------------+-----------------+\n",
      "\n"
     ]
    }
   ],
   "source": [
    "spark.sql('select shopping_mall,avg(price) from cust group by shopping_mall').show()"
   ]
  },
  {
   "cell_type": "code",
   "execution_count": 132,
   "id": "eb14fe5d",
   "metadata": {},
   "outputs": [
    {
     "name": "stdout",
     "output_type": "stream",
     "text": [
      "+-----------------+\n",
      "|    shopping_mall|\n",
      "+-----------------+\n",
      "|           Kanyon|\n",
      "|        Metrocity|\n",
      "| Mall of Istanbul|\n",
      "|     Zorlu Center|\n",
      "|      Cevahir AVM|\n",
      "|Emaar Square Mall|\n",
      "|   Viaport Outlet|\n",
      "|     Istinye Park|\n",
      "|   Forum Istanbul|\n",
      "|     Metropol AVM|\n",
      "+-----------------+\n",
      "\n"
     ]
    }
   ],
   "source": [
    "spark.sql('select distinct(shopping_mall) from cust').show()"
   ]
  },
  {
   "cell_type": "code",
   "execution_count": 133,
   "id": "756bb091",
   "metadata": {},
   "outputs": [
    {
     "name": "stdout",
     "output_type": "stream",
     "text": [
      "+---------------+\n",
      "|       category|\n",
      "+---------------+\n",
      "|Food & Beverage|\n",
      "|       Clothing|\n",
      "|       Souvenir|\n",
      "|          Books|\n",
      "|     Technology|\n",
      "|      Cosmetics|\n",
      "|          Shoes|\n",
      "|           Toys|\n",
      "+---------------+\n",
      "\n"
     ]
    }
   ],
   "source": [
    "spark.sql('select distinct(category) from cust').show()"
   ]
  },
  {
   "cell_type": "code",
   "execution_count": 144,
   "id": "5c240a2d",
   "metadata": {},
   "outputs": [
    {
     "name": "stdout",
     "output_type": "stream",
     "text": [
      "+-------------+-----+\n",
      "|shopping_mall|count|\n",
      "+-------------+-----+\n",
      "|       Kanyon|19823|\n",
      "+-------------+-----+\n",
      "\n"
     ]
    }
   ],
   "source": [
    "dfs.groupBy(\"shopping_mall\").count().filter(\"shopping_mall=='Kanyon'\").show()"
   ]
  },
  {
   "cell_type": "code",
   "execution_count": 158,
   "id": "d20a884b",
   "metadata": {},
   "outputs": [
    {
     "name": "stdout",
     "output_type": "stream",
     "text": [
      "+-------------+--------+\n",
      "|shopping_mall|count(1)|\n",
      "+-------------+--------+\n",
      "|       Kanyon|   19823|\n",
      "+-------------+--------+\n",
      "\n"
     ]
    }
   ],
   "source": [
    "spark.sql(\"select shopping_mall,count(*) from cust group by shopping_mall having shopping_mall=='Kanyon'\").show()"
   ]
  },
  {
   "cell_type": "code",
   "execution_count": 173,
   "id": "0b313edf",
   "metadata": {},
   "outputs": [
    {
     "name": "stdout",
     "output_type": "stream",
     "text": [
      "+----------+-----------+------+---+--------+--------+-------+--------------+------------+-------------+\n",
      "|invoice_no|customer_id|gender|age|category|quantity|  price|payment_method|invoice_date|shopping_mall|\n",
      "+----------+-----------+------+---+--------+--------+-------+--------------+------------+-------------+\n",
      "|   I199517|    C229505|  Male| 67|   Shoes|       5|3000.85|          Cash|  10-01-2021|    Metrocity|\n",
      "|   I339002|    C231432|  Male| 68|   Shoes|       5|3000.85|          Cash|  09-02-2023|    Metrocity|\n",
      "|   I286068|    C930713|  Male| 68|   Shoes|       5|3000.85|          Cash|  04-06-2022|    Metrocity|\n",
      "|   I296999|    C203357|  Male| 68|   Shoes|       5|3000.85|          Cash|  05-10-2022|    Metrocity|\n",
      "|   I287706|    C584263|  Male| 66|   Shoes|       5|3000.85|          Cash|  25-11-2021|    Metrocity|\n",
      "|   I241404|    C851984|  Male| 69|   Shoes|       5|3000.85|          Cash|  01-06-2021|    Metrocity|\n",
      "+----------+-----------+------+---+--------+--------+-------+--------------+------------+-------------+\n",
      "\n"
     ]
    }
   ],
   "source": [
    "spark.sql(\"select * from cust where quantity==5 and category=='Shoes' and payment_method=='Cash'and gender=='Male'and age>65 and shopping_mall=='Metrocity'\").show()"
   ]
  },
  {
   "cell_type": "code",
   "execution_count": 175,
   "id": "7dec663a",
   "metadata": {},
   "outputs": [
    {
     "name": "stdout",
     "output_type": "stream",
     "text": [
      "+------+--------+\n",
      "|gender|max(age)|\n",
      "+------+--------+\n",
      "|Female|      69|\n",
      "|  Male|      69|\n",
      "+------+--------+\n",
      "\n"
     ]
    }
   ],
   "source": [
    "spark.sql(\"select gender,max(age) from cust group by gender\").show()"
   ]
  },
  {
   "cell_type": "code",
   "execution_count": 176,
   "id": "ee4c3d72",
   "metadata": {},
   "outputs": [
    {
     "name": "stdout",
     "output_type": "stream",
     "text": [
      "+-----------------+----------+\n",
      "|    shopping_mall|max(price)|\n",
      "+-----------------+----------+\n",
      "|      Cevahir AVM|    900.24|\n",
      "|Emaar Square Mall|    900.24|\n",
      "|   Forum Istanbul|    900.24|\n",
      "|     Istinye Park|    900.24|\n",
      "|           Kanyon|    900.24|\n",
      "| Mall of Istanbul|    900.24|\n",
      "|        Metrocity|    900.24|\n",
      "|     Metropol AVM|    900.24|\n",
      "|   Viaport Outlet|    900.24|\n",
      "|     Zorlu Center|    900.24|\n",
      "+-----------------+----------+\n",
      "\n"
     ]
    }
   ],
   "source": [
    "spark.sql(\"select shopping_mall,max(price) from cust group by shopping_mall\").show()"
   ]
  },
  {
   "cell_type": "code",
   "execution_count": 177,
   "id": "073ac4ea",
   "metadata": {},
   "outputs": [
    {
     "name": "stdout",
     "output_type": "stream",
     "text": [
      "+--------------+----------+\n",
      "|payment_method|max(price)|\n",
      "+--------------+----------+\n",
      "|          Cash|    900.24|\n",
      "|   Credit Card|    900.24|\n",
      "|    Debit Card|    900.24|\n",
      "+--------------+----------+\n",
      "\n"
     ]
    }
   ],
   "source": [
    "spark.sql(\"select payment_method,max(price) from cust group by payment_method\").show()"
   ]
  },
  {
   "cell_type": "code",
   "execution_count": 187,
   "id": "7a624de1",
   "metadata": {},
   "outputs": [
    {
     "name": "stdout",
     "output_type": "stream",
     "text": [
      "+---------------+--------+\n",
      "|       category|count(1)|\n",
      "+---------------+--------+\n",
      "|Food & Beverage|   14776|\n",
      "|       Clothing|   34487|\n",
      "|      Cosmetics|   15097|\n",
      "|          Shoes|   10034|\n",
      "|           Toys|   10087|\n",
      "+---------------+--------+\n",
      "\n"
     ]
    }
   ],
   "source": [
    "spark.sql(\"select category,count(*) from cust group by category having count(*)>10000\").show()"
   ]
  },
  {
   "cell_type": "code",
   "execution_count": 159,
   "id": "a26259a1",
   "metadata": {},
   "outputs": [
    {
     "name": "stdout",
     "output_type": "stream",
     "text": [
      "+----------+-----------+------+---+---------------+--------+-------+--------------+------------+-----------------+\n",
      "|invoice_no|customer_id|gender|age|       category|quantity|  price|payment_method|invoice_date|    shopping_mall|\n",
      "+----------+-----------+------+---+---------------+--------+-------+--------------+------------+-----------------+\n",
      "|   I138884|    C241288|Female| 28|       Clothing|       5| 1500.4|   Credit Card|  05-08-2022|           Kanyon|\n",
      "|   I317333|    C111565|  Male| 21|          Shoes|       3|1800.51|    Debit Card|  12-12-2021|   Forum Istanbul|\n",
      "|   I127801|    C266599|  Male| 20|       Clothing|       1| 300.08|          Cash|  09-11-2021|        Metrocity|\n",
      "|   I173702|    C988172|Female| 66|          Shoes|       5|3000.85|   Credit Card|  16-05-2021|     Metropol AVM|\n",
      "|   I337046|    C189076|Female| 53|          Books|       4|   60.6|          Cash|  24-10-2021|           Kanyon|\n",
      "|   I227836|    C657758|Female| 28|       Clothing|       5| 1500.4|   Credit Card|  24-05-2022|   Forum Istanbul|\n",
      "|   I121056|    C151197|Female| 49|      Cosmetics|       1|  40.66|          Cash|  13-03-2022|     Istinye Park|\n",
      "|   I293112|    C176086|Female| 32|       Clothing|       2| 600.16|   Credit Card|  13-01-2021| Mall of Istanbul|\n",
      "|   I293455|    C159642|  Male| 69|       Clothing|       3| 900.24|   Credit Card|  04-11-2021|        Metrocity|\n",
      "|   I326945|    C283361|Female| 60|       Clothing|       2| 600.16|   Credit Card|  22-08-2021|           Kanyon|\n",
      "|   I306368|    C240286|Female| 36|Food & Beverage|       2|  10.46|          Cash|  25-12-2022|        Metrocity|\n",
      "|   I139207|    C191708|Female| 29|          Books|       1|  15.15|   Credit Card|  28-10-2022|Emaar Square Mall|\n",
      "|   I640508|    C225330|Female| 67|           Toys|       4| 143.36|    Debit Card|  31-07-2022|        Metrocity|\n",
      "|   I179802|    C312861|  Male| 25|       Clothing|       2| 600.16|          Cash|  17-11-2022|      Cevahir AVM|\n",
      "|   I336189|    C555402|Female| 67|       Clothing|       2| 600.16|   Credit Card|  03-06-2022|           Kanyon|\n",
      "|   I688768|    C362288|  Male| 24|          Shoes|       5|3000.85|   Credit Card|  07-11-2021|   Viaport Outlet|\n",
      "|   I294687|    C300786|  Male| 65|          Books|       2|   30.3|    Debit Card|  16-01-2021|        Metrocity|\n",
      "|   I195744|    C330667|Female| 42|Food & Beverage|       3|  15.69|   Credit Card|  05-01-2022|     Zorlu Center|\n",
      "|   I993048|    C218149|Female| 46|       Clothing|       2| 600.16|          Cash|  26-07-2021|     Metropol AVM|\n",
      "|   I992454|    C196845|  Male| 24|           Toys|       4| 143.36|          Cash|  07-03-2023|      Cevahir AVM|\n",
      "+----------+-----------+------+---+---------------+--------+-------+--------------+------------+-----------------+\n",
      "only showing top 20 rows\n",
      "\n"
     ]
    }
   ],
   "source": [
    "dfs.show()"
   ]
  },
  {
   "cell_type": "code",
   "execution_count": 192,
   "id": "ba1fee0f",
   "metadata": {},
   "outputs": [],
   "source": [
    "t1 = spark.read.csv(r\"C:\\Users\\tsd95\\CSV Files\\09 cumulative-installed-wind-energy-capacity-gigawatts.csv\",header=True,inferSchema=True).createOrReplaceTempView('tb1')\n",
    "t2 = spark.read.csv(r\"C:\\Users\\tsd95\\CSV Files\\08 wind-generation.csv\",header=True,inferSchema=True).createOrReplaceTempView('tb2')"
   ]
  },
  {
   "cell_type": "code",
   "execution_count": 189,
   "id": "dc6a118a",
   "metadata": {},
   "outputs": [
    {
     "name": "stdout",
     "output_type": "stream",
     "text": [
      "+------+----+----+-------------------+\n",
      "|Entity|Code|Year|      Wind Capacity|\n",
      "+------+----+----+-------------------+\n",
      "|Africa|null|1997|              0.006|\n",
      "|Africa|null|1998|               0.01|\n",
      "|Africa|null|1999|              0.064|\n",
      "|Africa|null|2000|            0.13905|\n",
      "|Africa|null|2001|            0.13905|\n",
      "|Africa|null|2002|            0.14431|\n",
      "|Africa|null|2003|0.15361000000000002|\n",
      "|Africa|null|2004|            0.23613|\n",
      "|Africa|null|2005|             0.2402|\n",
      "|Africa|null|2006|           0.327925|\n",
      "|Africa|null|2007|0.47012000000000004|\n",
      "|Africa|null|2008|            0.55532|\n",
      "|Africa|null|2009|            0.74237|\n",
      "|Africa|null|2010|           0.864797|\n",
      "|Africa|null|2011| 0.9950019999999999|\n",
      "|Africa|null|2012|           1.127604|\n",
      "|Africa|null|2013|           1.741834|\n",
      "|Africa|null|2014|           2.399398|\n",
      "|Africa|null|2015|           3.320268|\n",
      "|Africa|null|2016|           3.826414|\n",
      "+------+----+----+-------------------+\n",
      "only showing top 20 rows\n",
      "\n"
     ]
    }
   ],
   "source": [
    "t1.show()"
   ]
  },
  {
   "cell_type": "code",
   "execution_count": 190,
   "id": "af65ccef",
   "metadata": {},
   "outputs": [
    {
     "name": "stdout",
     "output_type": "stream",
     "text": [
      "+-----------+----+----+----------------+\n",
      "|     Entity|Code|Year|Electricity_wind|\n",
      "+-----------+----+----+----------------+\n",
      "|Afghanistan| AFG|2000|             0.0|\n",
      "|Afghanistan| AFG|2001|             0.0|\n",
      "|Afghanistan| AFG|2002|             0.0|\n",
      "|Afghanistan| AFG|2003|             0.0|\n",
      "|Afghanistan| AFG|2004|             0.0|\n",
      "|Afghanistan| AFG|2005|             0.0|\n",
      "|Afghanistan| AFG|2006|             0.0|\n",
      "|Afghanistan| AFG|2007|             0.0|\n",
      "|Afghanistan| AFG|2008|             0.0|\n",
      "|Afghanistan| AFG|2009|             0.0|\n",
      "|Afghanistan| AFG|2010|             0.0|\n",
      "|Afghanistan| AFG|2011|             0.0|\n",
      "|Afghanistan| AFG|2012|             0.0|\n",
      "|Afghanistan| AFG|2013|             0.0|\n",
      "|Afghanistan| AFG|2014|             0.0|\n",
      "|Afghanistan| AFG|2015|             0.0|\n",
      "|Afghanistan| AFG|2016|             0.0|\n",
      "|Afghanistan| AFG|2017|             0.0|\n",
      "|Afghanistan| AFG|2018|             0.0|\n",
      "|Afghanistan| AFG|2019|             0.0|\n",
      "+-----------+----+----+----------------+\n",
      "only showing top 20 rows\n",
      "\n"
     ]
    }
   ],
   "source": [
    "t2.show()"
   ]
  },
  {
   "cell_type": "code",
   "execution_count": 193,
   "id": "cab2a45f",
   "metadata": {},
   "outputs": [
    {
     "name": "stdout",
     "output_type": "stream",
     "text": [
      "+------+----+----+-------------------+-----------+----+----+----------------+\n",
      "|Entity|Code|Year|      Wind Capacity|     Entity|Code|Year|Electricity_wind|\n",
      "+------+----+----+-------------------+-----------+----+----+----------------+\n",
      "|Africa|null|1997|              0.006|Afghanistan| AFG|2000|             0.0|\n",
      "|Africa|null|1998|               0.01|Afghanistan| AFG|2000|             0.0|\n",
      "|Africa|null|1999|              0.064|Afghanistan| AFG|2000|             0.0|\n",
      "|Africa|null|2000|            0.13905|Afghanistan| AFG|2000|             0.0|\n",
      "|Africa|null|2001|            0.13905|Afghanistan| AFG|2000|             0.0|\n",
      "|Africa|null|2002|            0.14431|Afghanistan| AFG|2000|             0.0|\n",
      "|Africa|null|2003|0.15361000000000002|Afghanistan| AFG|2000|             0.0|\n",
      "|Africa|null|2004|            0.23613|Afghanistan| AFG|2000|             0.0|\n",
      "|Africa|null|2005|             0.2402|Afghanistan| AFG|2000|             0.0|\n",
      "|Africa|null|2006|           0.327925|Afghanistan| AFG|2000|             0.0|\n",
      "|Africa|null|2007|0.47012000000000004|Afghanistan| AFG|2000|             0.0|\n",
      "|Africa|null|2008|            0.55532|Afghanistan| AFG|2000|             0.0|\n",
      "|Africa|null|2009|            0.74237|Afghanistan| AFG|2000|             0.0|\n",
      "|Africa|null|2010|           0.864797|Afghanistan| AFG|2000|             0.0|\n",
      "|Africa|null|2011| 0.9950019999999999|Afghanistan| AFG|2000|             0.0|\n",
      "|Africa|null|2012|           1.127604|Afghanistan| AFG|2000|             0.0|\n",
      "|Africa|null|2013|           1.741834|Afghanistan| AFG|2000|             0.0|\n",
      "|Africa|null|2014|           2.399398|Afghanistan| AFG|2000|             0.0|\n",
      "|Africa|null|2015|           3.320268|Afghanistan| AFG|2000|             0.0|\n",
      "|Africa|null|2016|           3.826414|Afghanistan| AFG|2000|             0.0|\n",
      "+------+----+----+-------------------+-----------+----+----+----------------+\n",
      "only showing top 20 rows\n",
      "\n"
     ]
    }
   ],
   "source": [
    "spark.sql(\"select * from tb1 inner join tb2\").show()"
   ]
  },
  {
   "cell_type": "code",
   "execution_count": 195,
   "id": "0fea20b8",
   "metadata": {},
   "outputs": [
    {
     "name": "stdout",
     "output_type": "stream",
     "text": [
      "+------------+----+----+-------------+\n",
      "|      Entity|Code|Year|Wind Capacity|\n",
      "+------------+----+----+-------------+\n",
      "|    Pakistan| PAK|1997|          0.0|\n",
      "|    Thailand| THA|1999|          0.0|\n",
      "|    Pakistan| PAK|1998|          0.0|\n",
      "|South Africa| ZAF|1998|          0.0|\n",
      "|     Belgium| BEL|1998|         0.01|\n",
      "|      Russia| RUS|2005|         0.01|\n",
      "|    Pakistan| PAK|2003|          0.0|\n",
      "|    Thailand| THA|1998|          0.0|\n",
      "|    Pakistan| PAK|2004|          0.0|\n",
      "| Philippines| PHL|2001|          0.0|\n",
      "|     Austria| AUT|1997|         0.02|\n",
      "|    Pakistan| PAK|2000|          0.0|\n",
      "|     Romania| ROU|1999|          0.0|\n",
      "| South Korea| KOR|1997|        0.001|\n",
      "|    Thailand| THA|2005|          0.0|\n",
      "|    Bulgaria| BGR|2000|          0.0|\n",
      "|     Romania| ROU|1998|          0.0|\n",
      "|    Pakistan| PAK|2001|          0.0|\n",
      "| Philippines| PHL|2004|          0.0|\n",
      "|     Romania| ROU|2003|          0.0|\n",
      "+------------+----+----+-------------+\n",
      "only showing top 20 rows\n",
      "\n"
     ]
    }
   ],
   "source": [
    "spark.sql('select * from tb1 intersect select * from tb2').show()"
   ]
  },
  {
   "cell_type": "code",
   "execution_count": 198,
   "id": "8c53b033",
   "metadata": {},
   "outputs": [
    {
     "name": "stdout",
     "output_type": "stream",
     "text": [
      "+------+----+----+-------------+--------------------+--------+----+----------------+\n",
      "|Entity|Code|Year|Wind Capacity|              Entity|    Code|Year|Electricity_wind|\n",
      "+------+----+----+-------------+--------------------+--------+----+----------------+\n",
      "|Africa|null|1997|        0.006|               World|OWID_WRL|1997|       12.017817|\n",
      "|Africa|null|1997|        0.006| Western Africa (BP)|    null|1997|          0.0072|\n",
      "|Africa|null|1997|        0.006|             Vietnam|     VNM|1997|             0.0|\n",
      "|Africa|null|1997|        0.006|           Venezuela|     VEN|1997|             0.0|\n",
      "|Africa|null|1997|        0.006|          Uzbekistan|     UZB|1997|             0.0|\n",
      "|Africa|null|1997|        0.006|Upper-middle-inco...|    null|1997|       0.2291718|\n",
      "|Africa|null|1997|        0.006|       United States|     USA|1997|       3.3212476|\n",
      "|Africa|null|1997|        0.006|      United Kingdom|     GBR|1997|            0.67|\n",
      "|Africa|null|1997|        0.006|United Arab Emirates|     ARE|1997|             0.0|\n",
      "|Africa|null|1997|        0.006|             Ukraine|     UKR|1997|             0.0|\n",
      "|Africa|null|1997|        0.006|        Turkmenistan|     TKM|1997|             0.0|\n",
      "|Africa|null|1997|        0.006|              Turkey|     TUR|1997|             0.0|\n",
      "|Africa|null|1997|        0.006| Trinidad and Tobago|     TTO|1997|             0.0|\n",
      "|Africa|null|1997|        0.006|            Thailand|     THA|1997|             0.0|\n",
      "|Africa|null|1997|        0.006|              Taiwan|     TWN|1997|             0.0|\n",
      "|Africa|null|1997|        0.006|         Switzerland|     CHE|1997|           0.002|\n",
      "|Africa|null|1997|        0.006|              Sweden|     SWE|1997|             0.2|\n",
      "|Africa|null|1997|        0.006|           Sri Lanka|     LKA|1997|             0.0|\n",
      "|Africa|null|1997|        0.006|               Spain|     ESP|1997|            0.74|\n",
      "|Africa|null|1997|        0.006|South and Central...|    null|1997|        0.102926|\n",
      "+------+----+----+-------------+--------------------+--------+----+----------------+\n",
      "only showing top 20 rows\n",
      "\n"
     ]
    }
   ],
   "source": [
    "spark.sql('select * from tb1 left join tb2 on tb1.Year=tb2.Year').show()"
   ]
  },
  {
   "cell_type": "code",
   "execution_count": null,
   "id": "58d1d848",
   "metadata": {},
   "outputs": [],
   "source": []
  },
  {
   "cell_type": "code",
   "execution_count": null,
   "id": "89c29478",
   "metadata": {},
   "outputs": [],
   "source": []
  },
  {
   "cell_type": "code",
   "execution_count": null,
   "id": "8b6141f7",
   "metadata": {},
   "outputs": [],
   "source": []
  },
  {
   "cell_type": "code",
   "execution_count": null,
   "id": "551fa240",
   "metadata": {},
   "outputs": [],
   "source": []
  },
  {
   "cell_type": "code",
   "execution_count": null,
   "id": "6682de6d",
   "metadata": {},
   "outputs": [],
   "source": []
  },
  {
   "cell_type": "code",
   "execution_count": null,
   "id": "77ab5f77",
   "metadata": {},
   "outputs": [],
   "source": []
  },
  {
   "cell_type": "code",
   "execution_count": null,
   "id": "0b16c413",
   "metadata": {},
   "outputs": [],
   "source": []
  },
  {
   "cell_type": "code",
   "execution_count": null,
   "id": "c4c4c6c8",
   "metadata": {},
   "outputs": [],
   "source": []
  },
  {
   "cell_type": "code",
   "execution_count": null,
   "id": "4acc32e0",
   "metadata": {},
   "outputs": [],
   "source": []
  },
  {
   "cell_type": "code",
   "execution_count": null,
   "id": "574bf0f6",
   "metadata": {},
   "outputs": [],
   "source": []
  },
  {
   "cell_type": "code",
   "execution_count": null,
   "id": "6ed32ad0",
   "metadata": {},
   "outputs": [],
   "source": []
  },
  {
   "cell_type": "code",
   "execution_count": null,
   "id": "c371a46e",
   "metadata": {},
   "outputs": [],
   "source": []
  },
  {
   "cell_type": "code",
   "execution_count": null,
   "id": "3d68cb2f",
   "metadata": {},
   "outputs": [],
   "source": []
  },
  {
   "cell_type": "code",
   "execution_count": null,
   "id": "6356cd78",
   "metadata": {},
   "outputs": [],
   "source": []
  },
  {
   "cell_type": "code",
   "execution_count": null,
   "id": "96fd236f",
   "metadata": {},
   "outputs": [],
   "source": []
  },
  {
   "cell_type": "code",
   "execution_count": null,
   "id": "e8cd8392",
   "metadata": {},
   "outputs": [],
   "source": []
  },
  {
   "cell_type": "code",
   "execution_count": null,
   "id": "784094db",
   "metadata": {},
   "outputs": [],
   "source": []
  },
  {
   "cell_type": "code",
   "execution_count": null,
   "id": "b88fc1bd",
   "metadata": {},
   "outputs": [],
   "source": []
  },
  {
   "cell_type": "code",
   "execution_count": null,
   "id": "6d0e182f",
   "metadata": {},
   "outputs": [],
   "source": []
  },
  {
   "cell_type": "code",
   "execution_count": null,
   "id": "892ad264",
   "metadata": {},
   "outputs": [],
   "source": []
  }
 ],
 "metadata": {
  "kernelspec": {
   "display_name": "Python 3 (ipykernel)",
   "language": "python",
   "name": "python3"
  },
  "language_info": {
   "codemirror_mode": {
    "name": "ipython",
    "version": 3
   },
   "file_extension": ".py",
   "mimetype": "text/x-python",
   "name": "python",
   "nbconvert_exporter": "python",
   "pygments_lexer": "ipython3",
   "version": "3.10.9"
  }
 },
 "nbformat": 4,
 "nbformat_minor": 5
}
