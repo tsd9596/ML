{
 "cells": [
  {
   "cell_type": "code",
   "execution_count": 1,
   "id": "8f41c6d0",
   "metadata": {},
   "outputs": [
    {
     "data": {
      "text/html": [
       "\n",
       "            <div>\n",
       "                <p><b>SparkSession - in-memory</b></p>\n",
       "                \n",
       "        <div>\n",
       "            <p><b>SparkContext</b></p>\n",
       "\n",
       "            <p><a href=\"http://DESKTOP35TSD11:4041\">Spark UI</a></p>\n",
       "\n",
       "            <dl>\n",
       "              <dt>Version</dt>\n",
       "                <dd><code>v3.3.2</code></dd>\n",
       "              <dt>Master</dt>\n",
       "                <dd><code>local[*]</code></dd>\n",
       "              <dt>AppName</dt>\n",
       "                <dd><code>Test</code></dd>\n",
       "            </dl>\n",
       "        </div>\n",
       "        \n",
       "            </div>\n",
       "        "
      ],
      "text/plain": [
       "<pyspark.sql.session.SparkSession at 0x22c5e1c70d0>"
      ]
     },
     "execution_count": 1,
     "metadata": {},
     "output_type": "execute_result"
    }
   ],
   "source": [
    "import pyspark\n",
    "from pyspark.sql import SparkSession\n",
    "Spark = SparkSession.builder.appName('Test').getOrCreate()\n",
    "Spark"
   ]
  },
  {
   "cell_type": "code",
   "execution_count": 2,
   "id": "787cefd0",
   "metadata": {},
   "outputs": [],
   "source": [
    "df = Spark.read.csv(r\"C:\\Users\\tsd95\\CSV Files\\WA_Fn-UseC_-Telco-Customer-Churn.csv\",inferSchema=True,header=True)"
   ]
  },
  {
   "cell_type": "code",
   "execution_count": 3,
   "id": "21419e2f",
   "metadata": {},
   "outputs": [
    {
     "name": "stdout",
     "output_type": "stream",
     "text": [
      "+----------+------+-------------+-------+----------+------+------------+----------------+---------------+--------------+------------+----------------+-----------+-----------+---------------+--------------+----------------+--------------------+--------------+------------+-----+\n",
      "|customerID|gender|SeniorCitizen|Partner|Dependents|tenure|PhoneService|   MultipleLines|InternetService|OnlineSecurity|OnlineBackup|DeviceProtection|TechSupport|StreamingTV|StreamingMovies|      Contract|PaperlessBilling|       PaymentMethod|MonthlyCharges|TotalCharges|Churn|\n",
      "+----------+------+-------------+-------+----------+------+------------+----------------+---------------+--------------+------------+----------------+-----------+-----------+---------------+--------------+----------------+--------------------+--------------+------------+-----+\n",
      "|7590-VHVEG|Female|            0|    Yes|        No|     1|          No|No phone service|            DSL|            No|         Yes|              No|         No|         No|             No|Month-to-month|             Yes|    Electronic check|         29.85|       29.85|   No|\n",
      "|5575-GNVDE|  Male|            0|     No|        No|    34|         Yes|              No|            DSL|           Yes|          No|             Yes|         No|         No|             No|      One year|              No|        Mailed check|         56.95|      1889.5|   No|\n",
      "|3668-QPYBK|  Male|            0|     No|        No|     2|         Yes|              No|            DSL|           Yes|         Yes|              No|         No|         No|             No|Month-to-month|             Yes|        Mailed check|         53.85|      108.15|  Yes|\n",
      "|7795-CFOCW|  Male|            0|     No|        No|    45|          No|No phone service|            DSL|           Yes|          No|             Yes|        Yes|         No|             No|      One year|              No|Bank transfer (au...|          42.3|     1840.75|   No|\n",
      "|9237-HQITU|Female|            0|     No|        No|     2|         Yes|              No|    Fiber optic|            No|          No|              No|         No|         No|             No|Month-to-month|             Yes|    Electronic check|          70.7|      151.65|  Yes|\n",
      "|9305-CDSKC|Female|            0|     No|        No|     8|         Yes|             Yes|    Fiber optic|            No|          No|             Yes|         No|        Yes|            Yes|Month-to-month|             Yes|    Electronic check|         99.65|       820.5|  Yes|\n",
      "|1452-KIOVK|  Male|            0|     No|       Yes|    22|         Yes|             Yes|    Fiber optic|            No|         Yes|              No|         No|        Yes|             No|Month-to-month|             Yes|Credit card (auto...|          89.1|      1949.4|   No|\n",
      "|6713-OKOMC|Female|            0|     No|        No|    10|          No|No phone service|            DSL|           Yes|          No|              No|         No|         No|             No|Month-to-month|              No|        Mailed check|         29.75|       301.9|   No|\n",
      "|7892-POOKP|Female|            0|    Yes|        No|    28|         Yes|             Yes|    Fiber optic|            No|          No|             Yes|        Yes|        Yes|            Yes|Month-to-month|             Yes|    Electronic check|         104.8|     3046.05|  Yes|\n",
      "|6388-TABGU|  Male|            0|     No|       Yes|    62|         Yes|              No|            DSL|           Yes|         Yes|              No|         No|         No|             No|      One year|              No|Bank transfer (au...|         56.15|     3487.95|   No|\n",
      "+----------+------+-------------+-------+----------+------+------------+----------------+---------------+--------------+------------+----------------+-----------+-----------+---------------+--------------+----------------+--------------------+--------------+------------+-----+\n",
      "only showing top 10 rows\n",
      "\n"
     ]
    }
   ],
   "source": [
    "df.show(10)"
   ]
  },
  {
   "cell_type": "code",
   "execution_count": 4,
   "id": "3bb4a92a",
   "metadata": {},
   "outputs": [
    {
     "data": {
      "text/plain": [
       "['customerID',\n",
       " 'gender',\n",
       " 'SeniorCitizen',\n",
       " 'Partner',\n",
       " 'Dependents',\n",
       " 'tenure',\n",
       " 'PhoneService',\n",
       " 'MultipleLines',\n",
       " 'InternetService',\n",
       " 'OnlineSecurity',\n",
       " 'OnlineBackup',\n",
       " 'DeviceProtection',\n",
       " 'TechSupport',\n",
       " 'StreamingTV',\n",
       " 'StreamingMovies',\n",
       " 'Contract',\n",
       " 'PaperlessBilling',\n",
       " 'PaymentMethod',\n",
       " 'MonthlyCharges',\n",
       " 'TotalCharges',\n",
       " 'Churn']"
      ]
     },
     "execution_count": 4,
     "metadata": {},
     "output_type": "execute_result"
    }
   ],
   "source": [
    "df.columns"
   ]
  },
  {
   "cell_type": "code",
   "execution_count": 5,
   "id": "c7e5aadd",
   "metadata": {},
   "outputs": [
    {
     "name": "stdout",
     "output_type": "stream",
     "text": [
      "+-------+----------+------+------------------+-------+----------+------------------+------------+-------------+---------------+--------------+------------+----------------+-----------+-----------+---------------+--------------+----------------+--------------------+------------------+------------------+-----+\n",
      "|summary|customerID|gender|     SeniorCitizen|Partner|Dependents|            tenure|PhoneService|MultipleLines|InternetService|OnlineSecurity|OnlineBackup|DeviceProtection|TechSupport|StreamingTV|StreamingMovies|      Contract|PaperlessBilling|       PaymentMethod|    MonthlyCharges|      TotalCharges|Churn|\n",
      "+-------+----------+------+------------------+-------+----------+------------------+------------+-------------+---------------+--------------+------------+----------------+-----------+-----------+---------------+--------------+----------------+--------------------+------------------+------------------+-----+\n",
      "|  count|      7043|  7043|              7043|   7043|      7043|              7043|        7043|         7043|           7043|          7043|        7043|            7043|       7043|       7043|           7043|          7043|            7043|                7043|              7043|              7043| 7043|\n",
      "|   mean|      null|  null|0.1621468124378816|   null|      null| 32.37114865824223|        null|         null|           null|          null|        null|            null|       null|       null|           null|          null|            null|                null| 64.76169246059922|2283.3004408418697| null|\n",
      "| stddev|      null|  null|0.3686116056100135|   null|      null|24.559481023094442|        null|         null|           null|          null|        null|            null|       null|       null|           null|          null|            null|                null|30.090047097678482| 2266.771361883145| null|\n",
      "|    min|0002-ORFBO|Female|                 0|     No|        No|                 0|          No|           No|            DSL|            No|          No|              No|         No|         No|             No|Month-to-month|              No|Bank transfer (au...|             18.25|                  |   No|\n",
      "|    max|9995-HOTOH|  Male|                 1|    Yes|       Yes|                72|         Yes|          Yes|             No|           Yes|         Yes|             Yes|        Yes|        Yes|            Yes|      Two year|             Yes|        Mailed check|            118.75|             999.9|  Yes|\n",
      "+-------+----------+------+------------------+-------+----------+------------------+------------+-------------+---------------+--------------+------------+----------------+-----------+-----------+---------------+--------------+----------------+--------------------+------------------+------------------+-----+\n",
      "\n"
     ]
    }
   ],
   "source": [
    "df.describe().show()"
   ]
  },
  {
   "cell_type": "code",
   "execution_count": 6,
   "id": "1aa19d75",
   "metadata": {},
   "outputs": [
    {
     "name": "stdout",
     "output_type": "stream",
     "text": [
      "root\n",
      " |-- customerID: string (nullable = true)\n",
      " |-- gender: string (nullable = true)\n",
      " |-- SeniorCitizen: integer (nullable = true)\n",
      " |-- Partner: string (nullable = true)\n",
      " |-- Dependents: string (nullable = true)\n",
      " |-- tenure: integer (nullable = true)\n",
      " |-- PhoneService: string (nullable = true)\n",
      " |-- MultipleLines: string (nullable = true)\n",
      " |-- InternetService: string (nullable = true)\n",
      " |-- OnlineSecurity: string (nullable = true)\n",
      " |-- OnlineBackup: string (nullable = true)\n",
      " |-- DeviceProtection: string (nullable = true)\n",
      " |-- TechSupport: string (nullable = true)\n",
      " |-- StreamingTV: string (nullable = true)\n",
      " |-- StreamingMovies: string (nullable = true)\n",
      " |-- Contract: string (nullable = true)\n",
      " |-- PaperlessBilling: string (nullable = true)\n",
      " |-- PaymentMethod: string (nullable = true)\n",
      " |-- MonthlyCharges: double (nullable = true)\n",
      " |-- TotalCharges: string (nullable = true)\n",
      " |-- Churn: string (nullable = true)\n",
      "\n"
     ]
    }
   ],
   "source": [
    "df.printSchema()"
   ]
  },
  {
   "cell_type": "code",
   "execution_count": 7,
   "id": "9ba109de",
   "metadata": {},
   "outputs": [
    {
     "data": {
      "text/plain": [
       "[Row(customerID='7590-VHVEG', gender='Female', SeniorCitizen=0, Partner='Yes', Dependents='No', tenure=1, PhoneService='No', MultipleLines='No phone service', InternetService='DSL', OnlineSecurity='No', OnlineBackup='Yes', DeviceProtection='No', TechSupport='No', StreamingTV='No', StreamingMovies='No', Contract='Month-to-month', PaperlessBilling='Yes', PaymentMethod='Electronic check', MonthlyCharges=29.85, TotalCharges='29.85', Churn='No'),\n",
       " Row(customerID='5575-GNVDE', gender='Male', SeniorCitizen=0, Partner='No', Dependents='No', tenure=34, PhoneService='Yes', MultipleLines='No', InternetService='DSL', OnlineSecurity='Yes', OnlineBackup='No', DeviceProtection='Yes', TechSupport='No', StreamingTV='No', StreamingMovies='No', Contract='One year', PaperlessBilling='No', PaymentMethod='Mailed check', MonthlyCharges=56.95, TotalCharges='1889.5', Churn='No'),\n",
       " Row(customerID='3668-QPYBK', gender='Male', SeniorCitizen=0, Partner='No', Dependents='No', tenure=2, PhoneService='Yes', MultipleLines='No', InternetService='DSL', OnlineSecurity='Yes', OnlineBackup='Yes', DeviceProtection='No', TechSupport='No', StreamingTV='No', StreamingMovies='No', Contract='Month-to-month', PaperlessBilling='Yes', PaymentMethod='Mailed check', MonthlyCharges=53.85, TotalCharges='108.15', Churn='Yes'),\n",
       " Row(customerID='7795-CFOCW', gender='Male', SeniorCitizen=0, Partner='No', Dependents='No', tenure=45, PhoneService='No', MultipleLines='No phone service', InternetService='DSL', OnlineSecurity='Yes', OnlineBackup='No', DeviceProtection='Yes', TechSupport='Yes', StreamingTV='No', StreamingMovies='No', Contract='One year', PaperlessBilling='No', PaymentMethod='Bank transfer (automatic)', MonthlyCharges=42.3, TotalCharges='1840.75', Churn='No'),\n",
       " Row(customerID='9237-HQITU', gender='Female', SeniorCitizen=0, Partner='No', Dependents='No', tenure=2, PhoneService='Yes', MultipleLines='No', InternetService='Fiber optic', OnlineSecurity='No', OnlineBackup='No', DeviceProtection='No', TechSupport='No', StreamingTV='No', StreamingMovies='No', Contract='Month-to-month', PaperlessBilling='Yes', PaymentMethod='Electronic check', MonthlyCharges=70.7, TotalCharges='151.65', Churn='Yes')]"
      ]
     },
     "execution_count": 7,
     "metadata": {},
     "output_type": "execute_result"
    }
   ],
   "source": [
    "df.head(5)"
   ]
  },
  {
   "cell_type": "code",
   "execution_count": 8,
   "id": "15c88b63",
   "metadata": {},
   "outputs": [
    {
     "name": "stdout",
     "output_type": "stream",
     "text": [
      "+----------+------+--------------+------------+-----------+-----------+---------------+\n",
      "|Dependents|tenure|OnlineSecurity|OnlineBackup|TechSupport|StreamingTV|StreamingMovies|\n",
      "+----------+------+--------------+------------+-----------+-----------+---------------+\n",
      "|        No|     1|            No|         Yes|         No|         No|             No|\n",
      "|        No|    34|           Yes|          No|         No|         No|             No|\n",
      "|        No|     2|           Yes|         Yes|         No|         No|             No|\n",
      "|        No|    45|           Yes|          No|        Yes|         No|             No|\n",
      "|        No|     2|            No|          No|         No|         No|             No|\n",
      "+----------+------+--------------+------------+-----------+-----------+---------------+\n",
      "only showing top 5 rows\n",
      "\n"
     ]
    }
   ],
   "source": [
    "df.select('Dependents','tenure','OnlineSecurity','OnlineBackup','TechSupport','StreamingTV','StreamingMovies').show(5)"
   ]
  },
  {
   "cell_type": "code",
   "execution_count": 9,
   "id": "4b5d254e",
   "metadata": {},
   "outputs": [],
   "source": [
    "df = df.withColumn('Yearly_Charges',df['MonthlyCharges']*12)"
   ]
  },
  {
   "cell_type": "code",
   "execution_count": 10,
   "id": "4f8b0c86",
   "metadata": {},
   "outputs": [
    {
     "name": "stdout",
     "output_type": "stream",
     "text": [
      "+----------+------+-------------+-------+----------+------+------------+----------------+---------------+--------------+------------+----------------+-----------+-----------+---------------+--------------+----------------+--------------------+--------------+------------+-----+------------------+\n",
      "|customerID|gender|SeniorCitizen|Partner|Dependents|tenure|PhoneService|   MultipleLines|InternetService|OnlineSecurity|OnlineBackup|DeviceProtection|TechSupport|StreamingTV|StreamingMovies|      Contract|PaperlessBilling|       PaymentMethod|MonthlyCharges|TotalCharges|Churn|    Yearly_Charges|\n",
      "+----------+------+-------------+-------+----------+------+------------+----------------+---------------+--------------+------------+----------------+-----------+-----------+---------------+--------------+----------------+--------------------+--------------+------------+-----+------------------+\n",
      "|7590-VHVEG|Female|            0|    Yes|        No|     1|          No|No phone service|            DSL|            No|         Yes|              No|         No|         No|             No|Month-to-month|             Yes|    Electronic check|         29.85|       29.85|   No|358.20000000000005|\n",
      "|5575-GNVDE|  Male|            0|     No|        No|    34|         Yes|              No|            DSL|           Yes|          No|             Yes|         No|         No|             No|      One year|              No|        Mailed check|         56.95|      1889.5|   No| 683.4000000000001|\n",
      "|3668-QPYBK|  Male|            0|     No|        No|     2|         Yes|              No|            DSL|           Yes|         Yes|              No|         No|         No|             No|Month-to-month|             Yes|        Mailed check|         53.85|      108.15|  Yes|             646.2|\n",
      "|7795-CFOCW|  Male|            0|     No|        No|    45|          No|No phone service|            DSL|           Yes|          No|             Yes|        Yes|         No|             No|      One year|              No|Bank transfer (au...|          42.3|     1840.75|   No|507.59999999999997|\n",
      "|9237-HQITU|Female|            0|     No|        No|     2|         Yes|              No|    Fiber optic|            No|          No|              No|         No|         No|             No|Month-to-month|             Yes|    Electronic check|          70.7|      151.65|  Yes| 848.4000000000001|\n",
      "+----------+------+-------------+-------+----------+------+------------+----------------+---------------+--------------+------------+----------------+-----------+-----------+---------------+--------------+----------------+--------------------+--------------+------------+-----+------------------+\n",
      "only showing top 5 rows\n",
      "\n"
     ]
    }
   ],
   "source": [
    "df.show(5)"
   ]
  },
  {
   "cell_type": "code",
   "execution_count": 11,
   "id": "8c5a3935",
   "metadata": {},
   "outputs": [],
   "source": [
    "df = df.withColumnRenamed('Yearly_Charges','YearlyCharges')"
   ]
  },
  {
   "cell_type": "code",
   "execution_count": 12,
   "id": "af4d4ae9",
   "metadata": {},
   "outputs": [
    {
     "name": "stdout",
     "output_type": "stream",
     "text": [
      "+----------+------+-------------+-------+----------+------+------------+----------------+---------------+--------------+------------+----------------+-----------+-----------+---------------+--------------+----------------+--------------------+--------------+------------+-----+------------------+\n",
      "|customerID|gender|SeniorCitizen|Partner|Dependents|tenure|PhoneService|   MultipleLines|InternetService|OnlineSecurity|OnlineBackup|DeviceProtection|TechSupport|StreamingTV|StreamingMovies|      Contract|PaperlessBilling|       PaymentMethod|MonthlyCharges|TotalCharges|Churn|     YearlyCharges|\n",
      "+----------+------+-------------+-------+----------+------+------------+----------------+---------------+--------------+------------+----------------+-----------+-----------+---------------+--------------+----------------+--------------------+--------------+------------+-----+------------------+\n",
      "|7590-VHVEG|Female|            0|    Yes|        No|     1|          No|No phone service|            DSL|            No|         Yes|              No|         No|         No|             No|Month-to-month|             Yes|    Electronic check|         29.85|       29.85|   No|358.20000000000005|\n",
      "|5575-GNVDE|  Male|            0|     No|        No|    34|         Yes|              No|            DSL|           Yes|          No|             Yes|         No|         No|             No|      One year|              No|        Mailed check|         56.95|      1889.5|   No| 683.4000000000001|\n",
      "|3668-QPYBK|  Male|            0|     No|        No|     2|         Yes|              No|            DSL|           Yes|         Yes|              No|         No|         No|             No|Month-to-month|             Yes|        Mailed check|         53.85|      108.15|  Yes|             646.2|\n",
      "|7795-CFOCW|  Male|            0|     No|        No|    45|          No|No phone service|            DSL|           Yes|          No|             Yes|        Yes|         No|             No|      One year|              No|Bank transfer (au...|          42.3|     1840.75|   No|507.59999999999997|\n",
      "|9237-HQITU|Female|            0|     No|        No|     2|         Yes|              No|    Fiber optic|            No|          No|              No|         No|         No|             No|Month-to-month|             Yes|    Electronic check|          70.7|      151.65|  Yes| 848.4000000000001|\n",
      "+----------+------+-------------+-------+----------+------+------------+----------------+---------------+--------------+------------+----------------+-----------+-----------+---------------+--------------+----------------+--------------------+--------------+------------+-----+------------------+\n",
      "only showing top 5 rows\n",
      "\n"
     ]
    }
   ],
   "source": [
    "df.show(5)"
   ]
  },
  {
   "cell_type": "code",
   "execution_count": 13,
   "id": "4a5fe06b",
   "metadata": {},
   "outputs": [
    {
     "name": "stdout",
     "output_type": "stream",
     "text": [
      "+-------+----------+------+------------------+-------+----------+------------------+------------+-------------+---------------+--------------+------------+----------------+-----------+-----------+---------------+--------------+----------------+--------------------+------------------+------------------+-----+------------------+\n",
      "|summary|customerID|gender|     SeniorCitizen|Partner|Dependents|            tenure|PhoneService|MultipleLines|InternetService|OnlineSecurity|OnlineBackup|DeviceProtection|TechSupport|StreamingTV|StreamingMovies|      Contract|PaperlessBilling|       PaymentMethod|    MonthlyCharges|      TotalCharges|Churn|     YearlyCharges|\n",
      "+-------+----------+------+------------------+-------+----------+------------------+------------+-------------+---------------+--------------+------------+----------------+-----------+-----------+---------------+--------------+----------------+--------------------+------------------+------------------+-----+------------------+\n",
      "|  count|      7043|  7043|              7043|   7043|      7043|              7043|        7043|         7043|           7043|          7043|        7043|            7043|       7043|       7043|           7043|          7043|            7043|                7043|              7043|              7043| 7043|              7043|\n",
      "|   mean|      null|  null|0.1621468124378816|   null|      null| 32.37114865824223|        null|         null|           null|          null|        null|            null|       null|       null|           null|          null|            null|                null| 64.76169246059922|2283.3004408418697| null| 777.1403095271866|\n",
      "| stddev|      null|  null|0.3686116056100135|   null|      null|24.559481023094442|        null|         null|           null|          null|        null|            null|       null|       null|           null|          null|            null|                null|30.090047097678482| 2266.771361883145| null| 361.0805651721416|\n",
      "|    min|0002-ORFBO|Female|                 0|     No|        No|                 0|          No|           No|            DSL|            No|          No|              No|         No|         No|             No|Month-to-month|              No|Bank transfer (au...|             18.25|                  |   No|             219.0|\n",
      "|    25%|      null|  null|                 0|   null|      null|                 9|        null|         null|           null|          null|        null|            null|       null|       null|           null|          null|            null|                null|              35.5|             401.1| null|             426.0|\n",
      "|    50%|      null|  null|                 0|   null|      null|                29|        null|         null|           null|          null|        null|            null|       null|       null|           null|          null|            null|                null|             70.35|            1396.9| null| 844.1999999999999|\n",
      "|    75%|      null|  null|                 0|   null|      null|                55|        null|         null|           null|          null|        null|            null|       null|       null|           null|          null|            null|                null|             89.85|            3791.6| null|1078.1999999999998|\n",
      "|    max|9995-HOTOH|  Male|                 1|    Yes|       Yes|                72|         Yes|          Yes|             No|           Yes|         Yes|             Yes|        Yes|        Yes|            Yes|      Two year|             Yes|        Mailed check|            118.75|             999.9|  Yes|            1425.0|\n",
      "+-------+----------+------+------------------+-------+----------+------------------+------------+-------------+---------------+--------------+------------+----------------+-----------+-----------+---------------+--------------+----------------+--------------------+------------------+------------------+-----+------------------+\n",
      "\n"
     ]
    }
   ],
   "source": [
    "df.summary().show()"
   ]
  },
  {
   "cell_type": "code",
   "execution_count": 14,
   "id": "bbc1e301",
   "metadata": {},
   "outputs": [],
   "source": [
    "dn = Spark.read.csv(r\"C:\\Users\\tsd95\\CSV Files\\Model\\NullValues.csv\",inferSchema=True,header=True)"
   ]
  },
  {
   "cell_type": "code",
   "execution_count": 15,
   "id": "c4ce4326",
   "metadata": {},
   "outputs": [
    {
     "name": "stdout",
     "output_type": "stream",
     "text": [
      "+----+----------+----+-----+------------------+--------+\n",
      "|  ID|      NAME| AGE|  SAL|             EMAIL|     LOC|\n",
      "+----+----------+----+-----+------------------+--------+\n",
      "| 105|      Anil|  32| null|    anil@gmail.com|    Pune|\n",
      "| 106|    Chetan|null|98000|    chet@yahoo.com|   Pawai|\n",
      "| 114|    Jayesh|  27|65000|jayesh@outlook.com|   Thane|\n",
      "|null|    Harish|  25| null|  harish@gmail.com|    null|\n",
      "| 120|     Komal|  28|59700|   komal@yahoo.com| Sangali|\n",
      "| 135|      null|null|78700|              null|Hydrabad|\n",
      "| 140|    Sachin|  29|45700|  sachin@gmail.com|Kolhapur|\n",
      "| 135|Vijaykumar|  32|46940|   vijay@yahoo.com|Kolhapur|\n",
      "| 498|     Kiran|null|61649|   kamal@gmail.com|   Panji|\n",
      "|null|      null|  25|76464|              null|  Barshi|\n",
      "| 416|    Bharat|null|98746|  bharat@gmail.com|   Latur|\n",
      "|null|      null|  40| null|  sachin@gmail.com|    Pune|\n",
      "| 489|   Pratham|  25|46479| pratham@gmail.com|    null|\n",
      "| 162|     Shlok|  27|46497|              null|    null|\n",
      "| 648|      null|  24|45404|  kanika@gmail.com|    null|\n",
      "+----+----------+----+-----+------------------+--------+\n",
      "\n"
     ]
    }
   ],
   "source": [
    "dn.show()"
   ]
  },
  {
   "cell_type": "code",
   "execution_count": 16,
   "id": "9bb68ac2",
   "metadata": {},
   "outputs": [
    {
     "name": "stdout",
     "output_type": "stream",
     "text": [
      "+---+----------+---+-----+------------------+--------+\n",
      "| ID|      NAME|AGE|  SAL|             EMAIL|     LOC|\n",
      "+---+----------+---+-----+------------------+--------+\n",
      "|114|    Jayesh| 27|65000|jayesh@outlook.com|   Thane|\n",
      "|120|     Komal| 28|59700|   komal@yahoo.com| Sangali|\n",
      "|140|    Sachin| 29|45700|  sachin@gmail.com|Kolhapur|\n",
      "|135|Vijaykumar| 32|46940|   vijay@yahoo.com|Kolhapur|\n",
      "+---+----------+---+-----+------------------+--------+\n",
      "\n"
     ]
    }
   ],
   "source": [
    "dn.dropna().show()"
   ]
  },
  {
   "cell_type": "code",
   "execution_count": 17,
   "id": "576d9313",
   "metadata": {},
   "outputs": [
    {
     "name": "stdout",
     "output_type": "stream",
     "text": [
      "+---+----------+---+-----+------------------+--------+\n",
      "| ID|      NAME|AGE|  SAL|             EMAIL|     LOC|\n",
      "+---+----------+---+-----+------------------+--------+\n",
      "|114|    Jayesh| 27|65000|jayesh@outlook.com|   Thane|\n",
      "|120|     Komal| 28|59700|   komal@yahoo.com| Sangali|\n",
      "|140|    Sachin| 29|45700|  sachin@gmail.com|Kolhapur|\n",
      "|135|Vijaykumar| 32|46940|   vijay@yahoo.com|Kolhapur|\n",
      "+---+----------+---+-----+------------------+--------+\n",
      "\n"
     ]
    }
   ],
   "source": [
    "dn.na.drop(how='any').show()"
   ]
  },
  {
   "cell_type": "code",
   "execution_count": 18,
   "id": "6a1487bf",
   "metadata": {},
   "outputs": [
    {
     "name": "stdout",
     "output_type": "stream",
     "text": [
      "+----+----------+----+-----+------------------+--------+\n",
      "|  ID|      NAME| AGE|  SAL|             EMAIL|     LOC|\n",
      "+----+----------+----+-----+------------------+--------+\n",
      "| 105|      Anil|  32| null|    anil@gmail.com|    Pune|\n",
      "| 106|    Chetan|null|98000|    chet@yahoo.com|   Pawai|\n",
      "| 114|    Jayesh|  27|65000|jayesh@outlook.com|   Thane|\n",
      "|null|    Harish|  25| null|  harish@gmail.com|    null|\n",
      "| 120|     Komal|  28|59700|   komal@yahoo.com| Sangali|\n",
      "| 135|      null|null|78700|              null|Hydrabad|\n",
      "| 140|    Sachin|  29|45700|  sachin@gmail.com|Kolhapur|\n",
      "| 135|Vijaykumar|  32|46940|   vijay@yahoo.com|Kolhapur|\n",
      "| 498|     Kiran|null|61649|   kamal@gmail.com|   Panji|\n",
      "|null|      null|  25|76464|              null|  Barshi|\n",
      "| 416|    Bharat|null|98746|  bharat@gmail.com|   Latur|\n",
      "|null|      null|  40| null|  sachin@gmail.com|    Pune|\n",
      "| 489|   Pratham|  25|46479| pratham@gmail.com|    null|\n",
      "| 162|     Shlok|  27|46497|              null|    null|\n",
      "| 648|      null|  24|45404|  kanika@gmail.com|    null|\n",
      "+----+----------+----+-----+------------------+--------+\n",
      "\n"
     ]
    }
   ],
   "source": [
    "dn.na.drop(how='all').show()"
   ]
  },
  {
   "cell_type": "code",
   "execution_count": 19,
   "id": "6b0581b1",
   "metadata": {},
   "outputs": [
    {
     "name": "stdout",
     "output_type": "stream",
     "text": [
      "+---+----------+----+-----+------------------+--------+\n",
      "| ID|      NAME| AGE|  SAL|             EMAIL|     LOC|\n",
      "+---+----------+----+-----+------------------+--------+\n",
      "|105|      Anil|  32| null|    anil@gmail.com|    Pune|\n",
      "|106|    Chetan|null|98000|    chet@yahoo.com|   Pawai|\n",
      "|114|    Jayesh|  27|65000|jayesh@outlook.com|   Thane|\n",
      "|120|     Komal|  28|59700|   komal@yahoo.com| Sangali|\n",
      "|140|    Sachin|  29|45700|  sachin@gmail.com|Kolhapur|\n",
      "|135|Vijaykumar|  32|46940|   vijay@yahoo.com|Kolhapur|\n",
      "|498|     Kiran|null|61649|   kamal@gmail.com|   Panji|\n",
      "|416|    Bharat|null|98746|  bharat@gmail.com|   Latur|\n",
      "|489|   Pratham|  25|46479| pratham@gmail.com|    null|\n",
      "+---+----------+----+-----+------------------+--------+\n",
      "\n"
     ]
    }
   ],
   "source": [
    "#atleast 5 Values Should be Present.\n",
    "dn.na.drop(thresh=5).show()"
   ]
  },
  {
   "cell_type": "code",
   "execution_count": 20,
   "id": "9ae21f14",
   "metadata": {},
   "outputs": [
    {
     "name": "stdout",
     "output_type": "stream",
     "text": [
      "+----+----------+----+-----+------------------+--------+\n",
      "|  ID|      NAME| AGE|  SAL|             EMAIL|     LOC|\n",
      "+----+----------+----+-----+------------------+--------+\n",
      "| 105|      Anil|  32| Fill|    anil@gmail.com|    Pune|\n",
      "| 106|    Chetan|null|98000|    chet@yahoo.com|   Pawai|\n",
      "| 114|    Jayesh|  27|65000|jayesh@outlook.com|   Thane|\n",
      "|null|    Harish|  25| Fill|  harish@gmail.com|    Fill|\n",
      "| 120|     Komal|  28|59700|   komal@yahoo.com| Sangali|\n",
      "| 135|      Fill|null|78700|              Fill|Hydrabad|\n",
      "| 140|    Sachin|  29|45700|  sachin@gmail.com|Kolhapur|\n",
      "| 135|Vijaykumar|  32|46940|   vijay@yahoo.com|Kolhapur|\n",
      "| 498|     Kiran|null|61649|   kamal@gmail.com|   Panji|\n",
      "|null|      Fill|  25|76464|              Fill|  Barshi|\n",
      "| 416|    Bharat|null|98746|  bharat@gmail.com|   Latur|\n",
      "|null|      Fill|  40| null|  sachin@gmail.com|    Pune|\n",
      "| 489|   Pratham|  25|46479| pratham@gmail.com|    Fill|\n",
      "| 162|     Shlok|  27|46497|              Fill|    Fill|\n",
      "| 648|      Fill|  24|45404|  kanika@gmail.com|    Fill|\n",
      "+----+----------+----+-----+------------------+--------+\n",
      "\n"
     ]
    }
   ],
   "source": [
    "dn.na.fill('Fill').show()"
   ]
  },
  {
   "cell_type": "code",
   "execution_count": 21,
   "id": "1fbf9672",
   "metadata": {},
   "outputs": [
    {
     "name": "stdout",
     "output_type": "stream",
     "text": [
      "+---+----------+---+-----+------------------+--------+\n",
      "| ID|      NAME|AGE|  SAL|             EMAIL|     LOC|\n",
      "+---+----------+---+-----+------------------+--------+\n",
      "|105|      Anil| 32| null|    anil@gmail.com|    Pune|\n",
      "|106|    Chetan| 25|98000|    chet@yahoo.com|   Pawai|\n",
      "|114|    Jayesh| 27|65000|jayesh@outlook.com|   Thane|\n",
      "| 25|    Harish| 25| null|  harish@gmail.com|    null|\n",
      "|120|     Komal| 28|59700|   komal@yahoo.com| Sangali|\n",
      "|135|      null| 25|78700|              null|Hydrabad|\n",
      "|140|    Sachin| 29|45700|  sachin@gmail.com|Kolhapur|\n",
      "|135|Vijaykumar| 32|46940|   vijay@yahoo.com|Kolhapur|\n",
      "|498|     Kiran| 25|61649|   kamal@gmail.com|   Panji|\n",
      "| 25|      null| 25|76464|              null|  Barshi|\n",
      "|416|    Bharat| 25|98746|  bharat@gmail.com|   Latur|\n",
      "| 25|      null| 40| null|  sachin@gmail.com|    Pune|\n",
      "|489|   Pratham| 25|46479| pratham@gmail.com|    null|\n",
      "|162|     Shlok| 27|46497|              null|    null|\n",
      "|648|      null| 24|45404|  kanika@gmail.com|    null|\n",
      "+---+----------+---+-----+------------------+--------+\n",
      "\n"
     ]
    }
   ],
   "source": [
    "dn.na.fill(25,['Name','Age','ID']).show()"
   ]
  },
  {
   "cell_type": "code",
   "execution_count": 22,
   "id": "886ae1c9",
   "metadata": {},
   "outputs": [],
   "source": [
    "ds = Spark.read.csv(r\"C:\\Users\\tsd95\\CSV Files\\cruise_ship_info.csv\",inferSchema=True,header=True)"
   ]
  },
  {
   "cell_type": "code",
   "execution_count": 23,
   "id": "7b2c28ce",
   "metadata": {},
   "outputs": [
    {
     "name": "stdout",
     "output_type": "stream",
     "text": [
      "+-----------+-----------+---+------------------+----------+------+------+-----------------+----+\n",
      "|  Ship_name|Cruise_line|Age|           Tonnage|passengers|length|cabins|passenger_density|crew|\n",
      "+-----------+-----------+---+------------------+----------+------+------+-----------------+----+\n",
      "|    Journey|    Azamara|  6|30.276999999999997|      6.94|  5.94|  3.55|            42.64|3.55|\n",
      "|      Quest|    Azamara|  6|30.276999999999997|      6.94|  5.94|  3.55|            42.64|3.55|\n",
      "|Celebration|   Carnival| 26|            47.262|     14.86|  7.22|  7.43|             31.8| 6.7|\n",
      "|   Conquest|   Carnival| 11|             110.0|     29.74|  9.53| 14.88|            36.99|19.1|\n",
      "|    Destiny|   Carnival| 17|           101.353|     26.42|  8.92| 13.21|            38.36|10.0|\n",
      "+-----------+-----------+---+------------------+----------+------+------+-----------------+----+\n",
      "only showing top 5 rows\n",
      "\n"
     ]
    }
   ],
   "source": [
    "ds.show(5)"
   ]
  },
  {
   "cell_type": "code",
   "execution_count": 25,
   "id": "06a4e987",
   "metadata": {},
   "outputs": [
    {
     "name": "stdout",
     "output_type": "stream",
     "text": [
      "+-----------+-----------+---+------------------+----------+------+------+-----------------+----+\n",
      "|  Ship_name|Cruise_line|Age|           Tonnage|passengers|length|cabins|passenger_density|crew|\n",
      "+-----------+-----------+---+------------------+----------+------+------+-----------------+----+\n",
      "|    Journey|    Azamara|  6|30.276999999999997|      6.94|  5.94|  3.55|            42.64|3.55|\n",
      "|      Quest|    Azamara|  6|30.276999999999997|      6.94|  5.94|  3.55|            42.64|3.55|\n",
      "|Celebration|   Carnival| 26|            47.262|     14.86|  7.22|  7.43|             31.8| 6.7|\n",
      "|   Conquest|   Carnival| 11|             110.0|     29.74|  9.53| 14.88|            36.99|19.1|\n",
      "|    Destiny|   Carnival| 17|           101.353|     26.42|  8.92| 13.21|            38.36|10.0|\n",
      "|    Ecstasy|   Carnival| 22|            70.367|     20.52|  8.55|  10.2|            34.29| 9.2|\n",
      "|    Elation|   Carnival| 15|            70.367|     20.52|  8.55|  10.2|            34.29| 9.2|\n",
      "|    Fantasy|   Carnival| 23|            70.367|     20.56|  8.55| 10.22|            34.23| 9.2|\n",
      "|Fascination|   Carnival| 19|            70.367|     20.52|  8.55|  10.2|            34.29| 9.2|\n",
      "|    Freedom|   Carnival|  6|110.23899999999999|      37.0|  9.51| 14.87|            29.79|11.5|\n",
      "|      Glory|   Carnival| 10|             110.0|     29.74|  9.51| 14.87|            36.99|11.6|\n",
      "|    Holiday|   Carnival| 28|            46.052|     14.52|  7.27|  7.26|            31.72| 6.6|\n",
      "|Imagination|   Carnival| 18|            70.367|     20.52|  8.55|  10.2|            34.29| 9.2|\n",
      "|Inspiration|   Carnival| 17|            70.367|     20.52|  8.55|  10.2|            34.29| 9.2|\n",
      "|     Legend|   Carnival| 11|              86.0|     21.24|  9.63| 10.62|            40.49| 9.3|\n",
      "|   Liberty*|   Carnival|  8|             110.0|     29.74|  9.51| 14.87|            36.99|11.6|\n",
      "|    Miracle|   Carnival|  9|              88.5|     21.24|  9.63| 10.62|            41.67|10.3|\n",
      "|   Paradise|   Carnival| 15|            70.367|     20.52|  8.55|  10.2|            34.29| 9.2|\n",
      "|      Pride|   Carnival| 12|              88.5|     21.24|  9.63| 11.62|            41.67| 9.3|\n",
      "|  Sensation|   Carnival| 20|            70.367|     20.52|  8.55|  10.2|            34.29| 9.2|\n",
      "+-----------+-----------+---+------------------+----------+------+------+-----------------+----+\n",
      "only showing top 20 rows\n",
      "\n"
     ]
    }
   ],
   "source": [
    "Spark.sql('select * from crew').show()"
   ]
  },
  {
   "cell_type": "code",
   "execution_count": 26,
   "id": "92f95ba2",
   "metadata": {},
   "outputs": [
    {
     "data": {
      "text/plain": [
       "['Ship_name',\n",
       " 'Cruise_line',\n",
       " 'Age',\n",
       " 'Tonnage',\n",
       " 'passengers',\n",
       " 'length',\n",
       " 'cabins',\n",
       " 'passenger_density',\n",
       " 'crew']"
      ]
     },
     "execution_count": 26,
     "metadata": {},
     "output_type": "execute_result"
    }
   ],
   "source": [
    "ds.columns"
   ]
  },
  {
   "cell_type": "code",
   "execution_count": 27,
   "id": "d8af3714",
   "metadata": {},
   "outputs": [
    {
     "name": "stdout",
     "output_type": "stream",
     "text": [
      "+-----------+-----------+---+----+\n",
      "|  Ship_name|Cruise_line|Age|crew|\n",
      "+-----------+-----------+---+----+\n",
      "|    Journey|    Azamara|  6|3.55|\n",
      "|      Quest|    Azamara|  6|3.55|\n",
      "|Celebration|   Carnival| 26| 6.7|\n",
      "|   Conquest|   Carnival| 11|19.1|\n",
      "|    Destiny|   Carnival| 17|10.0|\n",
      "|    Ecstasy|   Carnival| 22| 9.2|\n",
      "|    Elation|   Carnival| 15| 9.2|\n",
      "|    Fantasy|   Carnival| 23| 9.2|\n",
      "|Fascination|   Carnival| 19| 9.2|\n",
      "|    Freedom|   Carnival|  6|11.5|\n",
      "|      Glory|   Carnival| 10|11.6|\n",
      "|    Holiday|   Carnival| 28| 6.6|\n",
      "|Imagination|   Carnival| 18| 9.2|\n",
      "|Inspiration|   Carnival| 17| 9.2|\n",
      "|     Legend|   Carnival| 11| 9.3|\n",
      "|   Liberty*|   Carnival|  8|11.6|\n",
      "|    Miracle|   Carnival|  9|10.3|\n",
      "|   Paradise|   Carnival| 15| 9.2|\n",
      "|      Pride|   Carnival| 12| 9.3|\n",
      "|  Sensation|   Carnival| 20| 9.2|\n",
      "+-----------+-----------+---+----+\n",
      "only showing top 20 rows\n",
      "\n"
     ]
    }
   ],
   "source": [
    "Spark.sql('select Ship_name,Cruise_line,Age,crew from crew ').show()"
   ]
  },
  {
   "cell_type": "code",
   "execution_count": 28,
   "id": "f7c4933c",
   "metadata": {},
   "outputs": [
    {
     "name": "stdout",
     "output_type": "stream",
     "text": [
      "+---------+------------------+\n",
      "|Ship_name|count(Cruise_line)|\n",
      "+---------+------------------+\n",
      "|   Spirit|                 4|\n",
      "|   Legend|                 3|\n",
      "|     Star|                 3|\n",
      "+---------+------------------+\n",
      "\n"
     ]
    }
   ],
   "source": [
    "Spark.sql(\"select Ship_name,count(Cruise_line) from crew group by Ship_name having count(Cruise_line)>2 \").show()"
   ]
  },
  {
   "cell_type": "code",
   "execution_count": 29,
   "id": "15799565",
   "metadata": {},
   "outputs": [
    {
     "name": "stdout",
     "output_type": "stream",
     "text": [
      "+------------+\n",
      "|   Ship_name|\n",
      "+------------+\n",
      "|       Virgo|\n",
      "|     Fortuna|\n",
      "|      Shadow|\n",
      "|     Empress|\n",
      "|        Wind|\n",
      "|    Paradise|\n",
      "|        Surf|\n",
      "|      Wonder|\n",
      "|       Magic|\n",
      "|    Symphony|\n",
      "|    Sinfonia|\n",
      "| Inspiration|\n",
      "|   Millenium|\n",
      "|    Solstice|\n",
      "|PrideofAloha|\n",
      "|     Majesty|\n",
      "|     Ventura|\n",
      "|   Romantica|\n",
      "|      Spirit|\n",
      "|       Oasis|\n",
      "+------------+\n",
      "only showing top 20 rows\n",
      "\n"
     ]
    }
   ],
   "source": [
    "Spark.sql(\"select distinct(Ship_name) from crew\").show()"
   ]
  },
  {
   "cell_type": "code",
   "execution_count": 30,
   "id": "c26712d6",
   "metadata": {},
   "outputs": [
    {
     "name": "stdout",
     "output_type": "stream",
     "text": [
      "+-----------------+\n",
      "|      Cruise_line|\n",
      "+-----------------+\n",
      "|            Costa|\n",
      "|              P&O|\n",
      "|           Cunard|\n",
      "|Regent_Seven_Seas|\n",
      "|              MSC|\n",
      "|         Carnival|\n",
      "|          Crystal|\n",
      "|           Orient|\n",
      "|         Princess|\n",
      "|        Silversea|\n",
      "|         Seabourn|\n",
      "| Holland_American|\n",
      "|         Windstar|\n",
      "|           Disney|\n",
      "|        Norwegian|\n",
      "|          Oceania|\n",
      "|          Azamara|\n",
      "|        Celebrity|\n",
      "|             Star|\n",
      "|  Royal_Caribbean|\n",
      "+-----------------+\n",
      "\n"
     ]
    }
   ],
   "source": [
    "Spark.sql(\"select distinct(Cruise_line) from crew\").show()"
   ]
  },
  {
   "cell_type": "code",
   "execution_count": 31,
   "id": "343d21bf",
   "metadata": {},
   "outputs": [
    {
     "name": "stdout",
     "output_type": "stream",
     "text": [
      "+---------+-----------+---+-------+----------+------+------+-----------------+----+\n",
      "|Ship_name|Cruise_line|Age|Tonnage|passengers|length|cabins|passenger_density|crew|\n",
      "+---------+-----------+---+-------+----------+------+------+-----------------+----+\n",
      "|   Taurus|       Star| 22|  3.341|      0.66|  2.79|  0.33|            50.62|0.59|\n",
      "|    Aries|       Star| 22|  3.341|      0.66|   2.8|  0.33|            50.62|0.59|\n",
      "|Xpedition|  Celebrity| 12|  2.329|      0.94|  2.96|  0.45|            24.78| 0.6|\n",
      "|     Star|   Windstar| 27|   5.35|      1.67|   4.4|  0.74|            32.04|0.88|\n",
      "|   Spirit|   Windstar| 25|   5.35|      1.58|   4.4|  0.74|            33.86|0.88|\n",
      "+---------+-----------+---+-------+----------+------+------+-----------------+----+\n",
      "only showing top 5 rows\n",
      "\n"
     ]
    }
   ],
   "source": [
    "Spark.sql(\"select * from crew order by crew\").show(5)"
   ]
  },
  {
   "cell_type": "code",
   "execution_count": 32,
   "id": "a3be2961",
   "metadata": {},
   "outputs": [
    {
     "name": "stdout",
     "output_type": "stream",
     "text": [
      "+-------------+-----------------+---+-----------------+----------+------+------+-----------------+-----+\n",
      "|    Ship_name|      Cruise_line|Age|          Tonnage|passengers|length|cabins|passenger_density| crew|\n",
      "+-------------+-----------------+---+-----------------+----------+------+------+-----------------+-----+\n",
      "|      Fortuna|            Costa| 10|            105.0|      27.2|   8.9| 13.56|             38.6|10.68|\n",
      "|        Glory|         Carnival| 10|            110.0|     29.74|  9.51| 14.87|            36.99| 11.6|\n",
      "|      Mariner|  Royal_Caribbean| 10|            138.0|     31.14|  10.2| 15.57|            44.32|11.85|\n",
      "|     Serenade|  Royal_Caribbean| 10|            90.09|     25.01|  9.62|  10.5|            36.02| 8.58|\n",
      "|    Oosterdam| Holland_American| 10|81.76899999999999|     18.48|  9.59|  9.24|            44.25| 8.42|\n",
      "|       Lirica|              MSC| 10|           58.825|      15.6|  8.23|  7.65|            37.71|  7.0|\n",
      "|     Serenity|          Crystal| 10|             68.0|      10.8|   7.9|   5.5|            62.96| 6.36|\n",
      "|       Oceana|              P&O| 10|             77.0|     20.16|  8.56|  9.75|            38.19|  9.0|\n",
      "| Mediterranea|            Costa| 10|             86.0|     21.14|   9.6| 10.56|            40.68|  9.2|\n",
      "|       Island|         Princess| 10|91.62700000000001|     19.74|  9.64|  9.87|            46.42|  9.0|\n",
      "|      Voyager|Regent_Seven_Seas| 10|             46.0|       7.0|   6.7|  1.82|            65.71| 4.47|\n",
      "|   QueenMary2|           Cunard| 10|            151.4|      26.2| 11.32| 11.34|            57.79|12.53|\n",
      "|       Legend|         Carnival| 11|             86.0|     21.24|  9.63| 10.62|            40.49|  9.3|\n",
      "|    Zuiderdam| Holland_American| 11|             85.0|     18.48|  9.51|  9.24|             46.0|  8.0|\n",
      "|Constellation|        Celebrity| 11|             91.0|     20.32|  9.65|  9.75|            44.78| 9.99|\n",
      "|     Sinfonia|              MSC| 11|             58.6|     15.66|  8.23|  7.83|            37.42|  7.6|\n",
      "|         Star|         Princess| 11|          108.977|     26.02|  9.51| 13.01|            41.88| 12.0|\n",
      "|     Conquest|         Carnival| 11|            110.0|     29.74|  9.53| 14.88|            36.99| 19.1|\n",
      "|         Dawn|        Norwegian| 11|             90.0|      22.4|  9.65|  11.2|            40.18| 11.0|\n",
      "|   Brilliance|  Royal_Caribbean| 11|            90.09|     25.01|  9.62|  10.5|            36.02| 8.48|\n",
      "+-------------+-----------------+---+-----------------+----------+------+------+-----------------+-----+\n",
      "only showing top 20 rows\n",
      "\n"
     ]
    }
   ],
   "source": [
    "Spark.sql(\"select * from crew order by Age\").show()"
   ]
  },
  {
   "cell_type": "code",
   "execution_count": 33,
   "id": "2a47daa6",
   "metadata": {},
   "outputs": [
    {
     "name": "stdout",
     "output_type": "stream",
     "text": [
      "+---------+-----------+---+-----------------+----------+------+------+-----------------+-----+\n",
      "|Ship_name|Cruise_line|Age|          Tonnage|passengers|length|cabins|passenger_density| crew|\n",
      "+---------+-----------+---+-----------------+----------+------+------+-----------------+-----+\n",
      "|   Spirit|   Carnival| 12|             88.5|     21.24|  9.63| 10.56|            41.67|10.29|\n",
      "|   Spirit|  Norwegian| 15|75.33800000000001|     19.56|  8.79|  9.83|            38.52| 13.0|\n",
      "|   Spirit|   Seabourn| 24|             10.0|      2.08|   4.4|  1.04|            48.08|  1.6|\n",
      "|   Spirit|   Windstar| 25|             5.35|      1.58|   4.4|  0.74|            33.86| 0.88|\n",
      "+---------+-----------+---+-----------------+----------+------+------+-----------------+-----+\n",
      "\n"
     ]
    }
   ],
   "source": [
    "Spark.sql(\"select * from crew where Ship_name=='Spirit'\").show(5)"
   ]
  },
  {
   "cell_type": "code",
   "execution_count": 42,
   "id": "e20557f0",
   "metadata": {},
   "outputs": [
    {
     "name": "stdout",
     "output_type": "stream",
     "text": [
      "+---------+---------------+---+-------+----------+------+------+-----------------+----+\n",
      "|Ship_name|    Cruise_line|Age|Tonnage|passengers|length|cabins|passenger_density|crew|\n",
      "+---------+---------------+---+-------+----------+------+------+-----------------+----+\n",
      "|   Legend|Royal_Caribbean| 18|   70.0|      18.0|  8.67|   9.0|            38.89| 7.2|\n",
      "+---------+---------------+---+-------+----------+------+------+-----------------+----+\n",
      "\n"
     ]
    }
   ],
   "source": [
    "Spark.sql(\"select* from crew where Ship_name=='Legend' and Cruise_line=='Royal_Caribbean'\").show()"
   ]
  },
  {
   "cell_type": "code",
   "execution_count": 41,
   "id": "8855f47a",
   "metadata": {},
   "outputs": [
    {
     "name": "stdout",
     "output_type": "stream",
     "text": [
      "+---------------+------------------+\n",
      "|    Cruise_line|count(Cruise_line)|\n",
      "+---------------+------------------+\n",
      "|       Carnival|                22|\n",
      "|       Princess|                17|\n",
      "|Royal_Caribbean|                23|\n",
      "+---------------+------------------+\n",
      "\n"
     ]
    }
   ],
   "source": [
    "Spark.sql(\"select Cruise_line,count(Cruise_line) from crew group by Cruise_line having count(Cruise_line)>15\").show()"
   ]
  },
  {
   "cell_type": "code",
   "execution_count": 45,
   "id": "b205fd89",
   "metadata": {},
   "outputs": [],
   "source": [
    "q1 = Spark.sql(\"select * from crew\").toPandas()"
   ]
  },
  {
   "cell_type": "code",
   "execution_count": 89,
   "id": "862d3ded",
   "metadata": {},
   "outputs": [
    {
     "data": {
      "text/plain": [
       "(158, 9)"
      ]
     },
     "execution_count": 89,
     "metadata": {},
     "output_type": "execute_result"
    }
   ],
   "source": [
    "q1.shape"
   ]
  },
  {
   "cell_type": "code",
   "execution_count": 57,
   "id": "64b8a2d6",
   "metadata": {},
   "outputs": [
    {
     "name": "stdout",
     "output_type": "stream",
     "text": [
      "+---------+-----------+---+-------+----------+------+------+-----------------+-----+\n",
      "|Ship_name|Cruise_line|Age|Tonnage|passengers|length|cabins|passenger_density| crew|\n",
      "+---------+-----------+---+-------+----------+------+------+-----------------+-----+\n",
      "|Caribbean|   Princess|  9|  116.0|      26.0|  9.51|  13.0|            44.62| 11.0|\n",
      "|    Crown|   Princess|  7|  116.0|      31.0|  9.51| 15.57|            37.42| 12.0|\n",
      "|  Diamond|   Princess|  9|  113.0|     26.74|  9.51| 13.37|            42.26|12.38|\n",
      "|  Emerald|   Princess|  6|  113.0|     37.82|  9.51| 15.57|            29.88| 12.0|\n",
      "|   Golden|   Princess| 12|108.865|     27.58|  9.51|  13.0|            39.47| 11.0|\n",
      "|    Grand|   Princess| 15|108.806|      26.0|  9.51|  13.0|            41.85| 11.1|\n",
      "|  Saphire|   Princess|  9|  113.0|     26.74|  9.51| 13.37|            42.26|12.38|\n",
      "|     Star|   Princess| 11|108.977|     26.02|  9.51| 13.01|            41.88| 12.0|\n",
      "+---------+-----------+---+-------+----------+------+------+-----------------+-----+\n",
      "\n"
     ]
    }
   ],
   "source": [
    "    Spark.sql(\"select * from crew where Cruise_line=='Princess' and crew>10 \").show()"
   ]
  },
  {
   "cell_type": "code",
   "execution_count": 58,
   "id": "e9d4b1bf",
   "metadata": {},
   "outputs": [
    {
     "name": "stdout",
     "output_type": "stream",
     "text": [
      "+--------+\n",
      "|max(Age)|\n",
      "+--------+\n",
      "|       9|\n",
      "+--------+\n",
      "\n"
     ]
    }
   ],
   "source": [
    "Spark.sql(\"select max(Age)from crew where Cruise_line=='Princess'\").show()"
   ]
  },
  {
   "cell_type": "code",
   "execution_count": null,
   "id": "08a960b9",
   "metadata": {},
   "outputs": [],
   "source": []
  },
  {
   "cell_type": "code",
   "execution_count": null,
   "id": "c90197c8",
   "metadata": {},
   "outputs": [],
   "source": []
  },
  {
   "cell_type": "code",
   "execution_count": 97,
   "id": "01968b7a",
   "metadata": {},
   "outputs": [],
   "source": [
    "di = Spark.read.csv(r\"C:\\Users\\tsd95\\CSV Files\\fastfood.csv\",inferSchema=True,header=True)"
   ]
  },
  {
   "cell_type": "code",
   "execution_count": 98,
   "id": "89a4284d",
   "metadata": {},
   "outputs": [
    {
     "name": "stdout",
     "output_type": "stream",
     "text": [
      "+----------+--------------------+--------+-------+---------+-------+---------+-----------+------+----------+-----+-----+-------+-----+-----+-------+-----+\n",
      "|restaurant|                item|calories|cal_fat|total_fat|sat_fat|trans_fat|cholesterol|sodium|total_carb|fiber|sugar|protein|vit_a|vit_c|calcium|salad|\n",
      "+----------+--------------------+--------+-------+---------+-------+---------+-----------+------+----------+-----+-----+-------+-----+-----+-------+-----+\n",
      "| Mcdonalds|Artisan Grilled C...|     380|     60|        7|    2.0|      0.0|         95|  1110|        44|    3|   11|     37|    4|   20|     20|Other|\n",
      "| Mcdonalds|Single Bacon Smok...|     840|    410|       45|   17.0|      1.5|        130|  1580|        62|    2|   18|     46|    6|   20|     20|Other|\n",
      "| Mcdonalds|Double Bacon Smok...|    1130|    600|       67|   27.0|      3.0|        220|  1920|        63|    3|   18|     70|   10|   20|     50|Other|\n",
      "| Mcdonalds|Grilled Bacon Smo...|     750|    280|       31|   10.0|      0.5|        155|  1940|        62|    2|   18|     55|    6|   25|     20|Other|\n",
      "| Mcdonalds|Crispy Bacon Smok...|     920|    410|       45|   12.0|      0.5|        120|  1980|        81|    4|   18|     46|    6|   20|     20|Other|\n",
      "| Mcdonalds|             Big Mac|     540|    250|       28|   10.0|      1.0|         80|   950|        46|    3|    9|     25|   10|    2|     15|Other|\n",
      "| Mcdonalds|        Cheeseburger|     300|    100|       12|    5.0|      0.5|         40|   680|        33|    2|    7|     15|   10|    2|     10|Other|\n",
      "| Mcdonalds|Classic Chicken S...|     510|    210|       24|    4.0|      0.0|         65|  1040|        49|    3|    6|     25|    0|    4|      2|Other|\n",
      "| Mcdonalds| Double Cheeseburger|     430|    190|       21|   11.0|      1.0|         85|  1040|        35|    2|    7|     25|   20|    4|     15|Other|\n",
      "| Mcdonalds|Double Quarter Po...|     770|    400|       45|   21.0|      2.5|        175|  1290|        42|    3|   10|     51|   20|    6|     20|Other|\n",
      "| Mcdonalds|       Filet-O-Fish®|     380|    170|       18|    4.0|      0.0|         40|   640|        38|    2|    5|     15|    2|    0|     15|Other|\n",
      "| Mcdonalds|Garlic White Ched...|     620|    300|       34|   13.0|      1.5|         95|   790|        48|    3|   11|     32|   10|   10|     35|Other|\n",
      "| Mcdonalds|Grilled Garlic Wh...|     530|    180|       20|    7.0|      0.0|        125|  1150|        48|    3|   11|     42|   10|   20|     35|Other|\n",
      "| Mcdonalds|Crispy Garlic Whi...|     700|    300|       34|    9.0|      0.0|         85|  1190|        67|    5|   11|     33|   10|   15|     35|Other|\n",
      "| Mcdonalds|           Hamburger|     250|     70|        8|    3.0|      0.0|         30|   480|        31|    2|    6|     13|    2|    2|      4|Other|\n",
      "| Mcdonalds|        Lobster Roll|     290|     50|        5|    1.5|      0.0|         65|   630|        35|    2|    3|     24|    4|    6|     15|Other|\n",
      "| Mcdonalds|Maple Bacon Dijon...|     640|    330|       36|   14.0|      1.5|        110|  1260|        40|    3|   10|     37|    6|   15|     15|Other|\n",
      "| Mcdonalds|Grilled Maple Bac...|     580|    190|       21|    8.0|      0.0|        135|  1890|        50|    3|   14|     48|    4|   30|     30|Other|\n",
      "| Mcdonalds|Crispy Maple Baco...|     740|    310|       35|    9.0|      0.5|         95|  1780|        69|    5|   14|     39|    4|   20|    290|Other|\n",
      "| Mcdonalds|           McChicken|     350|    130|       15|    3.5|      0.0|         40|   600|        40|    2|    5|     15|    2|    2|      4|Other|\n",
      "+----------+--------------------+--------+-------+---------+-------+---------+-----------+------+----------+-----+-----+-------+-----+-----+-------+-----+\n",
      "only showing top 20 rows\n",
      "\n"
     ]
    }
   ],
   "source": [
    "di.show()"
   ]
  },
  {
   "cell_type": "code",
   "execution_count": 99,
   "id": "2837e41b",
   "metadata": {},
   "outputs": [
    {
     "data": {
      "text/plain": [
       "['restaurant',\n",
       " 'item',\n",
       " 'calories',\n",
       " 'cal_fat',\n",
       " 'total_fat',\n",
       " 'sat_fat',\n",
       " 'trans_fat',\n",
       " 'cholesterol',\n",
       " 'sodium',\n",
       " 'total_carb',\n",
       " 'fiber',\n",
       " 'sugar',\n",
       " 'protein',\n",
       " 'vit_a',\n",
       " 'vit_c',\n",
       " 'calcium',\n",
       " 'salad']"
      ]
     },
     "execution_count": 99,
     "metadata": {},
     "output_type": "execute_result"
    }
   ],
   "source": [
    "di.columns"
   ]
  },
  {
   "cell_type": "code",
   "execution_count": 101,
   "id": "99ac93eb",
   "metadata": {},
   "outputs": [
    {
     "name": "stdout",
     "output_type": "stream",
     "text": [
      "+----------+--------+-------+----------+--------------------+--------+-------+\n",
      "|restaurant|calories|cal_fat|restaurant|                item|calories|cal_fat|\n",
      "+----------+--------+-------+----------+--------------------+--------+-------+\n",
      "| Mcdonalds|     380|     60| Mcdonalds|Artisan Grilled C...|     380|     60|\n",
      "| Mcdonalds|     840|    410| Mcdonalds|Single Bacon Smok...|     840|    410|\n",
      "| Mcdonalds|    1130|    600| Mcdonalds|Double Bacon Smok...|    1130|    600|\n",
      "| Mcdonalds|     750|    280| Mcdonalds|Grilled Bacon Smo...|     750|    280|\n",
      "| Mcdonalds|     920|    410| Mcdonalds|Crispy Bacon Smok...|     920|    410|\n",
      "| Mcdonalds|     540|    250| Mcdonalds|             Big Mac|     540|    250|\n",
      "| Mcdonalds|     300|    100| Mcdonalds|        Cheeseburger|     300|    100|\n",
      "| Mcdonalds|     510|    210| Mcdonalds|Classic Chicken S...|     510|    210|\n",
      "| Mcdonalds|     430|    190| Mcdonalds| Double Cheeseburger|     430|    190|\n",
      "| Mcdonalds|     770|    400| Mcdonalds|Double Quarter Po...|     770|    400|\n",
      "| Mcdonalds|     380|    170| Mcdonalds|       Filet-O-Fish®|     380|    170|\n",
      "| Mcdonalds|     620|    300| Mcdonalds|Garlic White Ched...|     620|    300|\n",
      "| Mcdonalds|     530|    180| Mcdonalds|Grilled Garlic Wh...|     530|    180|\n",
      "| Mcdonalds|     700|    300| Mcdonalds|Crispy Garlic Whi...|     700|    300|\n",
      "| Mcdonalds|     250|     70| Mcdonalds|           Hamburger|     250|     70|\n",
      "| Mcdonalds|     290|     50| Mcdonalds|        Lobster Roll|     290|     50|\n",
      "| Mcdonalds|     640|    330| Mcdonalds|Maple Bacon Dijon...|     640|    330|\n",
      "| Mcdonalds|     580|    190| Mcdonalds|Grilled Maple Bac...|     580|    190|\n",
      "| Mcdonalds|     740|    310| Mcdonalds|Crispy Maple Baco...|     740|    310|\n",
      "| Mcdonalds|     350|    130| Mcdonalds|           McChicken|     350|    130|\n",
      "+----------+--------+-------+----------+--------------------+--------+-------+\n",
      "only showing top 20 rows\n",
      "\n"
     ]
    }
   ],
   "source": [
    "di.select(['restaurant','calories','cal_fat','restaurant','item','calories','cal_fat']).show()"
   ]
  },
  {
   "cell_type": "code",
   "execution_count": 102,
   "id": "e19a9861",
   "metadata": {},
   "outputs": [
    {
     "name": "stdout",
     "output_type": "stream",
     "text": [
      "+-----------+\n",
      "| restaurant|\n",
      "+-----------+\n",
      "|     Subway|\n",
      "|  Taco Bell|\n",
      "|Chick Fil-A|\n",
      "|Burger King|\n",
      "|      Arbys|\n",
      "|Dairy Queen|\n",
      "|  Mcdonalds|\n",
      "|      Sonic|\n",
      "+-----------+\n",
      "\n"
     ]
    }
   ],
   "source": [
    "di.select('restaurant').distinct().show()"
   ]
  },
  {
   "cell_type": "code",
   "execution_count": 88,
   "id": "34c65562",
   "metadata": {},
   "outputs": [
    {
     "name": "stdout",
     "output_type": "stream",
     "text": [
      "+-----------+------+---------+-------------+------+------------------+----------+--------+------+--------+----------+-------------------+-----------+------+-----------------------+------------+------+\n",
      "| Invoice_ID|Branch|     City|Customer_type|Gender|      Product_line|Unit_price|Quantity|Tax_5%|   Total|      Date|               Time|    Payment|  cogs|gross_margin_percentage|gross_income|Rating|\n",
      "+-----------+------+---------+-------------+------+------------------+----------+--------+------+--------+----------+-------------------+-----------+------+-----------------------+------------+------+\n",
      "|692-92-5582|     B| Mandalay|       Member|Female|Food and beverages|     54.84|       3| 8.226| 172.746| 2/20/2019|2023-05-02 13:27:00|Credit card|164.52|            4.761904762|       8.226|   5.9|\n",
      "|252-56-2699|     A|   Yangon|       Normal|  Male|Food and beverages|     43.19|      10|21.595| 453.495|02-07-2019|2023-05-02 16:48:00|    Ewallet| 431.9|            4.761904762|      21.595|   8.2|\n",
      "|329-62-1586|     A|   Yangon|       Normal|  Male|Food and beverages|     54.67|       3|8.2005|172.2105| 1/21/2019|2023-05-02 18:00:00|Credit card|164.01|            4.761904762|      8.2005|   8.6|\n",
      "|145-94-9061|     B| Mandalay|       Normal|Female|Food and beverages|     88.36|       5| 22.09|  463.89| 1/25/2019|2023-05-02 19:48:00|       Cash| 441.8|            4.761904762|       22.09|   9.6|\n",
      "|183-56-6882|     C|Naypyitaw|       Member|Female|Food and beverages|     99.42|       4|19.884| 417.564|02-06-2019|2023-05-02 10:42:00|    Ewallet|397.68|            4.761904762|      19.884|   7.5|\n",
      "+-----------+------+---------+-------------+------+------------------+----------+--------+------+--------+----------+-------------------+-----------+------+-----------------------+------------+------+\n",
      "only showing top 5 rows\n",
      "\n"
     ]
    }
   ],
   "source": [
    "di.filter(\"Product_line=='Food and beverages'\").show(5)"
   ]
  },
  {
   "cell_type": "code",
   "execution_count": 90,
   "id": "6419e9f0",
   "metadata": {},
   "outputs": [
    {
     "name": "stdout",
     "output_type": "stream",
     "text": [
      "+---------+\n",
      "|     City|\n",
      "+---------+\n",
      "|Naypyitaw|\n",
      "| Mandalay|\n",
      "|   Yangon|\n",
      "+---------+\n",
      "\n"
     ]
    }
   ],
   "source": [
    "di.select('City').distinct().show()"
   ]
  },
  {
   "cell_type": "code",
   "execution_count": 96,
   "id": "2f0a7785",
   "metadata": {},
   "outputs": [
    {
     "ename": "AnalysisException",
     "evalue": "Column 'Mandalay' does not exist. Did you mean one of the following? [Gender, Quantity, Total, Branch, City, Date, Payment, Rating, Tax_5%, Time, cogs, Invoice_ID, Product_line, Unit_price, Customer_type, gross_income, gross_margin_percentage]; line 1 pos 5;\n'Filter (City#6274 = 'Mandalay)\n+- Relation [Invoice_ID#6272,Branch#6273,City#6274,Customer_type#6275,Gender#6276,Product_line#6277,Unit_price#6278,Quantity#6279,Tax_5%#6280,Total#6281,Date#6282,Time#6283,Payment#6284,cogs#6285,gross_margin_percentage#6286,gross_income#6287,Rating#6288] csv\n",
     "output_type": "error",
     "traceback": [
      "\u001b[1;31m---------------------------------------------------------------------------\u001b[0m",
      "\u001b[1;31mAnalysisException\u001b[0m                         Traceback (most recent call last)",
      "Cell \u001b[1;32mIn[96], line 1\u001b[0m\n\u001b[1;32m----> 1\u001b[0m \u001b[43mdi\u001b[49m\u001b[38;5;241;43m.\u001b[39;49m\u001b[43mfilter\u001b[49m\u001b[43m(\u001b[49m\u001b[43m(\u001b[49m\u001b[38;5;124;43m'\u001b[39;49m\u001b[38;5;124;43mProduct_line=Food and beverages\u001b[39;49m\u001b[38;5;124;43m'\u001b[39;49m\u001b[43m)\u001b[49m\u001b[43m \u001b[49m\u001b[38;5;129;43;01mand\u001b[39;49;00m\u001b[43m \u001b[49m\u001b[43m(\u001b[49m\u001b[38;5;124;43m'\u001b[39;49m\u001b[38;5;124;43mCity=Mandalay\u001b[39;49m\u001b[38;5;124;43m'\u001b[39;49m\u001b[43m)\u001b[49m\u001b[43m)\u001b[49m\u001b[38;5;241m.\u001b[39mshow()\n",
      "File \u001b[1;32m~\\anaconda3\\lib\\site-packages\\pyspark\\sql\\dataframe.py:1731\u001b[0m, in \u001b[0;36mDataFrame.filter\u001b[1;34m(self, condition)\u001b[0m\n\u001b[0;32m   1706\u001b[0m \u001b[38;5;124;03m\"\"\"Filters rows using the given condition.\u001b[39;00m\n\u001b[0;32m   1707\u001b[0m \n\u001b[0;32m   1708\u001b[0m \u001b[38;5;124;03m:func:`where` is an alias for :func:`filter`.\u001b[39;00m\n\u001b[1;32m   (...)\u001b[0m\n\u001b[0;32m   1728\u001b[0m \u001b[38;5;124;03m[Row(age=2, name='Alice')]\u001b[39;00m\n\u001b[0;32m   1729\u001b[0m \u001b[38;5;124;03m\"\"\"\u001b[39;00m\n\u001b[0;32m   1730\u001b[0m \u001b[38;5;28;01mif\u001b[39;00m \u001b[38;5;28misinstance\u001b[39m(condition, \u001b[38;5;28mstr\u001b[39m):\n\u001b[1;32m-> 1731\u001b[0m     jdf \u001b[38;5;241m=\u001b[39m \u001b[38;5;28;43mself\u001b[39;49m\u001b[38;5;241;43m.\u001b[39;49m\u001b[43m_jdf\u001b[49m\u001b[38;5;241;43m.\u001b[39;49m\u001b[43mfilter\u001b[49m\u001b[43m(\u001b[49m\u001b[43mcondition\u001b[49m\u001b[43m)\u001b[49m\n\u001b[0;32m   1732\u001b[0m \u001b[38;5;28;01melif\u001b[39;00m \u001b[38;5;28misinstance\u001b[39m(condition, Column):\n\u001b[0;32m   1733\u001b[0m     jdf \u001b[38;5;241m=\u001b[39m \u001b[38;5;28mself\u001b[39m\u001b[38;5;241m.\u001b[39m_jdf\u001b[38;5;241m.\u001b[39mfilter(condition\u001b[38;5;241m.\u001b[39m_jc)\n",
      "File \u001b[1;32m~\\anaconda3\\lib\\site-packages\\py4j\\java_gateway.py:1321\u001b[0m, in \u001b[0;36mJavaMember.__call__\u001b[1;34m(self, *args)\u001b[0m\n\u001b[0;32m   1315\u001b[0m command \u001b[38;5;241m=\u001b[39m proto\u001b[38;5;241m.\u001b[39mCALL_COMMAND_NAME \u001b[38;5;241m+\u001b[39m\\\n\u001b[0;32m   1316\u001b[0m     \u001b[38;5;28mself\u001b[39m\u001b[38;5;241m.\u001b[39mcommand_header \u001b[38;5;241m+\u001b[39m\\\n\u001b[0;32m   1317\u001b[0m     args_command \u001b[38;5;241m+\u001b[39m\\\n\u001b[0;32m   1318\u001b[0m     proto\u001b[38;5;241m.\u001b[39mEND_COMMAND_PART\n\u001b[0;32m   1320\u001b[0m answer \u001b[38;5;241m=\u001b[39m \u001b[38;5;28mself\u001b[39m\u001b[38;5;241m.\u001b[39mgateway_client\u001b[38;5;241m.\u001b[39msend_command(command)\n\u001b[1;32m-> 1321\u001b[0m return_value \u001b[38;5;241m=\u001b[39m \u001b[43mget_return_value\u001b[49m\u001b[43m(\u001b[49m\n\u001b[0;32m   1322\u001b[0m \u001b[43m    \u001b[49m\u001b[43manswer\u001b[49m\u001b[43m,\u001b[49m\u001b[43m \u001b[49m\u001b[38;5;28;43mself\u001b[39;49m\u001b[38;5;241;43m.\u001b[39;49m\u001b[43mgateway_client\u001b[49m\u001b[43m,\u001b[49m\u001b[43m \u001b[49m\u001b[38;5;28;43mself\u001b[39;49m\u001b[38;5;241;43m.\u001b[39;49m\u001b[43mtarget_id\u001b[49m\u001b[43m,\u001b[49m\u001b[43m \u001b[49m\u001b[38;5;28;43mself\u001b[39;49m\u001b[38;5;241;43m.\u001b[39;49m\u001b[43mname\u001b[49m\u001b[43m)\u001b[49m\n\u001b[0;32m   1324\u001b[0m \u001b[38;5;28;01mfor\u001b[39;00m temp_arg \u001b[38;5;129;01min\u001b[39;00m temp_args:\n\u001b[0;32m   1325\u001b[0m     temp_arg\u001b[38;5;241m.\u001b[39m_detach()\n",
      "File \u001b[1;32m~\\anaconda3\\lib\\site-packages\\pyspark\\sql\\utils.py:117\u001b[0m, in \u001b[0;36mcapture_sql_exception.<locals>.deco\u001b[1;34m(*a, **kw)\u001b[0m\n\u001b[0;32m    113\u001b[0m converted \u001b[38;5;241m=\u001b[39m convert_exception(e\u001b[38;5;241m.\u001b[39mjava_exception)\n\u001b[0;32m    114\u001b[0m \u001b[38;5;28;01mif\u001b[39;00m \u001b[38;5;129;01mnot\u001b[39;00m \u001b[38;5;28misinstance\u001b[39m(converted, UnknownException):\n\u001b[0;32m    115\u001b[0m     \u001b[38;5;66;03m# Hide where the exception came from that shows a non-Pythonic\u001b[39;00m\n\u001b[0;32m    116\u001b[0m     \u001b[38;5;66;03m# JVM exception message.\u001b[39;00m\n\u001b[1;32m--> 117\u001b[0m     \u001b[38;5;28;01mraise\u001b[39;00m converted \u001b[38;5;28;01mfrom\u001b[39;00m \u001b[38;5;28mNone\u001b[39m\n\u001b[0;32m    118\u001b[0m \u001b[38;5;28;01melse\u001b[39;00m:\n\u001b[0;32m    119\u001b[0m     \u001b[38;5;28;01mraise\u001b[39;00m\n",
      "\u001b[1;31mAnalysisException\u001b[0m: Column 'Mandalay' does not exist. Did you mean one of the following? [Gender, Quantity, Total, Branch, City, Date, Payment, Rating, Tax_5%, Time, cogs, Invoice_ID, Product_line, Unit_price, Customer_type, gross_income, gross_margin_percentage]; line 1 pos 5;\n'Filter (City#6274 = 'Mandalay)\n+- Relation [Invoice_ID#6272,Branch#6273,City#6274,Customer_type#6275,Gender#6276,Product_line#6277,Unit_price#6278,Quantity#6279,Tax_5%#6280,Total#6281,Date#6282,Time#6283,Payment#6284,cogs#6285,gross_margin_percentage#6286,gross_income#6287,Rating#6288] csv\n"
     ]
    }
   ],
   "source": [
    "di.filter(('Product_line=Food and beverages') and ('City=Mandalay')).show()"
   ]
  },
  {
   "cell_type": "code",
   "execution_count": null,
   "id": "4bf673fa",
   "metadata": {},
   "outputs": [],
   "source": []
  },
  {
   "cell_type": "code",
   "execution_count": null,
   "id": "e9b17a2b",
   "metadata": {},
   "outputs": [],
   "source": []
  },
  {
   "cell_type": "code",
   "execution_count": null,
   "id": "1c65042d",
   "metadata": {},
   "outputs": [],
   "source": []
  },
  {
   "cell_type": "code",
   "execution_count": null,
   "id": "4d6c0256",
   "metadata": {},
   "outputs": [],
   "source": []
  },
  {
   "cell_type": "code",
   "execution_count": null,
   "id": "51150a0c",
   "metadata": {},
   "outputs": [],
   "source": []
  },
  {
   "cell_type": "code",
   "execution_count": null,
   "id": "8f702660",
   "metadata": {},
   "outputs": [],
   "source": []
  },
  {
   "cell_type": "code",
   "execution_count": null,
   "id": "3b8be1f3",
   "metadata": {},
   "outputs": [],
   "source": []
  },
  {
   "cell_type": "code",
   "execution_count": null,
   "id": "a54cdb79",
   "metadata": {},
   "outputs": [],
   "source": []
  },
  {
   "cell_type": "code",
   "execution_count": null,
   "id": "ca988632",
   "metadata": {},
   "outputs": [],
   "source": []
  },
  {
   "cell_type": "code",
   "execution_count": null,
   "id": "b28dbd37",
   "metadata": {},
   "outputs": [],
   "source": []
  },
  {
   "cell_type": "code",
   "execution_count": null,
   "id": "2411d3c7",
   "metadata": {},
   "outputs": [],
   "source": []
  },
  {
   "cell_type": "code",
   "execution_count": null,
   "id": "b40449cd",
   "metadata": {},
   "outputs": [],
   "source": []
  },
  {
   "cell_type": "code",
   "execution_count": null,
   "id": "2291b430",
   "metadata": {},
   "outputs": [],
   "source": []
  },
  {
   "cell_type": "code",
   "execution_count": null,
   "id": "6919c327",
   "metadata": {},
   "outputs": [],
   "source": []
  },
  {
   "cell_type": "code",
   "execution_count": null,
   "id": "1b873c94",
   "metadata": {},
   "outputs": [],
   "source": []
  },
  {
   "cell_type": "code",
   "execution_count": null,
   "id": "3aa6f178",
   "metadata": {},
   "outputs": [],
   "source": []
  },
  {
   "cell_type": "code",
   "execution_count": null,
   "id": "8ebd6bf5",
   "metadata": {},
   "outputs": [],
   "source": []
  },
  {
   "cell_type": "code",
   "execution_count": null,
   "id": "4792d2a8",
   "metadata": {},
   "outputs": [],
   "source": []
  },
  {
   "cell_type": "code",
   "execution_count": null,
   "id": "1d906fdd",
   "metadata": {},
   "outputs": [],
   "source": []
  },
  {
   "cell_type": "code",
   "execution_count": null,
   "id": "ed784ad6",
   "metadata": {},
   "outputs": [],
   "source": []
  },
  {
   "cell_type": "code",
   "execution_count": null,
   "id": "5ab4574b",
   "metadata": {},
   "outputs": [],
   "source": []
  },
  {
   "cell_type": "code",
   "execution_count": null,
   "id": "505181ea",
   "metadata": {},
   "outputs": [],
   "source": []
  },
  {
   "cell_type": "code",
   "execution_count": null,
   "id": "4f2c1910",
   "metadata": {},
   "outputs": [],
   "source": []
  },
  {
   "cell_type": "code",
   "execution_count": null,
   "id": "57732206",
   "metadata": {},
   "outputs": [],
   "source": []
  },
  {
   "cell_type": "code",
   "execution_count": null,
   "id": "0f8e004f",
   "metadata": {},
   "outputs": [],
   "source": []
  },
  {
   "cell_type": "code",
   "execution_count": null,
   "id": "da0978c1",
   "metadata": {},
   "outputs": [],
   "source": []
  },
  {
   "cell_type": "code",
   "execution_count": null,
   "id": "f384ea2a",
   "metadata": {},
   "outputs": [],
   "source": []
  },
  {
   "cell_type": "code",
   "execution_count": null,
   "id": "e36c4a36",
   "metadata": {},
   "outputs": [],
   "source": []
  },
  {
   "cell_type": "code",
   "execution_count": null,
   "id": "28fcd8c4",
   "metadata": {},
   "outputs": [],
   "source": []
  },
  {
   "cell_type": "code",
   "execution_count": null,
   "id": "15a31aad",
   "metadata": {},
   "outputs": [],
   "source": []
  },
  {
   "cell_type": "code",
   "execution_count": null,
   "id": "e4d4b614",
   "metadata": {},
   "outputs": [],
   "source": []
  },
  {
   "cell_type": "code",
   "execution_count": null,
   "id": "3d543b43",
   "metadata": {},
   "outputs": [],
   "source": []
  },
  {
   "cell_type": "code",
   "execution_count": null,
   "id": "4b224e7e",
   "metadata": {},
   "outputs": [],
   "source": []
  },
  {
   "cell_type": "code",
   "execution_count": null,
   "id": "5c12037a",
   "metadata": {},
   "outputs": [],
   "source": []
  },
  {
   "cell_type": "code",
   "execution_count": null,
   "id": "96374366",
   "metadata": {},
   "outputs": [],
   "source": []
  },
  {
   "cell_type": "code",
   "execution_count": null,
   "id": "6bd6047b",
   "metadata": {},
   "outputs": [],
   "source": []
  },
  {
   "cell_type": "code",
   "execution_count": null,
   "id": "03aad697",
   "metadata": {},
   "outputs": [],
   "source": []
  },
  {
   "cell_type": "code",
   "execution_count": null,
   "id": "cfbcb8b5",
   "metadata": {},
   "outputs": [],
   "source": []
  },
  {
   "cell_type": "code",
   "execution_count": null,
   "id": "8cb777e7",
   "metadata": {},
   "outputs": [],
   "source": []
  },
  {
   "cell_type": "code",
   "execution_count": null,
   "id": "5c911608",
   "metadata": {},
   "outputs": [],
   "source": []
  },
  {
   "cell_type": "code",
   "execution_count": null,
   "id": "c70ce12b",
   "metadata": {},
   "outputs": [],
   "source": []
  },
  {
   "cell_type": "code",
   "execution_count": null,
   "id": "be87e2ba",
   "metadata": {},
   "outputs": [],
   "source": []
  },
  {
   "cell_type": "code",
   "execution_count": null,
   "id": "ada1a016",
   "metadata": {},
   "outputs": [],
   "source": []
  },
  {
   "cell_type": "code",
   "execution_count": null,
   "id": "0d4136e2",
   "metadata": {},
   "outputs": [],
   "source": []
  },
  {
   "cell_type": "code",
   "execution_count": null,
   "id": "ba86bad9",
   "metadata": {},
   "outputs": [],
   "source": []
  },
  {
   "cell_type": "code",
   "execution_count": null,
   "id": "4627e461",
   "metadata": {},
   "outputs": [],
   "source": []
  },
  {
   "cell_type": "code",
   "execution_count": null,
   "id": "9ed03141",
   "metadata": {},
   "outputs": [],
   "source": []
  },
  {
   "cell_type": "code",
   "execution_count": null,
   "id": "cf2afcc5",
   "metadata": {},
   "outputs": [],
   "source": []
  },
  {
   "cell_type": "code",
   "execution_count": null,
   "id": "7e9a169a",
   "metadata": {},
   "outputs": [],
   "source": []
  },
  {
   "cell_type": "code",
   "execution_count": null,
   "id": "244432dc",
   "metadata": {},
   "outputs": [],
   "source": []
  },
  {
   "cell_type": "code",
   "execution_count": null,
   "id": "b7289e76",
   "metadata": {},
   "outputs": [],
   "source": []
  },
  {
   "cell_type": "code",
   "execution_count": null,
   "id": "a6bed63f",
   "metadata": {},
   "outputs": [],
   "source": []
  },
  {
   "cell_type": "code",
   "execution_count": null,
   "id": "031436c8",
   "metadata": {},
   "outputs": [],
   "source": []
  },
  {
   "cell_type": "code",
   "execution_count": null,
   "id": "6829385a",
   "metadata": {},
   "outputs": [],
   "source": []
  },
  {
   "cell_type": "code",
   "execution_count": null,
   "id": "a71dff4d",
   "metadata": {},
   "outputs": [],
   "source": []
  },
  {
   "cell_type": "code",
   "execution_count": null,
   "id": "c4a08aa4",
   "metadata": {},
   "outputs": [],
   "source": []
  },
  {
   "cell_type": "code",
   "execution_count": null,
   "id": "2ab22ba9",
   "metadata": {},
   "outputs": [],
   "source": []
  },
  {
   "cell_type": "code",
   "execution_count": null,
   "id": "b26f88b3",
   "metadata": {},
   "outputs": [],
   "source": [
    "\n"
   ]
  }
 ],
 "metadata": {
  "kernelspec": {
   "display_name": "Python 3 (ipykernel)",
   "language": "python",
   "name": "python3"
  },
  "language_info": {
   "codemirror_mode": {
    "name": "ipython",
    "version": 3
   },
   "file_extension": ".py",
   "mimetype": "text/x-python",
   "name": "python",
   "nbconvert_exporter": "python",
   "pygments_lexer": "ipython3",
   "version": "3.10.9"
  }
 },
 "nbformat": 4,
 "nbformat_minor": 5
}
