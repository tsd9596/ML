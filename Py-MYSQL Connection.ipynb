{
 "cells": [
  {
   "cell_type": "code",
   "execution_count": 1,
   "id": "ddd57eea",
   "metadata": {},
   "outputs": [],
   "source": [
    "import mysql.connector"
   ]
  },
  {
   "cell_type": "code",
   "execution_count": 4,
   "id": "f4283fa5",
   "metadata": {},
   "outputs": [
    {
     "data": {
      "text/plain": [
       "True"
      ]
     },
     "execution_count": 4,
     "metadata": {},
     "output_type": "execute_result"
    }
   ],
   "source": [
    "conn = mysql.connector.connect(user='root',password='root',database='PracPyDB',host='localhost',port=3306)\n",
    "cur = conn.cursor()\n",
    "cur.execute(\"CREATE TABLE PRACPYTB(BID INT PRIMARY KEY,B_NAME VARCHAR(25)NOT NULL,B_CITY VARCHAR(25) DEFAULT 'PUNE' )\")\n",
    "cur.close()"
   ]
  },
  {
   "cell_type": "code",
   "execution_count": 5,
   "id": "8b828d2d",
   "metadata": {},
   "outputs": [
    {
     "data": {
      "text/plain": [
       "True"
      ]
     },
     "execution_count": 5,
     "metadata": {},
     "output_type": "execute_result"
    }
   ],
   "source": [
    "#insertion\n",
    "conn = mysql.connector.connect(user='root',password='root',database='PracPyDB',host='localhost',port=3306)\n",
    "cur = conn.cursor()\n",
    "cur.execute(\"INSERT INTO PRACPYTB VALUES(1,'Anjali','Lucknow')\")\n",
    "conn.commit()\n",
    "cur.close()"
   ]
  },
  {
   "cell_type": "code",
   "execution_count": 6,
   "id": "5e0a63ae",
   "metadata": {},
   "outputs": [],
   "source": [
    "conn = mysql.connector.connect(user='root',password='root',database='PracPyDB',host='localhost',port=3306)\n",
    "cur = conn.cursor()\n",
    "cur.execute(\"INSERT INTO PRACPYTB (BID,B_NAME,B_CITY) VALUES(2,'Prashant','Lucknow')\")\n",
    "cur.execute(\"INSERT INTO PRACPYTB (BID,B_NAME) VALUES(3,'Akash')\")\n",
    "cur.execute(\"INSERT INTO PRACPYTB (BID,B_NAME,B_CITY) VALUES(4,'Hardhik','Lucknow')\")\n",
    "cur.execute(\"INSERT INTO PRACPYTB (BID,B_NAME) VALUES(5,'Yash')\")\n",
    "conn.commit()\n",
    "conn.close()"
   ]
  },
  {
   "cell_type": "code",
   "execution_count": 11,
   "id": "064a6674",
   "metadata": {},
   "outputs": [
    {
     "name": "stdout",
     "output_type": "stream",
     "text": [
      "[(1, 'Anjali', 'Lucknow'), (2, 'Prashant', 'Lucknow'), (3, 'Akash', 'PUNE'), (4, 'Hardhik', 'Lucknow'), (5, 'Yash', 'PUNE')]\n"
     ]
    }
   ],
   "source": [
    "#accessing\n",
    "conn = mysql.connector.connect(user='root',password='root',database='PracPyDB',host='localhost',port=3306)\n",
    "cur = conn.cursor()\n",
    "cur.execute(\"select * from PRACPYTB\")\n",
    "data = cur.fetchall()\n",
    "print(data)"
   ]
  },
  {
   "cell_type": "code",
   "execution_count": 12,
   "id": "e1196782",
   "metadata": {},
   "outputs": [],
   "source": [
    "conn = mysql.connector.connect(user='root',password='root',database='PracPyDB',host='localhost',port=3306)\n",
    "cur = conn.cursor()\n",
    "cur.execute(\"delete from PRACPYTB where BID=2\")\n",
    "conn.commit()\n",
    "conn.close()"
   ]
  },
  {
   "cell_type": "code",
   "execution_count": null,
   "id": "2c6813e0",
   "metadata": {},
   "outputs": [],
   "source": []
  },
  {
   "cell_type": "code",
   "execution_count": null,
   "id": "04b5eb7a",
   "metadata": {},
   "outputs": [],
   "source": []
  },
  {
   "cell_type": "code",
   "execution_count": null,
   "id": "0006a52b",
   "metadata": {},
   "outputs": [],
   "source": []
  },
  {
   "cell_type": "code",
   "execution_count": null,
   "id": "b2f2c3f5",
   "metadata": {},
   "outputs": [],
   "source": []
  },
  {
   "cell_type": "code",
   "execution_count": null,
   "id": "5d409bcb",
   "metadata": {},
   "outputs": [],
   "source": []
  },
  {
   "cell_type": "code",
   "execution_count": null,
   "id": "fc753383",
   "metadata": {},
   "outputs": [],
   "source": []
  },
  {
   "cell_type": "code",
   "execution_count": null,
   "id": "b47b6706",
   "metadata": {},
   "outputs": [],
   "source": []
  },
  {
   "cell_type": "code",
   "execution_count": null,
   "id": "9405597f",
   "metadata": {},
   "outputs": [],
   "source": []
  },
  {
   "cell_type": "code",
   "execution_count": null,
   "id": "72b2f829",
   "metadata": {},
   "outputs": [],
   "source": []
  },
  {
   "cell_type": "code",
   "execution_count": null,
   "id": "4015f099",
   "metadata": {},
   "outputs": [],
   "source": []
  },
  {
   "cell_type": "code",
   "execution_count": null,
   "id": "673bfa83",
   "metadata": {},
   "outputs": [],
   "source": []
  },
  {
   "cell_type": "code",
   "execution_count": null,
   "id": "73df0b01",
   "metadata": {},
   "outputs": [],
   "source": []
  },
  {
   "cell_type": "code",
   "execution_count": null,
   "id": "92096883",
   "metadata": {},
   "outputs": [],
   "source": []
  }
 ],
 "metadata": {
  "kernelspec": {
   "display_name": "Python 3 (ipykernel)",
   "language": "python",
   "name": "python3"
  },
  "language_info": {
   "codemirror_mode": {
    "name": "ipython",
    "version": 3
   },
   "file_extension": ".py",
   "mimetype": "text/x-python",
   "name": "python",
   "nbconvert_exporter": "python",
   "pygments_lexer": "ipython3",
   "version": "3.10.9"
  }
 },
 "nbformat": 4,
 "nbformat_minor": 5
}
