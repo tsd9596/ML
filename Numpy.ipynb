{
 "cells": [
  {
   "cell_type": "markdown",
   "id": "49344f8d",
   "metadata": {},
   "source": [
    "### Numpy - Numerical Python"
   ]
  },
  {
   "cell_type": "markdown",
   "id": "764de1ee",
   "metadata": {},
   "source": [
    "- Used for working with array\n",
    "- Used for Numerical Cal and Complex Cal"
   ]
  },
  {
   "cell_type": "code",
   "execution_count": null,
   "id": "52361069",
   "metadata": {},
   "outputs": [],
   "source": [
    "### Why Numply is faster than Py data structure??"
   ]
  },
  {
   "cell_type": "markdown",
   "id": "de7f1c9c",
   "metadata": {},
   "source": [
    "- Numpy is built upon C and C Language is hardware friendly language.\n",
    "- An array is collection of homogeous data types that are stored in continous memory location. But Python data structure is collection of hectrogenous data types and it stored in non-continoues memory location."
   ]
  },
  {
   "cell_type": "markdown",
   "id": "4fd83c03",
   "metadata": {},
   "source": [
    "### Numpy Used in "
   ]
  },
  {
   "cell_type": "markdown",
   "id": "3f8825cb",
   "metadata": {},
   "source": [
    "- Linear Algebra\n",
    "- Statistics\n",
    "- Image Processing\n",
    "- Matrix\n"
   ]
  },
  {
   "cell_type": "markdown",
   "id": "e91152a7",
   "metadata": {},
   "source": [
    "- NumPy is a Python library used for working with arrays.\n",
    "- It also has functions for working in domain of linear algebra, fourier transform, and matrices."
   ]
  },
  {
   "cell_type": "code",
   "execution_count": 1,
   "id": "856e2d58",
   "metadata": {},
   "outputs": [],
   "source": [
    "import numpy as np"
   ]
  },
  {
   "cell_type": "code",
   "execution_count": 2,
   "id": "e1a1da29",
   "metadata": {},
   "outputs": [
    {
     "data": {
      "text/plain": [
       "'1.23.5'"
      ]
     },
     "execution_count": 2,
     "metadata": {},
     "output_type": "execute_result"
    }
   ],
   "source": [
    "np.__version__"
   ]
  },
  {
   "cell_type": "code",
   "execution_count": 3,
   "id": "d62e6dec",
   "metadata": {},
   "outputs": [],
   "source": [
    "n1 = np.array([66,49,46,16,98,46,64,94])"
   ]
  },
  {
   "cell_type": "code",
   "execution_count": 4,
   "id": "2a1e53d5",
   "metadata": {},
   "outputs": [
    {
     "data": {
      "text/plain": [
       "array([66, 49, 46, 16, 98, 46, 64, 94])"
      ]
     },
     "execution_count": 4,
     "metadata": {},
     "output_type": "execute_result"
    }
   ],
   "source": [
    "n1"
   ]
  },
  {
   "cell_type": "code",
   "execution_count": 5,
   "id": "9b74abda",
   "metadata": {},
   "outputs": [
    {
     "data": {
      "text/plain": [
       "numpy.ndarray"
      ]
     },
     "execution_count": 5,
     "metadata": {},
     "output_type": "execute_result"
    }
   ],
   "source": [
    "type(n1)"
   ]
  },
  {
   "cell_type": "code",
   "execution_count": 6,
   "id": "7df3e73b",
   "metadata": {},
   "outputs": [],
   "source": [
    "n1 = np.array([66,49,46,16,98,46,64,94],dtype='int64')"
   ]
  },
  {
   "cell_type": "code",
   "execution_count": 7,
   "id": "3da25003",
   "metadata": {},
   "outputs": [
    {
     "data": {
      "text/plain": [
       "array([66, 49, 46, 16, 98, 46, 64, 94], dtype=int64)"
      ]
     },
     "execution_count": 7,
     "metadata": {},
     "output_type": "execute_result"
    }
   ],
   "source": [
    "n1"
   ]
  },
  {
   "cell_type": "code",
   "execution_count": 8,
   "id": "9f5f2fca",
   "metadata": {},
   "outputs": [],
   "source": [
    "n1 = np.array([66,49,46,16,98,46,64,94],dtype='complex')"
   ]
  },
  {
   "cell_type": "code",
   "execution_count": 9,
   "id": "2b9e4144",
   "metadata": {},
   "outputs": [
    {
     "data": {
      "text/plain": [
       "array([66.+0.j, 49.+0.j, 46.+0.j, 16.+0.j, 98.+0.j, 46.+0.j, 64.+0.j,\n",
       "       94.+0.j])"
      ]
     },
     "execution_count": 9,
     "metadata": {},
     "output_type": "execute_result"
    }
   ],
   "source": [
    "n1"
   ]
  },
  {
   "cell_type": "code",
   "execution_count": 10,
   "id": "f6278f96",
   "metadata": {},
   "outputs": [
    {
     "data": {
      "text/plain": [
       "array([33. +0.j, 24.5+0.j, 23. +0.j,  8. +0.j, 49. +0.j, 23. +0.j,\n",
       "       32. +0.j, 47. +0.j])"
      ]
     },
     "execution_count": 10,
     "metadata": {},
     "output_type": "execute_result"
    }
   ],
   "source": [
    "n1/2"
   ]
  },
  {
   "cell_type": "code",
   "execution_count": 11,
   "id": "473cf58c",
   "metadata": {},
   "outputs": [],
   "source": [
    "n1 = np.array([66,49,46,16,98,46,64,94],dtype='int64')"
   ]
  },
  {
   "cell_type": "code",
   "execution_count": 12,
   "id": "b6bb8c7a",
   "metadata": {},
   "outputs": [
    {
     "data": {
      "text/plain": [
       "array([66, 49, 46, 16, 98, 46, 64, 94], dtype=int64)"
      ]
     },
     "execution_count": 12,
     "metadata": {},
     "output_type": "execute_result"
    }
   ],
   "source": [
    "n1"
   ]
  },
  {
   "cell_type": "code",
   "execution_count": 13,
   "id": "4c642584",
   "metadata": {},
   "outputs": [
    {
     "data": {
      "text/plain": [
       "array([132,  98,  92,  32, 196,  92, 128, 188], dtype=int64)"
      ]
     },
     "execution_count": 13,
     "metadata": {},
     "output_type": "execute_result"
    }
   ],
   "source": [
    "n1*2"
   ]
  },
  {
   "cell_type": "code",
   "execution_count": 14,
   "id": "5ce0082f",
   "metadata": {},
   "outputs": [
    {
     "data": {
      "text/plain": [
       "59.875"
      ]
     },
     "execution_count": 14,
     "metadata": {},
     "output_type": "execute_result"
    }
   ],
   "source": [
    "n1.mean()"
   ]
  },
  {
   "cell_type": "code",
   "execution_count": 15,
   "id": "82011340",
   "metadata": {},
   "outputs": [
    {
     "data": {
      "text/plain": [
       "64"
      ]
     },
     "execution_count": 15,
     "metadata": {},
     "output_type": "execute_result"
    }
   ],
   "source": [
    "n1.itemsize*len(n1)"
   ]
  },
  {
   "cell_type": "code",
   "execution_count": 16,
   "id": "bd9444e6",
   "metadata": {},
   "outputs": [],
   "source": [
    "l1 = [66,49,46,16,98,46,64,94]"
   ]
  },
  {
   "cell_type": "code",
   "execution_count": 17,
   "id": "e92b63f1",
   "metadata": {},
   "outputs": [],
   "source": [
    "import sys"
   ]
  },
  {
   "cell_type": "code",
   "execution_count": 18,
   "id": "c5e457b3",
   "metadata": {},
   "outputs": [
    {
     "data": {
      "text/plain": [
       "224"
      ]
     },
     "execution_count": 18,
     "metadata": {},
     "output_type": "execute_result"
    }
   ],
   "source": [
    "sys.getsizeof(98)*len(l1)"
   ]
  },
  {
   "cell_type": "markdown",
   "id": "8ec3e9cf",
   "metadata": {},
   "source": [
    "- Numpy takes less memory than List and Tuple."
   ]
  },
  {
   "cell_type": "code",
   "execution_count": 19,
   "id": "cc458502",
   "metadata": {},
   "outputs": [
    {
     "data": {
      "text/plain": [
       "1"
      ]
     },
     "execution_count": 19,
     "metadata": {},
     "output_type": "execute_result"
    }
   ],
   "source": [
    "n1.ndim    #1D"
   ]
  },
  {
   "cell_type": "code",
   "execution_count": 20,
   "id": "c95df966",
   "metadata": {},
   "outputs": [],
   "source": [
    "n2 = np.array([[10,15,17],[52,41,85]])"
   ]
  },
  {
   "cell_type": "code",
   "execution_count": 21,
   "id": "d0b92d65",
   "metadata": {},
   "outputs": [
    {
     "data": {
      "text/plain": [
       "array([[10, 15, 17],\n",
       "       [52, 41, 85]])"
      ]
     },
     "execution_count": 21,
     "metadata": {},
     "output_type": "execute_result"
    }
   ],
   "source": [
    "n2"
   ]
  },
  {
   "cell_type": "code",
   "execution_count": 22,
   "id": "05fbd941",
   "metadata": {},
   "outputs": [
    {
     "data": {
      "text/plain": [
       "2"
      ]
     },
     "execution_count": 22,
     "metadata": {},
     "output_type": "execute_result"
    }
   ],
   "source": [
    "n2.ndim"
   ]
  },
  {
   "cell_type": "code",
   "execution_count": 23,
   "id": "bd3d3890",
   "metadata": {},
   "outputs": [],
   "source": [
    "n3 = np.array([['Name','Prashant'],['Gender','Male'],['Sal',48750]])"
   ]
  },
  {
   "cell_type": "code",
   "execution_count": 24,
   "id": "a46a470f",
   "metadata": {},
   "outputs": [
    {
     "data": {
      "text/plain": [
       "array([['Name', 'Prashant'],\n",
       "       ['Gender', 'Male'],\n",
       "       ['Sal', '48750']], dtype='<U11')"
      ]
     },
     "execution_count": 24,
     "metadata": {},
     "output_type": "execute_result"
    }
   ],
   "source": [
    "n3"
   ]
  },
  {
   "cell_type": "code",
   "execution_count": 25,
   "id": "2d7cff45",
   "metadata": {},
   "outputs": [
    {
     "data": {
      "text/plain": [
       "(3, 2)"
      ]
     },
     "execution_count": 25,
     "metadata": {},
     "output_type": "execute_result"
    }
   ],
   "source": [
    "n3.shape #(r,c)"
   ]
  },
  {
   "cell_type": "code",
   "execution_count": 26,
   "id": "34516894",
   "metadata": {},
   "outputs": [
    {
     "data": {
      "text/plain": [
       "'Prashant'"
      ]
     },
     "execution_count": 26,
     "metadata": {},
     "output_type": "execute_result"
    }
   ],
   "source": [
    "n3[0][1]"
   ]
  },
  {
   "cell_type": "code",
   "execution_count": 27,
   "id": "81c14a7a",
   "metadata": {},
   "outputs": [],
   "source": [
    "n4 = np.array([[[56,65,40,65],[66,35,56,65]],[[64,66,46,46],[64,94,93,44]]])"
   ]
  },
  {
   "cell_type": "code",
   "execution_count": 28,
   "id": "9388f564",
   "metadata": {},
   "outputs": [
    {
     "data": {
      "text/plain": [
       "3"
      ]
     },
     "execution_count": 28,
     "metadata": {},
     "output_type": "execute_result"
    }
   ],
   "source": [
    "n4.ndim"
   ]
  },
  {
   "cell_type": "code",
   "execution_count": 29,
   "id": "6b9ca324",
   "metadata": {},
   "outputs": [
    {
     "data": {
      "text/plain": [
       "array([[[56, 65, 40, 65],\n",
       "        [66, 35, 56, 65]],\n",
       "\n",
       "       [[64, 66, 46, 46],\n",
       "        [64, 94, 93, 44]]])"
      ]
     },
     "execution_count": 29,
     "metadata": {},
     "output_type": "execute_result"
    }
   ],
   "source": [
    "n4"
   ]
  },
  {
   "cell_type": "code",
   "execution_count": 30,
   "id": "2eb8eaae",
   "metadata": {},
   "outputs": [
    {
     "data": {
      "text/plain": [
       "46"
      ]
     },
     "execution_count": 30,
     "metadata": {},
     "output_type": "execute_result"
    }
   ],
   "source": [
    "n4[1][0][3]"
   ]
  },
  {
   "cell_type": "code",
   "execution_count": 31,
   "id": "9ed36c36",
   "metadata": {},
   "outputs": [
    {
     "data": {
      "text/plain": [
       "44"
      ]
     },
     "execution_count": 31,
     "metadata": {},
     "output_type": "execute_result"
    }
   ],
   "source": [
    "n4[1][1][3]"
   ]
  },
  {
   "cell_type": "code",
   "execution_count": 32,
   "id": "dec90230",
   "metadata": {},
   "outputs": [
    {
     "data": {
      "text/plain": [
       "65"
      ]
     },
     "execution_count": 32,
     "metadata": {},
     "output_type": "execute_result"
    }
   ],
   "source": [
    "n4[0][0][3]"
   ]
  },
  {
   "cell_type": "code",
   "execution_count": 33,
   "id": "f25b4e2c",
   "metadata": {},
   "outputs": [
    {
     "data": {
      "text/plain": [
       "66"
      ]
     },
     "execution_count": 33,
     "metadata": {},
     "output_type": "execute_result"
    }
   ],
   "source": [
    "n4[1][0][1]"
   ]
  },
  {
   "cell_type": "code",
   "execution_count": 34,
   "id": "4bebb877",
   "metadata": {},
   "outputs": [],
   "source": [
    "n0 = np.array([[['Suyash','Neel','Nikhil'],['Mayank','Varun','Harish']],\n",
    "               [[45,50,80,],[45,50,60]]])"
   ]
  },
  {
   "cell_type": "code",
   "execution_count": 35,
   "id": "e3935e00",
   "metadata": {},
   "outputs": [
    {
     "data": {
      "text/plain": [
       "array([[['Suyash', 'Neel', 'Nikhil'],\n",
       "        ['Mayank', 'Varun', 'Harish']],\n",
       "\n",
       "       [['45', '50', '80'],\n",
       "        ['45', '50', '60']]], dtype='<U11')"
      ]
     },
     "execution_count": 35,
     "metadata": {},
     "output_type": "execute_result"
    }
   ],
   "source": [
    "n0"
   ]
  },
  {
   "cell_type": "code",
   "execution_count": 36,
   "id": "c2afdcf1",
   "metadata": {},
   "outputs": [
    {
     "data": {
      "text/plain": [
       "3"
      ]
     },
     "execution_count": 36,
     "metadata": {},
     "output_type": "execute_result"
    }
   ],
   "source": [
    "n0.ndim"
   ]
  },
  {
   "cell_type": "code",
   "execution_count": 37,
   "id": "c99af0fb",
   "metadata": {},
   "outputs": [
    {
     "data": {
      "text/plain": [
       "'Nikhil'"
      ]
     },
     "execution_count": 37,
     "metadata": {},
     "output_type": "execute_result"
    }
   ],
   "source": [
    "n0[0][0][2]"
   ]
  },
  {
   "cell_type": "code",
   "execution_count": 38,
   "id": "1d009ff1",
   "metadata": {},
   "outputs": [
    {
     "data": {
      "text/plain": [
       "(2, 2, 3)"
      ]
     },
     "execution_count": 38,
     "metadata": {},
     "output_type": "execute_result"
    }
   ],
   "source": [
    "n0.shape   #(z,r,c)"
   ]
  },
  {
   "cell_type": "code",
   "execution_count": 39,
   "id": "f0e0c837",
   "metadata": {},
   "outputs": [
    {
     "data": {
      "text/plain": [
       "array([[10, 15, 17],\n",
       "       [52, 41, 85]])"
      ]
     },
     "execution_count": 39,
     "metadata": {},
     "output_type": "execute_result"
    }
   ],
   "source": [
    "n2"
   ]
  },
  {
   "cell_type": "code",
   "execution_count": 40,
   "id": "560d0b79",
   "metadata": {},
   "outputs": [
    {
     "data": {
      "text/plain": [
       "array([[10, 15],\n",
       "       [17, 52],\n",
       "       [41, 85]])"
      ]
     },
     "execution_count": 40,
     "metadata": {},
     "output_type": "execute_result"
    }
   ],
   "source": [
    "n2.reshape(3,2)"
   ]
  },
  {
   "cell_type": "code",
   "execution_count": 41,
   "id": "91949100",
   "metadata": {},
   "outputs": [
    {
     "data": {
      "text/plain": [
       "array([['Name', 'Prashant', 'Gender'],\n",
       "       ['Male', 'Sal', '48750']], dtype='<U11')"
      ]
     },
     "execution_count": 41,
     "metadata": {},
     "output_type": "execute_result"
    }
   ],
   "source": [
    "n3.reshape(2,3)"
   ]
  },
  {
   "cell_type": "code",
   "execution_count": 42,
   "id": "d7e3fe24",
   "metadata": {},
   "outputs": [
    {
     "data": {
      "text/plain": [
       "array([0., 0., 0., 0., 0., 0., 0., 0.])"
      ]
     },
     "execution_count": 42,
     "metadata": {},
     "output_type": "execute_result"
    }
   ],
   "source": [
    "np.zeros(8)"
   ]
  },
  {
   "cell_type": "code",
   "execution_count": 43,
   "id": "1835c41c",
   "metadata": {},
   "outputs": [
    {
     "data": {
      "text/plain": [
       "array([[0., 0., 0., 0., 0., 0., 0., 0., 0., 0., 0., 0.],\n",
       "       [0., 0., 0., 0., 0., 0., 0., 0., 0., 0., 0., 0.],\n",
       "       [0., 0., 0., 0., 0., 0., 0., 0., 0., 0., 0., 0.],\n",
       "       [0., 0., 0., 0., 0., 0., 0., 0., 0., 0., 0., 0.],\n",
       "       [0., 0., 0., 0., 0., 0., 0., 0., 0., 0., 0., 0.],\n",
       "       [0., 0., 0., 0., 0., 0., 0., 0., 0., 0., 0., 0.],\n",
       "       [0., 0., 0., 0., 0., 0., 0., 0., 0., 0., 0., 0.],\n",
       "       [0., 0., 0., 0., 0., 0., 0., 0., 0., 0., 0., 0.],\n",
       "       [0., 0., 0., 0., 0., 0., 0., 0., 0., 0., 0., 0.],\n",
       "       [0., 0., 0., 0., 0., 0., 0., 0., 0., 0., 0., 0.]])"
      ]
     },
     "execution_count": 43,
     "metadata": {},
     "output_type": "execute_result"
    }
   ],
   "source": [
    "np.zeros([10,12])"
   ]
  },
  {
   "cell_type": "code",
   "execution_count": 44,
   "id": "dd7f62df",
   "metadata": {},
   "outputs": [
    {
     "data": {
      "text/plain": [
       "array([1., 1., 1., 1., 1., 1., 1., 1., 1., 1.])"
      ]
     },
     "execution_count": 44,
     "metadata": {},
     "output_type": "execute_result"
    }
   ],
   "source": [
    "np.ones(10)"
   ]
  },
  {
   "cell_type": "code",
   "execution_count": 45,
   "id": "cd551d0d",
   "metadata": {},
   "outputs": [
    {
     "data": {
      "text/plain": [
       "array([[1., 1., 1., 1., 1., 1., 1., 1., 1., 1., 1., 1.],\n",
       "       [1., 1., 1., 1., 1., 1., 1., 1., 1., 1., 1., 1.],\n",
       "       [1., 1., 1., 1., 1., 1., 1., 1., 1., 1., 1., 1.],\n",
       "       [1., 1., 1., 1., 1., 1., 1., 1., 1., 1., 1., 1.],\n",
       "       [1., 1., 1., 1., 1., 1., 1., 1., 1., 1., 1., 1.],\n",
       "       [1., 1., 1., 1., 1., 1., 1., 1., 1., 1., 1., 1.],\n",
       "       [1., 1., 1., 1., 1., 1., 1., 1., 1., 1., 1., 1.],\n",
       "       [1., 1., 1., 1., 1., 1., 1., 1., 1., 1., 1., 1.],\n",
       "       [1., 1., 1., 1., 1., 1., 1., 1., 1., 1., 1., 1.],\n",
       "       [1., 1., 1., 1., 1., 1., 1., 1., 1., 1., 1., 1.]])"
      ]
     },
     "execution_count": 45,
     "metadata": {},
     "output_type": "execute_result"
    }
   ],
   "source": [
    "np.ones([10,12])"
   ]
  },
  {
   "cell_type": "code",
   "execution_count": 46,
   "id": "9080400b",
   "metadata": {},
   "outputs": [
    {
     "data": {
      "text/plain": [
       "array([[[1., 1., 1., 1., 1., 1.],\n",
       "        [1., 1., 1., 1., 1., 1.]],\n",
       "\n",
       "       [[1., 1., 1., 1., 1., 1.],\n",
       "        [1., 1., 1., 1., 1., 1.]]])"
      ]
     },
     "execution_count": 46,
     "metadata": {},
     "output_type": "execute_result"
    }
   ],
   "source": [
    "np.ones([2,2,6])"
   ]
  },
  {
   "cell_type": "code",
   "execution_count": 47,
   "id": "293c3871",
   "metadata": {},
   "outputs": [
    {
     "data": {
      "text/plain": [
       "array([[[0., 0., 0., 0., 0., 0., 0., 0., 0., 0.],\n",
       "        [0., 0., 0., 0., 0., 0., 0., 0., 0., 0.],\n",
       "        [0., 0., 0., 0., 0., 0., 0., 0., 0., 0.],\n",
       "        [0., 0., 0., 0., 0., 0., 0., 0., 0., 0.]],\n",
       "\n",
       "       [[0., 0., 0., 0., 0., 0., 0., 0., 0., 0.],\n",
       "        [0., 0., 0., 0., 0., 0., 0., 0., 0., 0.],\n",
       "        [0., 0., 0., 0., 0., 0., 0., 0., 0., 0.],\n",
       "        [0., 0., 0., 0., 0., 0., 0., 0., 0., 0.]]])"
      ]
     },
     "execution_count": 47,
     "metadata": {},
     "output_type": "execute_result"
    }
   ],
   "source": [
    "np.zeros([2,4,10])"
   ]
  },
  {
   "cell_type": "markdown",
   "id": "63053de6",
   "metadata": {},
   "source": [
    "#### Difference Between Dot and Multiplication"
   ]
  },
  {
   "cell_type": "markdown",
   "id": "d225db59",
   "metadata": {},
   "source": [
    "- Multiplication of two real numbers gives you back a real number, whereas the dot product of two vectors in general does not give you back a vector of the same space, but a real number "
   ]
  },
  {
   "cell_type": "code",
   "execution_count": 48,
   "id": "9fbded90",
   "metadata": {},
   "outputs": [],
   "source": [
    "n11 = np.array([[66,34],[61,38]])"
   ]
  },
  {
   "cell_type": "code",
   "execution_count": 49,
   "id": "fe11e297",
   "metadata": {},
   "outputs": [
    {
     "data": {
      "text/plain": [
       "array([[66, 34],\n",
       "       [61, 38]])"
      ]
     },
     "execution_count": 49,
     "metadata": {},
     "output_type": "execute_result"
    }
   ],
   "source": [
    "n11"
   ]
  },
  {
   "cell_type": "code",
   "execution_count": 50,
   "id": "db2a612f",
   "metadata": {},
   "outputs": [],
   "source": [
    "n12 = np.array([[46,84],[50,70]])"
   ]
  },
  {
   "cell_type": "code",
   "execution_count": 51,
   "id": "3058c126",
   "metadata": {},
   "outputs": [
    {
     "data": {
      "text/plain": [
       "array([[46, 84],\n",
       "       [50, 70]])"
      ]
     },
     "execution_count": 51,
     "metadata": {},
     "output_type": "execute_result"
    }
   ],
   "source": [
    "n12"
   ]
  },
  {
   "cell_type": "code",
   "execution_count": 52,
   "id": "f61dbdf7",
   "metadata": {},
   "outputs": [
    {
     "data": {
      "text/plain": [
       "array([[3036, 2856],\n",
       "       [3050, 2660]])"
      ]
     },
     "execution_count": 52,
     "metadata": {},
     "output_type": "execute_result"
    }
   ],
   "source": [
    "np.multiply(n11,n12)"
   ]
  },
  {
   "cell_type": "code",
   "execution_count": 53,
   "id": "ffa6c731",
   "metadata": {},
   "outputs": [
    {
     "data": {
      "text/plain": [
       "array([[4736, 7924],\n",
       "       [4706, 7784]])"
      ]
     },
     "execution_count": 53,
     "metadata": {},
     "output_type": "execute_result"
    }
   ],
   "source": [
    "np.dot(n11,n12)"
   ]
  },
  {
   "cell_type": "code",
   "execution_count": 54,
   "id": "b6e55f0a",
   "metadata": {},
   "outputs": [
    {
     "data": {
      "text/plain": [
       "array([10, 12, 14, 16, 18, 20, 22, 24])"
      ]
     },
     "execution_count": 54,
     "metadata": {},
     "output_type": "execute_result"
    }
   ],
   "source": [
    "#Generate Seq Of No.\n",
    "np.arange(10,25,2)"
   ]
  },
  {
   "cell_type": "code",
   "execution_count": 55,
   "id": "0d0dcbcd",
   "metadata": {},
   "outputs": [
    {
     "data": {
      "text/plain": [
       "array([[1, 0, 0, 0, 0, 0, 0],\n",
       "       [0, 1, 0, 0, 0, 0, 0]])"
      ]
     },
     "execution_count": 55,
     "metadata": {},
     "output_type": "execute_result"
    }
   ],
   "source": [
    "#indentity Matrix\n",
    "np.eye(2,7,dtype='int')"
   ]
  },
  {
   "cell_type": "code",
   "execution_count": 56,
   "id": "0075af1f",
   "metadata": {},
   "outputs": [
    {
     "data": {
      "text/plain": [
       "array([[1.+0.j, 0.+0.j, 0.+0.j, 0.+0.j],\n",
       "       [0.+0.j, 1.+0.j, 0.+0.j, 0.+0.j],\n",
       "       [0.+0.j, 0.+0.j, 1.+0.j, 0.+0.j],\n",
       "       [0.+0.j, 0.+0.j, 0.+0.j, 1.+0.j]])"
      ]
     },
     "execution_count": 56,
     "metadata": {},
     "output_type": "execute_result"
    }
   ],
   "source": [
    "np.eye(4,4,dtype='complex')"
   ]
  },
  {
   "cell_type": "code",
   "execution_count": 57,
   "id": "b6f2522b",
   "metadata": {},
   "outputs": [
    {
     "data": {
      "text/plain": [
       "array([[1, 0, 0, 0, 0],\n",
       "       [0, 1, 0, 0, 0],\n",
       "       [0, 0, 1, 0, 0],\n",
       "       [0, 0, 0, 1, 0],\n",
       "       [0, 0, 0, 0, 1]])"
      ]
     },
     "execution_count": 57,
     "metadata": {},
     "output_type": "execute_result"
    }
   ],
   "source": [
    "np.identity(5,dtype='int')"
   ]
  },
  {
   "cell_type": "code",
   "execution_count": 58,
   "id": "c0da1961",
   "metadata": {},
   "outputs": [
    {
     "data": {
      "text/plain": [
       "144"
      ]
     },
     "execution_count": 58,
     "metadata": {},
     "output_type": "execute_result"
    }
   ],
   "source": [
    "#to generate random no.\n",
    "np.random.randint(245)"
   ]
  },
  {
   "cell_type": "code",
   "execution_count": 59,
   "id": "09ef1c38",
   "metadata": {},
   "outputs": [
    {
     "data": {
      "text/plain": [
       "array([0.98586038, 0.13967727, 0.26404407, 0.20176145, 0.32088687,\n",
       "       0.15525493, 0.20963152, 0.67039913, 0.55135496, 0.27477091,\n",
       "       0.40945014, 0.43974492, 0.59831009, 0.87674103, 0.72659356,\n",
       "       0.31420738, 0.36987579, 0.9267731 , 0.02399868, 0.22890383,\n",
       "       0.48353378, 0.10067984, 0.23086347, 0.82529818, 0.22001307])"
      ]
     },
     "execution_count": 59,
     "metadata": {},
     "output_type": "execute_result"
    }
   ],
   "source": [
    "#0-1\n",
    "np.random.rand(25) "
   ]
  },
  {
   "cell_type": "code",
   "execution_count": 60,
   "id": "6eb063d9",
   "metadata": {},
   "outputs": [
    {
     "data": {
      "text/plain": [
       "array([[32, 17, 31, 22],\n",
       "       [15, 23, 25, 18],\n",
       "       [23, 21, 15, 15],\n",
       "       [29, 24, 15, 25],\n",
       "       [21, 26, 20, 26]])"
      ]
     },
     "execution_count": 60,
     "metadata": {},
     "output_type": "execute_result"
    }
   ],
   "source": [
    "np.random.randint(15,35,size=[5,4])"
   ]
  },
  {
   "cell_type": "code",
   "execution_count": 61,
   "id": "f806afe3",
   "metadata": {},
   "outputs": [
    {
     "data": {
      "text/plain": [
       "array([[17, 15, 39, 46, 47],\n",
       "       [44, 31, 30, 46, 39],\n",
       "       [28, 27, 39, 17, 16]])"
      ]
     },
     "execution_count": 61,
     "metadata": {},
     "output_type": "execute_result"
    }
   ],
   "source": [
    "np.random.randint(15,50,size=[3,5])"
   ]
  },
  {
   "cell_type": "code",
   "execution_count": 62,
   "id": "e44cac3b",
   "metadata": {},
   "outputs": [
    {
     "data": {
      "text/plain": [
       "array([[45, 45],\n",
       "       [45, 45]])"
      ]
     },
     "execution_count": 62,
     "metadata": {},
     "output_type": "execute_result"
    }
   ],
   "source": [
    "np.full((2,2),45)"
   ]
  },
  {
   "cell_type": "markdown",
   "id": "04f7e1dd",
   "metadata": {},
   "source": [
    "### Statistics"
   ]
  },
  {
   "cell_type": "markdown",
   "id": "735601c7",
   "metadata": {},
   "source": [
    "#### Types Of Statstics"
   ]
  },
  {
   "cell_type": "markdown",
   "id": "d7aa846c",
   "metadata": {},
   "source": [
    "- Descriptive statistics\n",
    "- Inferential statistics"
   ]
  },
  {
   "cell_type": "markdown",
   "id": "66f69ee6",
   "metadata": {},
   "source": [
    "#### 1.Descriptive statistics"
   ]
  },
  {
   "cell_type": "markdown",
   "id": "e5dfe453",
   "metadata": {},
   "source": [
    "- In this type of statistics, the data is summarised through the given observations. The summarisation is one from a sample of population using parameters such as the mean or standard deviation.\n",
    "- Descriptive statistics is a way to organise, represent and describe a collection of data using tables, graphs, and summary measures. For example, the collection of people in a city using the internet or using Television."
   ]
  },
  {
   "cell_type": "markdown",
   "id": "f904f48b",
   "metadata": {},
   "source": [
    "#### 2.Inferential statistics"
   ]
  },
  {
   "cell_type": "markdown",
   "id": "c2e3842d",
   "metadata": {},
   "source": [
    "- This type of statistics is used to interpret the meaning of Descriptive statistics. That means once the data has been collected, analysed and summarised then we use these stats to describe the meaning of the collected data. Or we can say, it is used to draw conclusions from the data that depends on random variations such as observational errors, sampling variation, etc.\n",
    "- Inferential Statistics is a method that allows us to use information collected from a sample to make decisions, predictions or inferences from a population. It grants us permission to give statements that goes beyond the available data or information."
   ]
  },
  {
   "cell_type": "markdown",
   "id": "bc8a0584",
   "metadata": {},
   "source": [
    "- Mean\n",
    "- Median\n",
    "- Mode\n",
    "- Standard Deviation\n",
    "- Variance"
   ]
  },
  {
   "cell_type": "code",
   "execution_count": 63,
   "id": "e6a3fa4d",
   "metadata": {},
   "outputs": [],
   "source": [
    "S1 = [168,170,150,160,182,140,175,191,152,150]"
   ]
  },
  {
   "cell_type": "code",
   "execution_count": 64,
   "id": "c974df39",
   "metadata": {},
   "outputs": [
    {
     "data": {
      "text/plain": [
       "[168, 170, 150, 160, 182, 140, 175, 191, 152, 150]"
      ]
     },
     "execution_count": 64,
     "metadata": {},
     "output_type": "execute_result"
    }
   ],
   "source": [
    "S1"
   ]
  },
  {
   "cell_type": "markdown",
   "id": "be57a53c",
   "metadata": {},
   "source": [
    "#### 1.Mean"
   ]
  },
  {
   "cell_type": "markdown",
   "id": "713c5f80",
   "metadata": {},
   "source": [
    "- Mean is Sum of all data No. divided by No.of Values"
   ]
  },
  {
   "cell_type": "code",
   "execution_count": 65,
   "id": "110610ff",
   "metadata": {},
   "outputs": [
    {
     "data": {
      "text/plain": [
       "163.8"
      ]
     },
     "execution_count": 65,
     "metadata": {},
     "output_type": "execute_result"
    }
   ],
   "source": [
    "np.mean(S1)"
   ]
  },
  {
   "cell_type": "markdown",
   "id": "4c2cc857",
   "metadata": {},
   "source": [
    "#### 2.Median"
   ]
  },
  {
   "cell_type": "markdown",
   "id": "5d9bc080",
   "metadata": {},
   "source": [
    "- Median is Mid Value in Ordered data set.\n",
    "- Step 1: Arrange data in increasing order \n",
    "- Step 2: Determine how many numbers are in the data set = n \n",
    "- Step 3:  If n is odd: Median is the middle number and if n is even: Median is the average of two middle numbers "
   ]
  },
  {
   "cell_type": "code",
   "execution_count": 66,
   "id": "ac25da29",
   "metadata": {},
   "outputs": [
    {
     "data": {
      "text/plain": [
       "164.0"
      ]
     },
     "execution_count": 66,
     "metadata": {},
     "output_type": "execute_result"
    }
   ],
   "source": [
    "np.median(S1)"
   ]
  },
  {
   "cell_type": "markdown",
   "id": "190ececc",
   "metadata": {},
   "source": [
    "#### 3.Mode"
   ]
  },
  {
   "cell_type": "markdown",
   "id": "7b0aa3c5",
   "metadata": {},
   "source": [
    "- Mode is No. which occures most often in data set."
   ]
  },
  {
   "cell_type": "code",
   "execution_count": 67,
   "id": "09f0a812",
   "metadata": {},
   "outputs": [],
   "source": [
    "from scipy import stats"
   ]
  },
  {
   "cell_type": "code",
   "execution_count": 68,
   "id": "6be44f55",
   "metadata": {},
   "outputs": [
    {
     "name": "stderr",
     "output_type": "stream",
     "text": [
      "C:\\Users\\tsd95\\AppData\\Local\\Temp\\ipykernel_8056\\1378483382.py:1: FutureWarning: Unlike other reduction functions (e.g. `skew`, `kurtosis`), the default behavior of `mode` typically preserves the axis it acts along. In SciPy 1.11.0, this behavior will change: the default value of `keepdims` will become False, the `axis` over which the statistic is taken will be eliminated, and the value None will no longer be accepted. Set `keepdims` to True or False to avoid this warning.\n",
      "  stats.mode(S1)\n"
     ]
    },
    {
     "data": {
      "text/plain": [
       "ModeResult(mode=array([150]), count=array([2]))"
      ]
     },
     "execution_count": 68,
     "metadata": {},
     "output_type": "execute_result"
    }
   ],
   "source": [
    "stats.mode(S1)"
   ]
  },
  {
   "cell_type": "markdown",
   "id": "7059dde0",
   "metadata": {},
   "source": [
    "#### 4.Variance"
   ]
  },
  {
   "cell_type": "markdown",
   "id": "804e2d61",
   "metadata": {},
   "source": [
    "- Variance is the numerical values that describe the variability of the observations from its arithmetic mean "
   ]
  },
  {
   "cell_type": "code",
   "execution_count": 69,
   "id": "acfb3b25",
   "metadata": {},
   "outputs": [
    {
     "data": {
      "text/plain": [
       "235.35999999999999"
      ]
     },
     "execution_count": 69,
     "metadata": {},
     "output_type": "execute_result"
    }
   ],
   "source": [
    "np.var(S1)"
   ]
  },
  {
   "cell_type": "markdown",
   "id": "6f830ef5",
   "metadata": {},
   "source": [
    "#### 5.Standard Deviation"
   ]
  },
  {
   "cell_type": "markdown",
   "id": "63c59371",
   "metadata": {},
   "source": [
    "- It is a measure of dispersion of observation within dataset relative to their mean.\n",
    "- std div is Square root of variance"
   ]
  },
  {
   "cell_type": "code",
   "execution_count": 70,
   "id": "f1ce2599",
   "metadata": {},
   "outputs": [
    {
     "data": {
      "text/plain": [
       "15.341447128612085"
      ]
     },
     "execution_count": 70,
     "metadata": {},
     "output_type": "execute_result"
    }
   ],
   "source": [
    "np.std(S1)"
   ]
  },
  {
   "cell_type": "markdown",
   "id": "9aabf583",
   "metadata": {},
   "source": [
    "#### Floor and Ceil"
   ]
  },
  {
   "cell_type": "code",
   "execution_count": 71,
   "id": "04efa1e5",
   "metadata": {},
   "outputs": [],
   "source": [
    "c1 = np.array([54.2,65.8,16.7,59.3,75.6])"
   ]
  },
  {
   "cell_type": "code",
   "execution_count": 72,
   "id": "d57efc41",
   "metadata": {},
   "outputs": [
    {
     "data": {
      "text/plain": [
       "array([54., 65., 16., 59., 75.])"
      ]
     },
     "execution_count": 72,
     "metadata": {},
     "output_type": "execute_result"
    }
   ],
   "source": [
    "np.floor(c1)"
   ]
  },
  {
   "cell_type": "code",
   "execution_count": 73,
   "id": "05c31c08",
   "metadata": {},
   "outputs": [
    {
     "data": {
      "text/plain": [
       "array([55., 66., 17., 60., 76.])"
      ]
     },
     "execution_count": 73,
     "metadata": {},
     "output_type": "execute_result"
    }
   ],
   "source": [
    "np.ceil(c1)"
   ]
  },
  {
   "cell_type": "code",
   "execution_count": 74,
   "id": "25dd0374",
   "metadata": {},
   "outputs": [],
   "source": [
    "c2 = np.array([-2.1,-3.8,-7.9,-9.2,-6.6])"
   ]
  },
  {
   "cell_type": "code",
   "execution_count": 75,
   "id": "03f72319",
   "metadata": {},
   "outputs": [
    {
     "data": {
      "text/plain": [
       "array([-2.1, -3.8, -7.9, -9.2, -6.6])"
      ]
     },
     "execution_count": 75,
     "metadata": {},
     "output_type": "execute_result"
    }
   ],
   "source": [
    "c2"
   ]
  },
  {
   "cell_type": "code",
   "execution_count": 76,
   "id": "2eed7e94",
   "metadata": {},
   "outputs": [
    {
     "data": {
      "text/plain": [
       "array([ -3.,  -4.,  -8., -10.,  -7.])"
      ]
     },
     "execution_count": 76,
     "metadata": {},
     "output_type": "execute_result"
    }
   ],
   "source": [
    "np.floor(c2)"
   ]
  },
  {
   "cell_type": "code",
   "execution_count": 77,
   "id": "e86bbe25",
   "metadata": {},
   "outputs": [
    {
     "data": {
      "text/plain": [
       "array([-2., -3., -7., -9., -6.])"
      ]
     },
     "execution_count": 77,
     "metadata": {},
     "output_type": "execute_result"
    }
   ],
   "source": [
    "np.ceil(c2)"
   ]
  },
  {
   "cell_type": "code",
   "execution_count": null,
   "id": "af2a66a3",
   "metadata": {},
   "outputs": [],
   "source": []
  },
  {
   "cell_type": "code",
   "execution_count": null,
   "id": "4ea22604",
   "metadata": {},
   "outputs": [],
   "source": []
  },
  {
   "cell_type": "code",
   "execution_count": null,
   "id": "2a8c1288",
   "metadata": {},
   "outputs": [],
   "source": []
  },
  {
   "cell_type": "markdown",
   "id": "ec5a2762",
   "metadata": {},
   "source": [
    "### End Here"
   ]
  },
  {
   "cell_type": "markdown",
   "id": "2ede0efc",
   "metadata": {},
   "source": [
    "##### Start Part 2"
   ]
  },
  {
   "cell_type": "code",
   "execution_count": 78,
   "id": "cac55ae4",
   "metadata": {},
   "outputs": [],
   "source": [
    "a = np.array([1,2,3])"
   ]
  },
  {
   "cell_type": "code",
   "execution_count": 79,
   "id": "964b7442",
   "metadata": {},
   "outputs": [
    {
     "data": {
      "text/plain": [
       "numpy.ndarray"
      ]
     },
     "execution_count": 79,
     "metadata": {},
     "output_type": "execute_result"
    }
   ],
   "source": [
    "type(a)"
   ]
  },
  {
   "cell_type": "code",
   "execution_count": 80,
   "id": "593871f2",
   "metadata": {},
   "outputs": [
    {
     "data": {
      "text/plain": [
       "1"
      ]
     },
     "execution_count": 80,
     "metadata": {},
     "output_type": "execute_result"
    }
   ],
   "source": [
    "a.ndim"
   ]
  },
  {
   "cell_type": "code",
   "execution_count": 81,
   "id": "e371825f",
   "metadata": {},
   "outputs": [
    {
     "data": {
      "text/plain": [
       "3"
      ]
     },
     "execution_count": 81,
     "metadata": {},
     "output_type": "execute_result"
    }
   ],
   "source": [
    "a[2]"
   ]
  },
  {
   "cell_type": "code",
   "execution_count": 82,
   "id": "3012bd5d",
   "metadata": {},
   "outputs": [],
   "source": [
    "b = np.array([[1,2,3],\n",
    "              [4,5,6],\n",
    "              [7,8,9]])"
   ]
  },
  {
   "cell_type": "code",
   "execution_count": 83,
   "id": "85ed2bae",
   "metadata": {},
   "outputs": [
    {
     "data": {
      "text/plain": [
       "2"
      ]
     },
     "execution_count": 83,
     "metadata": {},
     "output_type": "execute_result"
    }
   ],
   "source": [
    "b.ndim"
   ]
  },
  {
   "cell_type": "code",
   "execution_count": 84,
   "id": "adc42071",
   "metadata": {},
   "outputs": [
    {
     "data": {
      "text/plain": [
       "dtype('int32')"
      ]
     },
     "execution_count": 84,
     "metadata": {},
     "output_type": "execute_result"
    }
   ],
   "source": [
    "b.dtype"
   ]
  },
  {
   "cell_type": "code",
   "execution_count": 85,
   "id": "5e9db99a",
   "metadata": {},
   "outputs": [],
   "source": [
    "c=np.array([[4,5,6],[7,8,9]])"
   ]
  },
  {
   "cell_type": "code",
   "execution_count": 86,
   "id": "35e59fc8",
   "metadata": {},
   "outputs": [
    {
     "data": {
      "text/plain": [
       "2"
      ]
     },
     "execution_count": 86,
     "metadata": {},
     "output_type": "execute_result"
    }
   ],
   "source": [
    "c.ndim"
   ]
  },
  {
   "cell_type": "code",
   "execution_count": 87,
   "id": "7cbcdbc1",
   "metadata": {},
   "outputs": [
    {
     "data": {
      "text/plain": [
       "array([[1, 2, 3],\n",
       "       [4, 5, 6]])"
      ]
     },
     "execution_count": 87,
     "metadata": {},
     "output_type": "execute_result"
    }
   ],
   "source": [
    "b[0:2]"
   ]
  },
  {
   "cell_type": "code",
   "execution_count": 88,
   "id": "69fc04f0",
   "metadata": {},
   "outputs": [
    {
     "data": {
      "text/plain": [
       "6"
      ]
     },
     "execution_count": 88,
     "metadata": {},
     "output_type": "execute_result"
    }
   ],
   "source": [
    "b[1,2]"
   ]
  },
  {
   "cell_type": "code",
   "execution_count": 89,
   "id": "6630b4b6",
   "metadata": {},
   "outputs": [],
   "source": [
    "b[1,2]=20"
   ]
  },
  {
   "cell_type": "code",
   "execution_count": 90,
   "id": "ceebfbb7",
   "metadata": {},
   "outputs": [
    {
     "data": {
      "text/plain": [
       "array([[ 1,  2,  3],\n",
       "       [ 4,  5, 20],\n",
       "       [ 7,  8,  9]])"
      ]
     },
     "execution_count": 90,
     "metadata": {},
     "output_type": "execute_result"
    }
   ],
   "source": [
    "b"
   ]
  },
  {
   "cell_type": "code",
   "execution_count": 91,
   "id": "06d5c1d6",
   "metadata": {},
   "outputs": [
    {
     "data": {
      "text/plain": [
       "array([[0., 0., 0.],\n",
       "       [0., 0., 0.],\n",
       "       [0., 0., 0.]])"
      ]
     },
     "execution_count": 91,
     "metadata": {},
     "output_type": "execute_result"
    }
   ],
   "source": [
    "np.zeros((3,3))"
   ]
  },
  {
   "cell_type": "code",
   "execution_count": 92,
   "id": "01ca65e9",
   "metadata": {},
   "outputs": [
    {
     "data": {
      "text/plain": [
       "array([[1., 1., 1., ..., 1., 1., 1.],\n",
       "       [1., 1., 1., ..., 1., 1., 1.],\n",
       "       [1., 1., 1., ..., 1., 1., 1.],\n",
       "       ...,\n",
       "       [1., 1., 1., ..., 1., 1., 1.],\n",
       "       [1., 1., 1., ..., 1., 1., 1.],\n",
       "       [1., 1., 1., ..., 1., 1., 1.]])"
      ]
     },
     "execution_count": 92,
     "metadata": {},
     "output_type": "execute_result"
    }
   ],
   "source": [
    "np.ones((45,45))"
   ]
  },
  {
   "cell_type": "code",
   "execution_count": 93,
   "id": "4aa11b3f",
   "metadata": {},
   "outputs": [
    {
     "data": {
      "text/plain": [
       "array([[45, 45],\n",
       "       [45, 45]])"
      ]
     },
     "execution_count": 93,
     "metadata": {},
     "output_type": "execute_result"
    }
   ],
   "source": [
    "np.full((2,2),45)"
   ]
  },
  {
   "cell_type": "code",
   "execution_count": 94,
   "id": "63ea6382",
   "metadata": {},
   "outputs": [
    {
     "data": {
      "text/plain": [
       "array([[39,  4, 43],\n",
       "       [18, 43, 15],\n",
       "       [42, 38, 16]])"
      ]
     },
     "execution_count": 94,
     "metadata": {},
     "output_type": "execute_result"
    }
   ],
   "source": [
    "np.random.randint(3,45,size=(3,3))"
   ]
  },
  {
   "cell_type": "code",
   "execution_count": 95,
   "id": "37bb9844",
   "metadata": {},
   "outputs": [
    {
     "data": {
      "text/plain": [
       "array([[1, 0, 0, 0],\n",
       "       [0, 1, 0, 0],\n",
       "       [0, 0, 1, 0],\n",
       "       [0, 0, 0, 1]])"
      ]
     },
     "execution_count": 95,
     "metadata": {},
     "output_type": "execute_result"
    }
   ],
   "source": [
    "np.identity(4,dtype='int32')"
   ]
  },
  {
   "cell_type": "code",
   "execution_count": 96,
   "id": "a55698ea",
   "metadata": {},
   "outputs": [],
   "source": [
    "x = np.array(([1,2,3],[4,5,6],[7,8,9]))"
   ]
  },
  {
   "cell_type": "code",
   "execution_count": 97,
   "id": "1da76fd2",
   "metadata": {},
   "outputs": [],
   "source": [
    "y= np.array(([1,2,3],[4,5,6],[7,8,9]))"
   ]
  },
  {
   "cell_type": "code",
   "execution_count": 98,
   "id": "2fbf2a09",
   "metadata": {},
   "outputs": [
    {
     "data": {
      "text/plain": [
       "array([[ 1,  4,  9],\n",
       "       [16, 25, 36],\n",
       "       [49, 64, 81]])"
      ]
     },
     "execution_count": 98,
     "metadata": {},
     "output_type": "execute_result"
    }
   ],
   "source": [
    "x*y"
   ]
  },
  {
   "cell_type": "code",
   "execution_count": 99,
   "id": "121b8fc0",
   "metadata": {},
   "outputs": [
    {
     "data": {
      "text/plain": [
       "array([[0.5, 1. , 1.5],\n",
       "       [2. , 2.5, 3. ],\n",
       "       [3.5, 4. , 4.5]])"
      ]
     },
     "execution_count": 99,
     "metadata": {},
     "output_type": "execute_result"
    }
   ],
   "source": [
    "x/2"
   ]
  },
  {
   "cell_type": "code",
   "execution_count": 100,
   "id": "c527979d",
   "metadata": {},
   "outputs": [
    {
     "data": {
      "text/plain": [
       "array([[ 2,  4,  6],\n",
       "       [ 8, 10, 12],\n",
       "       [14, 16, 18]])"
      ]
     },
     "execution_count": 100,
     "metadata": {},
     "output_type": "execute_result"
    }
   ],
   "source": [
    "x+y"
   ]
  },
  {
   "cell_type": "code",
   "execution_count": 101,
   "id": "f9261b3e",
   "metadata": {},
   "outputs": [
    {
     "data": {
      "text/plain": [
       "3"
      ]
     },
     "execution_count": 101,
     "metadata": {},
     "output_type": "execute_result"
    }
   ],
   "source": [
    "np.max(a)"
   ]
  },
  {
   "cell_type": "code",
   "execution_count": 102,
   "id": "d5194607",
   "metadata": {},
   "outputs": [
    {
     "data": {
      "text/plain": [
       "2.0"
      ]
     },
     "execution_count": 102,
     "metadata": {},
     "output_type": "execute_result"
    }
   ],
   "source": [
    "np.mean(a)"
   ]
  },
  {
   "cell_type": "code",
   "execution_count": 103,
   "id": "00504ce8",
   "metadata": {},
   "outputs": [
    {
     "data": {
      "text/plain": [
       "array([ 0.54030231, -0.41614684, -0.9899925 ])"
      ]
     },
     "execution_count": 103,
     "metadata": {},
     "output_type": "execute_result"
    }
   ],
   "source": [
    "np.cos(a)"
   ]
  },
  {
   "cell_type": "code",
   "execution_count": 104,
   "id": "ec71f616",
   "metadata": {},
   "outputs": [
    {
     "data": {
      "text/plain": [
       "(3, 3)"
      ]
     },
     "execution_count": 104,
     "metadata": {},
     "output_type": "execute_result"
    }
   ],
   "source": [
    "x.shape"
   ]
  },
  {
   "cell_type": "code",
   "execution_count": 105,
   "id": "f41aa97c",
   "metadata": {},
   "outputs": [],
   "source": [
    "z= np.array(([1,2,3],[4,5,6]))"
   ]
  },
  {
   "cell_type": "code",
   "execution_count": 106,
   "id": "e2863062",
   "metadata": {},
   "outputs": [],
   "source": [
    "t=np.array(([1,2,3],[4,5,6]))"
   ]
  },
  {
   "cell_type": "code",
   "execution_count": 107,
   "id": "ae9e2ae9",
   "metadata": {},
   "outputs": [
    {
     "data": {
      "text/plain": [
       "array([[ 1,  4,  9],\n",
       "       [16, 25, 36]])"
      ]
     },
     "execution_count": 107,
     "metadata": {},
     "output_type": "execute_result"
    }
   ],
   "source": [
    "z*t"
   ]
  },
  {
   "cell_type": "code",
   "execution_count": 108,
   "id": "4a136ec1",
   "metadata": {},
   "outputs": [
    {
     "data": {
      "text/plain": [
       "(2, 3)"
      ]
     },
     "execution_count": 108,
     "metadata": {},
     "output_type": "execute_result"
    }
   ],
   "source": [
    "z.shape"
   ]
  },
  {
   "cell_type": "code",
   "execution_count": 109,
   "id": "55e14772",
   "metadata": {},
   "outputs": [
    {
     "data": {
      "text/plain": [
       "array([[1, 2],\n",
       "       [3, 4],\n",
       "       [5, 6]])"
      ]
     },
     "execution_count": 109,
     "metadata": {},
     "output_type": "execute_result"
    }
   ],
   "source": [
    "z.reshape(3,2)"
   ]
  },
  {
   "cell_type": "code",
   "execution_count": 110,
   "id": "9dd54c7f",
   "metadata": {},
   "outputs": [],
   "source": [
    "g=np.genfromtxt(r\"C:\\Users\\tsd95\\CSV Files\\Model\\test.csv\",delimiter=',')"
   ]
  },
  {
   "cell_type": "code",
   "execution_count": 111,
   "id": "19e45e4d",
   "metadata": {},
   "outputs": [
    {
     "data": {
      "text/plain": [
       "array([[ nan,  nan,  nan],\n",
       "       [105.,  nan,  nan],\n",
       "       [106.,  nan,  nan],\n",
       "       [107.,  nan,  nan]])"
      ]
     },
     "execution_count": 111,
     "metadata": {},
     "output_type": "execute_result"
    }
   ],
   "source": [
    "g"
   ]
  },
  {
   "cell_type": "code",
   "execution_count": null,
   "id": "2242cfb6",
   "metadata": {},
   "outputs": [],
   "source": []
  },
  {
   "cell_type": "code",
   "execution_count": null,
   "id": "76c8ac72",
   "metadata": {},
   "outputs": [],
   "source": []
  },
  {
   "cell_type": "code",
   "execution_count": null,
   "id": "edba1a76",
   "metadata": {},
   "outputs": [],
   "source": []
  },
  {
   "cell_type": "code",
   "execution_count": null,
   "id": "534c7eff",
   "metadata": {},
   "outputs": [],
   "source": []
  },
  {
   "cell_type": "code",
   "execution_count": null,
   "id": "4f753db5",
   "metadata": {},
   "outputs": [],
   "source": []
  },
  {
   "cell_type": "code",
   "execution_count": null,
   "id": "ee0269fa",
   "metadata": {},
   "outputs": [],
   "source": []
  }
 ],
 "metadata": {
  "kernelspec": {
   "display_name": "Python 3 (ipykernel)",
   "language": "python",
   "name": "python3"
  },
  "language_info": {
   "codemirror_mode": {
    "name": "ipython",
    "version": 3
   },
   "file_extension": ".py",
   "mimetype": "text/x-python",
   "name": "python",
   "nbconvert_exporter": "python",
   "pygments_lexer": "ipython3",
   "version": "3.10.9"
  }
 },
 "nbformat": 4,
 "nbformat_minor": 5
}
